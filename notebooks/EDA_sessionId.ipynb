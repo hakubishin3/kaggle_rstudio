{
 "cells": [
  {
   "cell_type": "code",
   "execution_count": 1,
   "metadata": {},
   "outputs": [],
   "source": [
    "import feather\n",
    "import pandas as pd\n",
    "import numpy as np\n",
    "import matplotlib.pyplot as plt\n",
    "from IPython.display import display"
   ]
  },
  {
   "cell_type": "code",
   "execution_count": 2,
   "metadata": {},
   "outputs": [
    {
     "data": {
      "text/plain": [
       "((903653, 55), (804684, 53))"
      ]
     },
     "execution_count": 2,
     "metadata": {},
     "output_type": "execute_result"
    }
   ],
   "source": [
    "train = feather.read_dataframe('../data/interim/train.ftr')\n",
    "test = feather.read_dataframe('../data/interim/test.ftr')\n",
    "train.shape, test.shape"
   ]
  },
  {
   "cell_type": "code",
   "execution_count": 3,
   "metadata": {},
   "outputs": [
    {
     "data": {
      "text/html": [
       "<div>\n",
       "<style scoped>\n",
       "    .dataframe tbody tr th:only-of-type {\n",
       "        vertical-align: middle;\n",
       "    }\n",
       "\n",
       "    .dataframe tbody tr th {\n",
       "        vertical-align: top;\n",
       "    }\n",
       "\n",
       "    .dataframe thead th {\n",
       "        text-align: right;\n",
       "    }\n",
       "</style>\n",
       "<table border=\"1\" class=\"dataframe\">\n",
       "  <thead>\n",
       "    <tr style=\"text-align: right;\">\n",
       "      <th></th>\n",
       "      <th>fullVisitorId</th>\n",
       "      <th>sessionId</th>\n",
       "      <th>visitId</th>\n",
       "    </tr>\n",
       "  </thead>\n",
       "  <tbody>\n",
       "    <tr>\n",
       "      <th>0</th>\n",
       "      <td>1131660440785968503</td>\n",
       "      <td>1131660440785968503_1472830385</td>\n",
       "      <td>1472830385</td>\n",
       "    </tr>\n",
       "    <tr>\n",
       "      <th>1</th>\n",
       "      <td>377306020877927890</td>\n",
       "      <td>377306020877927890_1472880147</td>\n",
       "      <td>1472880147</td>\n",
       "    </tr>\n",
       "    <tr>\n",
       "      <th>2</th>\n",
       "      <td>3895546263509774583</td>\n",
       "      <td>3895546263509774583_1472865386</td>\n",
       "      <td>1472865386</td>\n",
       "    </tr>\n",
       "    <tr>\n",
       "      <th>3</th>\n",
       "      <td>4763447161404445595</td>\n",
       "      <td>4763447161404445595_1472881213</td>\n",
       "      <td>1472881213</td>\n",
       "    </tr>\n",
       "    <tr>\n",
       "      <th>4</th>\n",
       "      <td>27294437909732085</td>\n",
       "      <td>27294437909732085_1472822600</td>\n",
       "      <td>1472822600</td>\n",
       "    </tr>\n",
       "  </tbody>\n",
       "</table>\n",
       "</div>"
      ],
      "text/plain": [
       "         fullVisitorId                       sessionId     visitId\n",
       "0  1131660440785968503  1131660440785968503_1472830385  1472830385\n",
       "1   377306020877927890   377306020877927890_1472880147  1472880147\n",
       "2  3895546263509774583  3895546263509774583_1472865386  1472865386\n",
       "3  4763447161404445595  4763447161404445595_1472881213  1472881213\n",
       "4    27294437909732085    27294437909732085_1472822600  1472822600"
      ]
     },
     "execution_count": 3,
     "metadata": {},
     "output_type": "execute_result"
    }
   ],
   "source": [
    "train[[\"fullVisitorId\", \"sessionId\", \"visitId\"]].head(5)"
   ]
  },
  {
   "cell_type": "code",
   "execution_count": 4,
   "metadata": {},
   "outputs": [
    {
     "data": {
      "text/plain": [
       "(0, 0)"
      ]
     },
     "execution_count": 4,
     "metadata": {},
     "output_type": "execute_result"
    }
   ],
   "source": [
    "# sessionId = fullVisitorId _ visitId\n",
    "def check_sessionId(data):\n",
    "    data['make_sessionId'] = f'{data[\"fullVisitorId\"]}_data[\"visitId\"]'\n",
    "    sum_ = (data['make_sessionId'] == data['sessionId']).sum()\n",
    "    return sum_\n",
    "\n",
    "check_sessionId(train), check_sessionId(test)"
   ]
  },
  {
   "cell_type": "code",
   "execution_count": 5,
   "metadata": {},
   "outputs": [
    {
     "name": "stdout",
     "output_type": "stream",
     "text": [
      "Number of unique visitor in train set: 902755 out of rows: 903653 and ratio is: 0.9990062557198394\n",
      "Number of unique visitor in test set: 803863 out of rows: 804684 and ratio is: 0.9989797237176332\n",
      "Number of common visitors in train and test set: 5\n"
     ]
    }
   ],
   "source": [
    "print('Number of unique visitor in train set:', train[\"sessionId\"].nunique(), \\\n",
    "      'out of rows:', len(train), \\\n",
    "      'and ratio is:', train['sessionId'].nunique()/len(train))\n",
    "\n",
    "print('Number of unique visitor in test set:', test[\"sessionId\"].nunique(), \\\n",
    "      'out of rows:', len(test), \\\n",
    "      'and ratio is:', test['sessionId'].nunique()/len(test))\n",
    "\n",
    "id_train_test = set(train.sessionId.unique()).intersection(set(test.sessionId.unique()))\n",
    "print(\"Number of common visitors in train and test set:\", len(id_train_test))"
   ]
  },
  {
   "cell_type": "code",
   "execution_count": 7,
   "metadata": {},
   "outputs": [
    {
     "data": {
      "text/plain": [
       "sessionId\n",
       "0011338928267756760_1471848731    2\n",
       "0014884852016449602_1483257533    2\n",
       "0019612470994343873_1496731675    2\n",
       "0031542961723593073_1495261490    2\n",
       "0039798900163330977_1485331011    2\n",
       "Name: date, dtype: int64"
      ]
     },
     "execution_count": 7,
     "metadata": {},
     "output_type": "execute_result"
    }
   ],
   "source": [
    "summary_train = train.groupby('sessionId').count()['date']\n",
    "summary_train[summary_train>1].head()"
   ]
  },
  {
   "cell_type": "markdown",
   "metadata": {},
   "source": [
    "### revenueとの関係"
   ]
  },
  {
   "cell_type": "code",
   "execution_count": 22,
   "metadata": {},
   "outputs": [
    {
     "name": "stdout",
     "output_type": "stream",
     "text": [
      "898\n",
      "37\n",
      "0.04120267260579064\n"
     ]
    }
   ],
   "source": [
    "notunique_train = summary_train[summary_train>1].index.tolist()\n",
    "print(len(notunique_train))\n",
    "n_notnullrevenue_train = train.query('sessionId in @notunique_train')['totals.transactionRevenue'].notnull().sum()\n",
    "print(n_notnullrevenue_train)\n",
    "print(n_notnullrevenue_train/len(notunique_train))"
   ]
  },
  {
   "cell_type": "markdown",
   "metadata": {},
   "source": [
    "### trainとtestで重複しているsessionId"
   ]
  },
  {
   "cell_type": "code",
   "execution_count": 8,
   "metadata": {},
   "outputs": [
    {
     "data": {
      "text/html": [
       "<div>\n",
       "<style scoped>\n",
       "    .dataframe tbody tr th:only-of-type {\n",
       "        vertical-align: middle;\n",
       "    }\n",
       "\n",
       "    .dataframe tbody tr th {\n",
       "        vertical-align: top;\n",
       "    }\n",
       "\n",
       "    .dataframe thead th {\n",
       "        text-align: right;\n",
       "    }\n",
       "</style>\n",
       "<table border=\"1\" class=\"dataframe\">\n",
       "  <thead>\n",
       "    <tr style=\"text-align: right;\">\n",
       "      <th></th>\n",
       "      <th>sessionId</th>\n",
       "      <th>visitId</th>\n",
       "      <th>visitStartTime</th>\n",
       "    </tr>\n",
       "  </thead>\n",
       "  <tbody>\n",
       "    <tr>\n",
       "      <th>63799</th>\n",
       "      <td>0167247604162700002_1501656404</td>\n",
       "      <td>1501656404</td>\n",
       "      <td>1501656404</td>\n",
       "    </tr>\n",
       "    <tr>\n",
       "      <th>63105</th>\n",
       "      <td>9945591060914032258_1501656843</td>\n",
       "      <td>1501656843</td>\n",
       "      <td>1501656843</td>\n",
       "    </tr>\n",
       "    <tr>\n",
       "      <th>62993</th>\n",
       "      <td>8775495552152201078_1501657013</td>\n",
       "      <td>1501657013</td>\n",
       "      <td>1501657013</td>\n",
       "    </tr>\n",
       "    <tr>\n",
       "      <th>64767</th>\n",
       "      <td>9952572636180683443_1501657166</td>\n",
       "      <td>1501657166</td>\n",
       "      <td>1501657166</td>\n",
       "    </tr>\n",
       "    <tr>\n",
       "      <th>65054</th>\n",
       "      <td>3800266955937177725_1501657186</td>\n",
       "      <td>1501657186</td>\n",
       "      <td>1501657186</td>\n",
       "    </tr>\n",
       "  </tbody>\n",
       "</table>\n",
       "</div>"
      ],
      "text/plain": [
       "                            sessionId     visitId  visitStartTime\n",
       "63799  0167247604162700002_1501656404  1501656404      1501656404\n",
       "63105  9945591060914032258_1501656843  1501656843      1501656843\n",
       "62993  8775495552152201078_1501657013  1501657013      1501657013\n",
       "64767  9952572636180683443_1501657166  1501657166      1501657166\n",
       "65054  3800266955937177725_1501657186  1501657186      1501657186"
      ]
     },
     "execution_count": 8,
     "metadata": {},
     "output_type": "execute_result"
    }
   ],
   "source": [
    "train.query('sessionId in @id_train_test')[['sessionId', 'visitId', 'visitStartTime']].sort_values('visitId')"
   ]
  },
  {
   "cell_type": "code",
   "execution_count": 9,
   "metadata": {},
   "outputs": [
    {
     "data": {
      "text/html": [
       "<div>\n",
       "<style scoped>\n",
       "    .dataframe tbody tr th:only-of-type {\n",
       "        vertical-align: middle;\n",
       "    }\n",
       "\n",
       "    .dataframe tbody tr th {\n",
       "        vertical-align: top;\n",
       "    }\n",
       "\n",
       "    .dataframe thead th {\n",
       "        text-align: right;\n",
       "    }\n",
       "</style>\n",
       "<table border=\"1\" class=\"dataframe\">\n",
       "  <thead>\n",
       "    <tr style=\"text-align: right;\">\n",
       "      <th></th>\n",
       "      <th>sessionId</th>\n",
       "      <th>visitId</th>\n",
       "      <th>visitStartTime</th>\n",
       "    </tr>\n",
       "  </thead>\n",
       "  <tbody>\n",
       "    <tr>\n",
       "      <th>614228</th>\n",
       "      <td>0167247604162700002_1501656404</td>\n",
       "      <td>1501656404</td>\n",
       "      <td>1501657280</td>\n",
       "    </tr>\n",
       "    <tr>\n",
       "      <th>614398</th>\n",
       "      <td>9945591060914032258_1501656843</td>\n",
       "      <td>1501656843</td>\n",
       "      <td>1501657213</td>\n",
       "    </tr>\n",
       "    <tr>\n",
       "      <th>613010</th>\n",
       "      <td>8775495552152201078_1501657013</td>\n",
       "      <td>1501657013</td>\n",
       "      <td>1501657239</td>\n",
       "    </tr>\n",
       "    <tr>\n",
       "      <th>613406</th>\n",
       "      <td>9952572636180683443_1501657166</td>\n",
       "      <td>1501657166</td>\n",
       "      <td>1501657216</td>\n",
       "    </tr>\n",
       "    <tr>\n",
       "      <th>613297</th>\n",
       "      <td>3800266955937177725_1501657186</td>\n",
       "      <td>1501657186</td>\n",
       "      <td>1501657203</td>\n",
       "    </tr>\n",
       "  </tbody>\n",
       "</table>\n",
       "</div>"
      ],
      "text/plain": [
       "                             sessionId     visitId  visitStartTime\n",
       "614228  0167247604162700002_1501656404  1501656404      1501657280\n",
       "614398  9945591060914032258_1501656843  1501656843      1501657213\n",
       "613010  8775495552152201078_1501657013  1501657013      1501657239\n",
       "613406  9952572636180683443_1501657166  1501657166      1501657216\n",
       "613297  3800266955937177725_1501657186  1501657186      1501657203"
      ]
     },
     "execution_count": 9,
     "metadata": {},
     "output_type": "execute_result"
    }
   ],
   "source": [
    "test.query('sessionId in @id_train_test')[['sessionId', 'visitId', 'visitStartTime']].sort_values('visitId')"
   ]
  },
  {
   "cell_type": "markdown",
   "metadata": {},
   "source": [
    "### visitStartTimeを加えたらユニークになる？"
   ]
  },
  {
   "cell_type": "markdown",
   "metadata": {},
   "source": [
    "- ユニークになる！"
   ]
  },
  {
   "cell_type": "code",
   "execution_count": 49,
   "metadata": {},
   "outputs": [
    {
     "data": {
      "text/plain": [
       "(1708337, 57)"
      ]
     },
     "execution_count": 49,
     "metadata": {},
     "output_type": "execute_result"
    }
   ],
   "source": [
    "train_tmp = train.copy()\n",
    "train_tmp['data_type'] = 'train'\n",
    "test_tmp = test.copy()\n",
    "test_tmp['data_type'] = 'test'\n",
    "\n",
    "total = pd.concat([train_tmp, test_tmp], axis=0, sort=True).reset_index(drop=True)\n",
    "total.shape"
   ]
  },
  {
   "cell_type": "code",
   "execution_count": 59,
   "metadata": {
    "scrolled": true
   },
   "outputs": [
    {
     "data": {
      "text/plain": [
       "0    1131660440785968503_1472830385_1472830385\n",
       "1     377306020877927890_1472880147_1472880147\n",
       "2    3895546263509774583_1472865386_1472865386\n",
       "3    4763447161404445595_1472881213_1472881213\n",
       "4      27294437909732085_1472822600_1472822600\n",
       "Name: unique_key, dtype: object"
      ]
     },
     "execution_count": 59,
     "metadata": {},
     "output_type": "execute_result"
    }
   ],
   "source": [
    "total['unique_key'] = total.apply(lambda x: x['sessionId']+'_'+str(x['visitStartTime']), axis=1)\n",
    "total['unique_key'].head()"
   ]
  },
  {
   "cell_type": "code",
   "execution_count": 60,
   "metadata": {},
   "outputs": [
    {
     "name": "stdout",
     "output_type": "stream",
     "text": [
      "Number of unique visitor in total set: 1708337 out of rows: 1708337 and ratio is: 1.0\n"
     ]
    }
   ],
   "source": [
    "print('Number of unique visitor in total set:', total[\"unique_key\"].nunique(), \\\n",
    "      'out of rows:', len(total), \\\n",
    "      'and ratio is:', total['unique_key'].nunique()/len(total))"
   ]
  },
  {
   "cell_type": "markdown",
   "metadata": {},
   "source": [
    "### 特徴量案"
   ]
  },
  {
   "cell_type": "code",
   "execution_count": 120,
   "metadata": {},
   "outputs": [
    {
     "data": {
      "text/plain": [
       "(1708337, 58)"
      ]
     },
     "execution_count": 120,
     "metadata": {},
     "output_type": "execute_result"
    }
   ],
   "source": [
    "total = pd.concat([train, test], axis=0, sort=False).reset_index(drop=True)\n",
    "total.shape"
   ]
  },
  {
   "cell_type": "code",
   "execution_count": 121,
   "metadata": {},
   "outputs": [],
   "source": [
    "train_range = range(0, len(train))\n",
    "test_range = range(len(train), len(train)+len(test))"
   ]
  },
  {
   "cell_type": "code",
   "execution_count": 122,
   "metadata": {
    "scrolled": true
   },
   "outputs": [
    {
     "data": {
      "text/plain": [
       "sessionId\n",
       "2975660081934341523_1470462204    2\n",
       "2048375829958304395_1507445996    2\n",
       "6238226081716604469_1479196770    2\n",
       "5150779880512338975_1510559969    2\n",
       "8688273984148160393_1516952524    2\n",
       "Name: date, dtype: int64"
      ]
     },
     "metadata": {},
     "output_type": "display_data"
    },
    {
     "data": {
      "text/plain": [
       "1724"
      ]
     },
     "execution_count": 122,
     "metadata": {},
     "output_type": "execute_result"
    }
   ],
   "source": [
    "summary_total = total.groupby('sessionId').count()['date']\n",
    "display(summary_total.sort_values(ascending=False).head())\n",
    "sessionId_overlap = summary_total[summary_total>1].index.tolist()\n",
    "len(sessionId_overlap)"
   ]
  },
  {
   "cell_type": "code",
   "execution_count": 123,
   "metadata": {},
   "outputs": [
    {
     "data": {
      "text/plain": [
       "3448"
      ]
     },
     "execution_count": 123,
     "metadata": {},
     "output_type": "execute_result"
    }
   ],
   "source": [
    "total['sessionId_overlap_flg'] = 0\n",
    "total['sessionId_overlap_flg'] = total['sessionId_overlap_flg'].where(~total['sessionId'].isin(sessionId_overlap), 1)\n",
    "(total['sessionId_overlap_flg']==1).sum()"
   ]
  },
  {
   "cell_type": "code",
   "execution_count": 132,
   "metadata": {
    "scrolled": true
   },
   "outputs": [
    {
     "data": {
      "text/html": [
       "<div>\n",
       "<style scoped>\n",
       "    .dataframe tbody tr th:only-of-type {\n",
       "        vertical-align: middle;\n",
       "    }\n",
       "\n",
       "    .dataframe tbody tr th {\n",
       "        vertical-align: top;\n",
       "    }\n",
       "\n",
       "    .dataframe thead th {\n",
       "        text-align: right;\n",
       "    }\n",
       "</style>\n",
       "<table border=\"1\" class=\"dataframe\">\n",
       "  <thead>\n",
       "    <tr style=\"text-align: right;\">\n",
       "      <th></th>\n",
       "      <th>sessionId</th>\n",
       "      <th>sessionId_overlap_flg</th>\n",
       "    </tr>\n",
       "  </thead>\n",
       "  <tbody>\n",
       "    <tr>\n",
       "      <th>0</th>\n",
       "      <td>1131660440785968503_1472830385</td>\n",
       "      <td>0</td>\n",
       "    </tr>\n",
       "    <tr>\n",
       "      <th>1</th>\n",
       "      <td>377306020877927890_1472880147</td>\n",
       "      <td>0</td>\n",
       "    </tr>\n",
       "    <tr>\n",
       "      <th>2</th>\n",
       "      <td>3895546263509774583_1472865386</td>\n",
       "      <td>0</td>\n",
       "    </tr>\n",
       "    <tr>\n",
       "      <th>3</th>\n",
       "      <td>4763447161404445595_1472881213</td>\n",
       "      <td>0</td>\n",
       "    </tr>\n",
       "    <tr>\n",
       "      <th>4</th>\n",
       "      <td>27294437909732085_1472822600</td>\n",
       "      <td>0</td>\n",
       "    </tr>\n",
       "    <tr>\n",
       "      <th>5</th>\n",
       "      <td>2938943183656635653_1472807194</td>\n",
       "      <td>0</td>\n",
       "    </tr>\n",
       "    <tr>\n",
       "      <th>6</th>\n",
       "      <td>1905672039242460897_1472817241</td>\n",
       "      <td>0</td>\n",
       "    </tr>\n",
       "    <tr>\n",
       "      <th>7</th>\n",
       "      <td>537222803633850821_1472812602</td>\n",
       "      <td>0</td>\n",
       "    </tr>\n",
       "    <tr>\n",
       "      <th>8</th>\n",
       "      <td>4445454811831400414_1472805784</td>\n",
       "      <td>0</td>\n",
       "    </tr>\n",
       "    <tr>\n",
       "      <th>9</th>\n",
       "      <td>9499785259412240342_1472812272</td>\n",
       "      <td>0</td>\n",
       "    </tr>\n",
       "    <tr>\n",
       "      <th>10</th>\n",
       "      <td>0523069750702990437_1472834967</td>\n",
       "      <td>0</td>\n",
       "    </tr>\n",
       "    <tr>\n",
       "      <th>11</th>\n",
       "      <td>982320996976275749_1472849434</td>\n",
       "      <td>0</td>\n",
       "    </tr>\n",
       "    <tr>\n",
       "      <th>12</th>\n",
       "      <td>357659889600827884_1472839882</td>\n",
       "      <td>0</td>\n",
       "    </tr>\n",
       "    <tr>\n",
       "      <th>13</th>\n",
       "      <td>1438082600262726746_1472803483</td>\n",
       "      <td>0</td>\n",
       "    </tr>\n",
       "    <tr>\n",
       "      <th>14</th>\n",
       "      <td>3531015320757710684_1472868337</td>\n",
       "      <td>0</td>\n",
       "    </tr>\n",
       "    <tr>\n",
       "      <th>15</th>\n",
       "      <td>9638207207743070032_1472824614</td>\n",
       "      <td>0</td>\n",
       "    </tr>\n",
       "    <tr>\n",
       "      <th>16</th>\n",
       "      <td>9876750586615598787_1472801099</td>\n",
       "      <td>0</td>\n",
       "    </tr>\n",
       "    <tr>\n",
       "      <th>17</th>\n",
       "      <td>2222266935962032743_1472826820</td>\n",
       "      <td>0</td>\n",
       "    </tr>\n",
       "    <tr>\n",
       "      <th>18</th>\n",
       "      <td>9674781571160116268_1472804607</td>\n",
       "      <td>0</td>\n",
       "    </tr>\n",
       "    <tr>\n",
       "      <th>19</th>\n",
       "      <td>3696906537737368442_1472856874</td>\n",
       "      <td>0</td>\n",
       "    </tr>\n",
       "    <tr>\n",
       "      <th>20</th>\n",
       "      <td>4478318070775453050_1472826420</td>\n",
       "      <td>0</td>\n",
       "    </tr>\n",
       "    <tr>\n",
       "      <th>21</th>\n",
       "      <td>6098154234696452861_1472863754</td>\n",
       "      <td>0</td>\n",
       "    </tr>\n",
       "    <tr>\n",
       "      <th>22</th>\n",
       "      <td>3323434834508685818_1472872530</td>\n",
       "      <td>0</td>\n",
       "    </tr>\n",
       "    <tr>\n",
       "      <th>23</th>\n",
       "      <td>3053576296023059465_1472808484</td>\n",
       "      <td>0</td>\n",
       "    </tr>\n",
       "    <tr>\n",
       "      <th>24</th>\n",
       "      <td>702736826487255366_1472806593</td>\n",
       "      <td>0</td>\n",
       "    </tr>\n",
       "    <tr>\n",
       "      <th>25</th>\n",
       "      <td>8794587387581803040_1472816048</td>\n",
       "      <td>0</td>\n",
       "    </tr>\n",
       "    <tr>\n",
       "      <th>26</th>\n",
       "      <td>3293772317640873624_1472808002</td>\n",
       "      <td>0</td>\n",
       "    </tr>\n",
       "    <tr>\n",
       "      <th>27</th>\n",
       "      <td>1283542838194038522_1472885255</td>\n",
       "      <td>0</td>\n",
       "    </tr>\n",
       "    <tr>\n",
       "      <th>28</th>\n",
       "      <td>4339756682310369249_1472828340</td>\n",
       "      <td>0</td>\n",
       "    </tr>\n",
       "    <tr>\n",
       "      <th>29</th>\n",
       "      <td>7598520899202646361_1472839261</td>\n",
       "      <td>0</td>\n",
       "    </tr>\n",
       "    <tr>\n",
       "      <th>...</th>\n",
       "      <td>...</td>\n",
       "      <td>...</td>\n",
       "    </tr>\n",
       "    <tr>\n",
       "      <th>903623</th>\n",
       "      <td>6636384798982309878_1483525429</td>\n",
       "      <td>0</td>\n",
       "    </tr>\n",
       "    <tr>\n",
       "      <th>903624</th>\n",
       "      <td>3949036270578731944_1483573406</td>\n",
       "      <td>0</td>\n",
       "    </tr>\n",
       "    <tr>\n",
       "      <th>903625</th>\n",
       "      <td>4684656080533369866_1483580548</td>\n",
       "      <td>0</td>\n",
       "    </tr>\n",
       "    <tr>\n",
       "      <th>903626</th>\n",
       "      <td>7801696731785804023_1483555912</td>\n",
       "      <td>0</td>\n",
       "    </tr>\n",
       "    <tr>\n",
       "      <th>903627</th>\n",
       "      <td>3565144164947525505_1483518594</td>\n",
       "      <td>0</td>\n",
       "    </tr>\n",
       "    <tr>\n",
       "      <th>903628</th>\n",
       "      <td>3005401591149517997_1483520492</td>\n",
       "      <td>0</td>\n",
       "    </tr>\n",
       "    <tr>\n",
       "      <th>903629</th>\n",
       "      <td>7822582517551956770_1483534287</td>\n",
       "      <td>0</td>\n",
       "    </tr>\n",
       "    <tr>\n",
       "      <th>903630</th>\n",
       "      <td>7571054099312183947_1483593323</td>\n",
       "      <td>0</td>\n",
       "    </tr>\n",
       "    <tr>\n",
       "      <th>903631</th>\n",
       "      <td>294595150038603302_1483535458</td>\n",
       "      <td>0</td>\n",
       "    </tr>\n",
       "    <tr>\n",
       "      <th>903632</th>\n",
       "      <td>7284032090862821897_1483533556</td>\n",
       "      <td>0</td>\n",
       "    </tr>\n",
       "    <tr>\n",
       "      <th>903633</th>\n",
       "      <td>1333556093287030274_1483550538</td>\n",
       "      <td>0</td>\n",
       "    </tr>\n",
       "    <tr>\n",
       "      <th>903634</th>\n",
       "      <td>3591531861629139100_1483534920</td>\n",
       "      <td>0</td>\n",
       "    </tr>\n",
       "    <tr>\n",
       "      <th>903635</th>\n",
       "      <td>015965500276524997_1483556696</td>\n",
       "      <td>0</td>\n",
       "    </tr>\n",
       "    <tr>\n",
       "      <th>903636</th>\n",
       "      <td>8051164218376407640_1483561580</td>\n",
       "      <td>0</td>\n",
       "    </tr>\n",
       "    <tr>\n",
       "      <th>903637</th>\n",
       "      <td>7660319315190231588_1483548841</td>\n",
       "      <td>0</td>\n",
       "    </tr>\n",
       "    <tr>\n",
       "      <th>903638</th>\n",
       "      <td>05448851847875728_1483533179</td>\n",
       "      <td>0</td>\n",
       "    </tr>\n",
       "    <tr>\n",
       "      <th>903639</th>\n",
       "      <td>168043908052904808_1483541485</td>\n",
       "      <td>0</td>\n",
       "    </tr>\n",
       "    <tr>\n",
       "      <th>903640</th>\n",
       "      <td>9848590538979672883_1483569025</td>\n",
       "      <td>0</td>\n",
       "    </tr>\n",
       "    <tr>\n",
       "      <th>903641</th>\n",
       "      <td>8148306613900803238_1483589327</td>\n",
       "      <td>0</td>\n",
       "    </tr>\n",
       "    <tr>\n",
       "      <th>903642</th>\n",
       "      <td>469840327005431380_1483573235</td>\n",
       "      <td>0</td>\n",
       "    </tr>\n",
       "    <tr>\n",
       "      <th>903643</th>\n",
       "      <td>056144239667131330_1483600246</td>\n",
       "      <td>0</td>\n",
       "    </tr>\n",
       "    <tr>\n",
       "      <th>903644</th>\n",
       "      <td>256641390199759052_1483556333</td>\n",
       "      <td>0</td>\n",
       "    </tr>\n",
       "    <tr>\n",
       "      <th>903645</th>\n",
       "      <td>2035095632074835075_1483570454</td>\n",
       "      <td>0</td>\n",
       "    </tr>\n",
       "    <tr>\n",
       "      <th>903646</th>\n",
       "      <td>567297396362985009_1483581760</td>\n",
       "      <td>0</td>\n",
       "    </tr>\n",
       "    <tr>\n",
       "      <th>903647</th>\n",
       "      <td>2140149974339316233_1483557808</td>\n",
       "      <td>0</td>\n",
       "    </tr>\n",
       "    <tr>\n",
       "      <th>903648</th>\n",
       "      <td>5123779100307500332_1483554750</td>\n",
       "      <td>0</td>\n",
       "    </tr>\n",
       "    <tr>\n",
       "      <th>903649</th>\n",
       "      <td>7231728964973959842_1483543798</td>\n",
       "      <td>0</td>\n",
       "    </tr>\n",
       "    <tr>\n",
       "      <th>903650</th>\n",
       "      <td>5744576632396406899_1483526434</td>\n",
       "      <td>0</td>\n",
       "    </tr>\n",
       "    <tr>\n",
       "      <th>903651</th>\n",
       "      <td>2709355455991750775_1483592857</td>\n",
       "      <td>0</td>\n",
       "    </tr>\n",
       "    <tr>\n",
       "      <th>903652</th>\n",
       "      <td>0814900163617805053_1483574474</td>\n",
       "      <td>0</td>\n",
       "    </tr>\n",
       "  </tbody>\n",
       "</table>\n",
       "<p>903653 rows × 2 columns</p>\n",
       "</div>"
      ],
      "text/plain": [
       "                             sessionId  sessionId_overlap_flg\n",
       "0       1131660440785968503_1472830385                      0\n",
       "1        377306020877927890_1472880147                      0\n",
       "2       3895546263509774583_1472865386                      0\n",
       "3       4763447161404445595_1472881213                      0\n",
       "4         27294437909732085_1472822600                      0\n",
       "5       2938943183656635653_1472807194                      0\n",
       "6       1905672039242460897_1472817241                      0\n",
       "7        537222803633850821_1472812602                      0\n",
       "8       4445454811831400414_1472805784                      0\n",
       "9       9499785259412240342_1472812272                      0\n",
       "10      0523069750702990437_1472834967                      0\n",
       "11       982320996976275749_1472849434                      0\n",
       "12       357659889600827884_1472839882                      0\n",
       "13      1438082600262726746_1472803483                      0\n",
       "14      3531015320757710684_1472868337                      0\n",
       "15      9638207207743070032_1472824614                      0\n",
       "16      9876750586615598787_1472801099                      0\n",
       "17      2222266935962032743_1472826820                      0\n",
       "18      9674781571160116268_1472804607                      0\n",
       "19      3696906537737368442_1472856874                      0\n",
       "20      4478318070775453050_1472826420                      0\n",
       "21      6098154234696452861_1472863754                      0\n",
       "22      3323434834508685818_1472872530                      0\n",
       "23      3053576296023059465_1472808484                      0\n",
       "24       702736826487255366_1472806593                      0\n",
       "25      8794587387581803040_1472816048                      0\n",
       "26      3293772317640873624_1472808002                      0\n",
       "27      1283542838194038522_1472885255                      0\n",
       "28      4339756682310369249_1472828340                      0\n",
       "29      7598520899202646361_1472839261                      0\n",
       "...                                ...                    ...\n",
       "903623  6636384798982309878_1483525429                      0\n",
       "903624  3949036270578731944_1483573406                      0\n",
       "903625  4684656080533369866_1483580548                      0\n",
       "903626  7801696731785804023_1483555912                      0\n",
       "903627  3565144164947525505_1483518594                      0\n",
       "903628  3005401591149517997_1483520492                      0\n",
       "903629  7822582517551956770_1483534287                      0\n",
       "903630  7571054099312183947_1483593323                      0\n",
       "903631   294595150038603302_1483535458                      0\n",
       "903632  7284032090862821897_1483533556                      0\n",
       "903633  1333556093287030274_1483550538                      0\n",
       "903634  3591531861629139100_1483534920                      0\n",
       "903635   015965500276524997_1483556696                      0\n",
       "903636  8051164218376407640_1483561580                      0\n",
       "903637  7660319315190231588_1483548841                      0\n",
       "903638    05448851847875728_1483533179                      0\n",
       "903639   168043908052904808_1483541485                      0\n",
       "903640  9848590538979672883_1483569025                      0\n",
       "903641  8148306613900803238_1483589327                      0\n",
       "903642   469840327005431380_1483573235                      0\n",
       "903643   056144239667131330_1483600246                      0\n",
       "903644   256641390199759052_1483556333                      0\n",
       "903645  2035095632074835075_1483570454                      0\n",
       "903646   567297396362985009_1483581760                      0\n",
       "903647  2140149974339316233_1483557808                      0\n",
       "903648  5123779100307500332_1483554750                      0\n",
       "903649  7231728964973959842_1483543798                      0\n",
       "903650  5744576632396406899_1483526434                      0\n",
       "903651  2709355455991750775_1483592857                      0\n",
       "903652  0814900163617805053_1483574474                      0\n",
       "\n",
       "[903653 rows x 2 columns]"
      ]
     },
     "execution_count": 132,
     "metadata": {},
     "output_type": "execute_result"
    }
   ],
   "source": [
    "total.iloc[train_range][['sessionId', 'sessionId_overlap_flg']]"
   ]
  },
  {
   "cell_type": "code",
   "execution_count": 131,
   "metadata": {
    "scrolled": true
   },
   "outputs": [
    {
     "data": {
      "text/plain": [
       "0         1131660440785968503_1472830385\n",
       "1          377306020877927890_1472880147\n",
       "2         3895546263509774583_1472865386\n",
       "3         4763447161404445595_1472881213\n",
       "4           27294437909732085_1472822600\n",
       "5         2938943183656635653_1472807194\n",
       "6         1905672039242460897_1472817241\n",
       "7          537222803633850821_1472812602\n",
       "8         4445454811831400414_1472805784\n",
       "9         9499785259412240342_1472812272\n",
       "10        0523069750702990437_1472834967\n",
       "11         982320996976275749_1472849434\n",
       "12         357659889600827884_1472839882\n",
       "13        1438082600262726746_1472803483\n",
       "14        3531015320757710684_1472868337\n",
       "15        9638207207743070032_1472824614\n",
       "16        9876750586615598787_1472801099\n",
       "17        2222266935962032743_1472826820\n",
       "18        9674781571160116268_1472804607\n",
       "19        3696906537737368442_1472856874\n",
       "20        4478318070775453050_1472826420\n",
       "21        6098154234696452861_1472863754\n",
       "22        3323434834508685818_1472872530\n",
       "23        3053576296023059465_1472808484\n",
       "24         702736826487255366_1472806593\n",
       "25        8794587387581803040_1472816048\n",
       "26        3293772317640873624_1472808002\n",
       "27        1283542838194038522_1472885255\n",
       "28        4339756682310369249_1472828340\n",
       "29        7598520899202646361_1472839261\n",
       "                       ...              \n",
       "903623    6636384798982309878_1483525429\n",
       "903624    3949036270578731944_1483573406\n",
       "903625    4684656080533369866_1483580548\n",
       "903626    7801696731785804023_1483555912\n",
       "903627    3565144164947525505_1483518594\n",
       "903628    3005401591149517997_1483520492\n",
       "903629    7822582517551956770_1483534287\n",
       "903630    7571054099312183947_1483593323\n",
       "903631     294595150038603302_1483535458\n",
       "903632    7284032090862821897_1483533556\n",
       "903633    1333556093287030274_1483550538\n",
       "903634    3591531861629139100_1483534920\n",
       "903635     015965500276524997_1483556696\n",
       "903636    8051164218376407640_1483561580\n",
       "903637    7660319315190231588_1483548841\n",
       "903638      05448851847875728_1483533179\n",
       "903639     168043908052904808_1483541485\n",
       "903640    9848590538979672883_1483569025\n",
       "903641    8148306613900803238_1483589327\n",
       "903642     469840327005431380_1483573235\n",
       "903643     056144239667131330_1483600246\n",
       "903644     256641390199759052_1483556333\n",
       "903645    2035095632074835075_1483570454\n",
       "903646     567297396362985009_1483581760\n",
       "903647    2140149974339316233_1483557808\n",
       "903648    5123779100307500332_1483554750\n",
       "903649    7231728964973959842_1483543798\n",
       "903650    5744576632396406899_1483526434\n",
       "903651    2709355455991750775_1483592857\n",
       "903652    0814900163617805053_1483574474\n",
       "Name: sessionId, Length: 903653, dtype: object"
      ]
     },
     "execution_count": 131,
     "metadata": {},
     "output_type": "execute_result"
    }
   ],
   "source": [
    "train['sessionId']"
   ]
  }
 ],
 "metadata": {
  "kernelspec": {
   "display_name": "Python 3",
   "language": "python",
   "name": "python3"
  },
  "language_info": {
   "codemirror_mode": {
    "name": "ipython",
    "version": 3
   },
   "file_extension": ".py",
   "mimetype": "text/x-python",
   "name": "python",
   "nbconvert_exporter": "python",
   "pygments_lexer": "ipython3",
   "version": "3.6.5"
  }
 },
 "nbformat": 4,
 "nbformat_minor": 2
}
