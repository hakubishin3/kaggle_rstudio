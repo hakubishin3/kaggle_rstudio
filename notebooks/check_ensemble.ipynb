{
 "cells": [
  {
   "cell_type": "code",
   "execution_count": 5,
   "metadata": {},
   "outputs": [],
   "source": [
    "import pandas as pd\n",
    "import numpy as np\n",
    "import feather\n",
    "import copy\n",
    "import pandas as pd\n",
    "import numpy as np\n",
    "import matplotlib.pyplot as plt\n",
    "from IPython.display import display\n",
    "from sklearn.linear_model import ElasticNetCV\n",
    "from sklearn.metrics import mean_squared_error"
   ]
  },
  {
   "cell_type": "markdown",
   "metadata": {},
   "source": [
    "### load true data"
   ]
  },
  {
   "cell_type": "code",
   "execution_count": 2,
   "metadata": {
    "scrolled": true
   },
   "outputs": [
    {
     "data": {
      "text/plain": [
       "((903653, 55), (804684, 53))"
      ]
     },
     "execution_count": 2,
     "metadata": {},
     "output_type": "execute_result"
    }
   ],
   "source": [
    "train = feather.read_dataframe('../data/interim/train.ftr')\n",
    "test = feather.read_dataframe('../data/interim/test.ftr')\n",
    "train.shape, test.shape"
   ]
  },
  {
   "cell_type": "code",
   "execution_count": 3,
   "metadata": {},
   "outputs": [],
   "source": [
    "# make target\n",
    "train_index = np.sort(train['fullVisitorId'].unique())\n",
    "test_index = np.sort(test['fullVisitorId'].unique())\n",
    "\n",
    "train['target'] = train['totals.transactionRevenue'].fillna(0).astype('float').values\n",
    "train_user_target = train[['fullVisitorId', 'target']].groupby('fullVisitorId').sum()\n",
    "train_user_target = train_user_target.loc[train_index]\n",
    "y_train = np.log1p(train_user_target['target'])"
   ]
  },
  {
   "cell_type": "markdown",
   "metadata": {},
   "source": [
    "### load pred data"
   ]
  },
  {
   "cell_type": "code",
   "execution_count": 4,
   "metadata": {},
   "outputs": [
    {
     "data": {
      "text/plain": [
       "((714167, 2), (617242, 2))"
      ]
     },
     "execution_count": 4,
     "metadata": {},
     "output_type": "execute_result"
    }
   ],
   "source": [
    "target_1 = \"output_37\"\n",
    "target_2 = \"output_16\"\n",
    "\n",
    "target_list = [target_1, target_2]\n",
    "oof_preds_all = np.zeros([train_index.shape[0], len(target_list)])\n",
    "sub_preds_all = np.zeros([test_index.shape[0], len(target_list)])\n",
    "oof_preds_all.shape, sub_preds_all.shape"
   ]
  },
  {
   "cell_type": "code",
   "execution_count": 7,
   "metadata": {},
   "outputs": [
    {
     "name": "stdout",
     "output_type": "stream",
     "text": [
      "output_37 1.6024663112227862\n",
      "output_16 1.5584814871280166\n"
     ]
    }
   ],
   "source": [
    "for i, target in enumerate(target_list):\n",
    "    pred_data = np.load(f\"../data/interim/pred_user_{target}.npz\")\n",
    "    oof_preds_all[:, i] = pred_data[\"oof_preds\"]\n",
    "    sub_preds_all[:, i] = pred_data[\"sub_preds\"]\n",
    "    print(target, mean_squared_error(y_train, oof_preds_all[:, i])**0.5)"
   ]
  },
  {
   "cell_type": "code",
   "execution_count": 65,
   "metadata": {},
   "outputs": [
    {
     "data": {
      "text/plain": [
       "ElasticNetCV(alphas=None, copy_X=True, cv=5, eps=0.001, fit_intercept=False,\n",
       "       l1_ratio=[0.1, 0.2, 0.3, 0.4, 0.5, 0.7, 0.9, 0.95, 0.99, 1],\n",
       "       max_iter=1000, n_alphas=100, n_jobs=1, normalize=True,\n",
       "       positive=False, precompute='auto', random_state=0,\n",
       "       selection='cyclic', tol=0.0001, verbose=0)"
      ]
     },
     "execution_count": 65,
     "metadata": {},
     "output_type": "execute_result"
    }
   ],
   "source": [
    "reg = ElasticNetCV(cv=5, random_state=0, fit_intercept=False, normalize=True,\n",
    "                   l1_ratio=[.1, .2, .3, .4, .5, .7, .9, .95, .99, 1])\n",
    "reg.fit(oof_preds_all, y_train)"
   ]
  },
  {
   "cell_type": "code",
   "execution_count": 66,
   "metadata": {},
   "outputs": [
    {
     "data": {
      "text/plain": [
       "(0.0, 0.003143953758276617, array([0.27283017, 0.75160602]), 0.7)"
      ]
     },
     "execution_count": 66,
     "metadata": {},
     "output_type": "execute_result"
    }
   ],
   "source": [
    "reg.intercept_, reg.alpha_, reg.coef_, reg.l1_ratio_"
   ]
  },
  {
   "cell_type": "code",
   "execution_count": 59,
   "metadata": {},
   "outputs": [
    {
     "data": {
      "text/plain": [
       "1.5524767961820864"
      ]
     },
     "execution_count": 59,
     "metadata": {},
     "output_type": "execute_result"
    }
   ],
   "source": [
    "mean_squared_error(y_train, reg.predict(oof_preds_all))**0.5"
   ]
  },
  {
   "cell_type": "markdown",
   "metadata": {},
   "source": [
    "### make submit"
   ]
  },
  {
   "cell_type": "code",
   "execution_count": 63,
   "metadata": {},
   "outputs": [],
   "source": [
    "# save\n",
    "sub_full_data = pd.DataFrame(index=test_index)\n",
    "sub_full_data.index.name = \"fullVisitorId\"\n",
    "sub_full_data['PredictedLogRevenue'] = reg.predict(sub_preds_all)\n",
    "save_path = '../data/output/output_38_user.csv'\n",
    "sub_full_data[['PredictedLogRevenue']].to_csv(save_path, index=True)"
   ]
  },
  {
   "cell_type": "code",
   "execution_count": 64,
   "metadata": {},
   "outputs": [
    {
     "data": {
      "text/plain": [
       "0.18773413712181194"
      ]
     },
     "execution_count": 64,
     "metadata": {},
     "output_type": "execute_result"
    }
   ],
   "source": [
    "reg.predict(sub_preds_all).mean()"
   ]
  },
  {
   "cell_type": "code",
   "execution_count": 61,
   "metadata": {},
   "outputs": [
    {
     "data": {
      "text/plain": [
       "0.1833746487391711"
      ]
     },
     "execution_count": 61,
     "metadata": {},
     "output_type": "execute_result"
    }
   ],
   "source": [
    "sub_preds_all[:, 0].mean()"
   ]
  },
  {
   "cell_type": "code",
   "execution_count": 62,
   "metadata": {},
   "outputs": [
    {
     "data": {
      "text/plain": [
       "0.19254876373718252"
      ]
     },
     "execution_count": 62,
     "metadata": {},
     "output_type": "execute_result"
    }
   ],
   "source": [
    "sub_preds_all[:, 1].mean()"
   ]
  }
 ],
 "metadata": {
  "kernelspec": {
   "display_name": "Python 3",
   "language": "python",
   "name": "python3"
  },
  "language_info": {
   "codemirror_mode": {
    "name": "ipython",
    "version": 3
   },
   "file_extension": ".py",
   "mimetype": "text/x-python",
   "name": "python",
   "nbconvert_exporter": "python",
   "pygments_lexer": "ipython3",
   "version": "3.6.5"
  }
 },
 "nbformat": 4,
 "nbformat_minor": 2
}
