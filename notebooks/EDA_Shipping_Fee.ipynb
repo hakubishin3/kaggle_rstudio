{
 "cells": [
  {
   "cell_type": "markdown",
   "metadata": {},
   "source": [
    "- Google Merchanidise Storeでは送料がかかるみたい\n",
    "- 以下だと、shippinngで27￡\n",
    "- https://www.kaggle.com/c/ga-customer-revenue-prediction/discussion/66079"
   ]
  },
  {
   "cell_type": "markdown",
   "metadata": {},
   "source": [
    "調べてみた。https://www.googlemerchandisestore.com/\n",
    "- asia, australlia, africaで選択した場合\n",
    "    - Standard (1-3 Working Days) £5.40 | Express (Next Working Day) £14.04\n",
    "    - Basket subtotal£0.77 | Shipping£5.40 | Tax £1.23 | Total£7.40\n",
    "- canadaとUnited States\n",
    "    - shippingは0"
   ]
  },
  {
   "cell_type": "markdown",
   "metadata": {},
   "source": [
    "**現在の状況**\n",
    "- maxwellさんが質問している  \n",
    "https://www.kaggle.com/c/ga-customer-revenue-prediction/discussion/65691"
   ]
  },
  {
   "cell_type": "code",
   "execution_count": 2,
   "metadata": {},
   "outputs": [],
   "source": [
    "import feather\n",
    "import pandas as pd\n",
    "import numpy as np\n",
    "import matplotlib.pyplot as plt\n",
    "from IPython.display import display"
   ]
  },
  {
   "cell_type": "code",
   "execution_count": 3,
   "metadata": {},
   "outputs": [
    {
     "data": {
      "text/plain": [
       "((903653, 55), (804684, 53))"
      ]
     },
     "execution_count": 3,
     "metadata": {},
     "output_type": "execute_result"
    }
   ],
   "source": [
    "train = feather.read_dataframe('../data/interim/train.ftr')\n",
    "test = feather.read_dataframe('../data/interim/test.ftr')\n",
    "train.shape, test.shape"
   ]
  },
  {
   "cell_type": "code",
   "execution_count": 10,
   "metadata": {},
   "outputs": [],
   "source": [
    "train['totals.transactionRevenue'] = train['totals.transactionRevenue'].astype(float).fillna(0)\n",
    "train['totals.transactionRevenue'] = train['totals.transactionRevenue'] / 10**6"
   ]
  },
  {
   "cell_type": "markdown",
   "metadata": {},
   "source": [
    "- 国別に値段を確認してみる\n",
    "- あまりよくわからない"
   ]
  },
  {
   "cell_type": "code",
   "execution_count": 29,
   "metadata": {
    "scrolled": true
   },
   "outputs": [
    {
     "data": {
      "text/plain": [
       "geoNetwork.country\n",
       "United States    132.606651\n",
       "Canada           172.760737\n",
       "Australia        134.250769\n",
       "Japan            395.822941\n",
       "China             35.278333\n",
       "Name: totals.transactionRevenue, dtype: float64"
      ]
     },
     "execution_count": 29,
     "metadata": {},
     "output_type": "execute_result"
    }
   ],
   "source": [
    "train[train['totals.transactionRevenue']!=0].groupby('geoNetwork.country').mean()['totals.transactionRevenue'].loc[['United States', 'Canada', 'Australia', 'Japan', 'China']]"
   ]
  }
 ],
 "metadata": {
  "kernelspec": {
   "display_name": "Python 3",
   "language": "python",
   "name": "python3"
  },
  "language_info": {
   "codemirror_mode": {
    "name": "ipython",
    "version": 3
   },
   "file_extension": ".py",
   "mimetype": "text/x-python",
   "name": "python",
   "nbconvert_exporter": "python",
   "pygments_lexer": "ipython3",
   "version": "3.6.5"
  }
 },
 "nbformat": 4,
 "nbformat_minor": 2
}
