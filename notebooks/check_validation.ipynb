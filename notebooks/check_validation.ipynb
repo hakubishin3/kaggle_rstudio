{
 "cells": [
  {
   "cell_type": "markdown",
   "metadata": {},
   "source": [
    "validationの設定に関して2つのアイデアがある\n",
    "- StratifiedKFold\n",
    "- TimeSeriesSplit"
   ]
  },
  {
   "cell_type": "code",
   "execution_count": 1,
   "metadata": {},
   "outputs": [],
   "source": [
    "import feather\n",
    "import pandas as pd\n",
    "import numpy as np\n",
    "import matplotlib.pyplot as plt\n",
    "from IPython.display import display\n",
    "from sklearn.model_selection import GroupKFold, TimeSeriesSplit, StratifiedKFold"
   ]
  },
  {
   "cell_type": "code",
   "execution_count": 2,
   "metadata": {},
   "outputs": [],
   "source": [
    "train = feather.read_dataframe('../data/interim/train.ftr')\n",
    "test = feather.read_dataframe('../data/interim/test.ftr')\n",
    "train.shape, test.shape\n",
    "\n",
    "train['totals.transactionRevenue'] = np.log1p(train['totals.transactionRevenue'].fillna(0).astype('float').values)\n",
    "train['date'] = pd.to_datetime(train['date'], format='%Y%m%d')\n",
    "test['date'] = pd.to_datetime(test['date'], format='%Y%m%d')"
   ]
  },
  {
   "cell_type": "markdown",
   "metadata": {},
   "source": [
    "### StratifiedKFold"
   ]
  },
  {
   "cell_type": "markdown",
   "metadata": {},
   "source": [
    "- trainには、購入した客とそうでない客で分かれている。\n",
    "- 収益を生み出す顧客は全登録者数の1.3%程度である。\n",
    "- 1(真の顧客)と0(そうでない客)で層別を行いたい。"
   ]
  },
  {
   "cell_type": "markdown",
   "metadata": {},
   "source": [
    "- もし、bouncesによるtestデータを学習データとして使用する場合\n",
    "- 該当するデータセット内のfullvisitoridをgroupkfoldして、stratifiedkfoldの結果に合体させる。\n",
    "- かなりややこしくなるので、前もってsplitしておき、その結果（index）だけを渡す構成にしておいた方がよい。"
   ]
  },
  {
   "cell_type": "code",
   "execution_count": 15,
   "metadata": {
    "scrolled": true
   },
   "outputs": [
    {
     "data": {
      "text/plain": [
       "714167"
      ]
     },
     "execution_count": 15,
     "metadata": {},
     "output_type": "execute_result"
    }
   ],
   "source": [
    "grp_result = train.groupby(\"fullVisitorId\")['totals.transactionRevenue'].sum().reset_index()\n",
    "len(grp_result)"
   ]
  },
  {
   "cell_type": "code",
   "execution_count": 16,
   "metadata": {},
   "outputs": [
    {
     "name": "stdout",
     "output_type": "stream",
     "text": [
      "Number of customer in train set: 9996 out of rows: 714167 and ratio is: 0.013996726255903731\n"
     ]
    }
   ],
   "source": [
    "print('Number of customer in train set:', len(grp_result[grp_result['totals.transactionRevenue']!=0]), \\\n",
    "      'out of rows:', len(grp_result), \\\n",
    "      'and ratio is:', len(grp_result[grp_result['totals.transactionRevenue']!=0])/len(grp_result))"
   ]
  },
  {
   "cell_type": "code",
   "execution_count": 17,
   "metadata": {
    "scrolled": true
   },
   "outputs": [
    {
     "data": {
      "text/plain": [
       "9996"
      ]
     },
     "execution_count": 17,
     "metadata": {},
     "output_type": "execute_result"
    }
   ],
   "source": [
    "# 真の顧客リスト\n",
    "customer_list_in_train = grp_result[grp_result['totals.transactionRevenue']!=0]['fullVisitorId'].tolist()\n",
    "\n",
    "# 真の顧客か否か、グループ分けを行う（真の顧客なら1）\n",
    "group = pd.DataFrame()\n",
    "group['fullVisitorId'] = train['fullVisitorId'].unique()\n",
    "group['customer_flg'] = 0\n",
    "customer_index_in_group = group.query('fullVisitorId in @customer_list_in_train').index\n",
    "group.loc[customer_index_in_group, 'customer_flg'] = 1\n",
    "\n",
    "(group.customer_flg==1).sum()"
   ]
  },
  {
   "cell_type": "code",
   "execution_count": 6,
   "metadata": {},
   "outputs": [
    {
     "name": "stdout",
     "output_type": "stream",
     "text": [
      "---\n",
      "train_index: 571332 valid_index: 142835\n",
      "number of customer in train-set: 7996\n",
      "number of customer in valid-set: 2000\n",
      "---\n",
      "train_index: 571334 valid_index: 142833\n",
      "number of customer in train-set: 7997\n",
      "number of customer in valid-set: 1999\n",
      "---\n",
      "train_index: 571334 valid_index: 142833\n",
      "number of customer in train-set: 7997\n",
      "number of customer in valid-set: 1999\n",
      "---\n",
      "train_index: 571334 valid_index: 142833\n",
      "number of customer in train-set: 7997\n",
      "number of customer in valid-set: 1999\n",
      "---\n",
      "train_index: 571334 valid_index: 142833\n",
      "number of customer in train-set: 7997\n",
      "number of customer in valid-set: 1999\n",
      "---\n"
     ]
    }
   ],
   "source": [
    "group_skf = StratifiedKFold(n_splits=5, shuffle=True, random_state=71)\n",
    "\n",
    "for train_index, valid_index in group_skf.split(group.fullVisitorId, group.customer_flg):\n",
    "    print('---')\n",
    "    print('train_index:', len(train_index), 'valid_index:', len(valid_index))\n",
    "    print('number of customer in train-set:', len(group.iloc[train_index].query('fullVisitorId in @customer_list_in_train')))\n",
    "    print('number of customer in valid-set:', len(group.iloc[valid_index].query('fullVisitorId in @customer_list_in_train')))\n",
    "print('---')"
   ]
  },
  {
   "cell_type": "code",
   "execution_count": 177,
   "metadata": {},
   "outputs": [
    {
     "name": "stdout",
     "output_type": "stream",
     "text": [
      "---\n",
      "train_index: 571332 valid_index: 142835\n",
      "number of customer in train-set: 7996\n",
      "number of customer in valid-set: 2000\n",
      "---\n",
      "train_index: 571334 valid_index: 142833\n",
      "number of customer in train-set: 7997\n",
      "number of customer in valid-set: 1999\n",
      "---\n",
      "train_index: 571334 valid_index: 142833\n",
      "number of customer in train-set: 7997\n",
      "number of customer in valid-set: 1999\n",
      "---\n",
      "train_index: 571334 valid_index: 142833\n",
      "number of customer in train-set: 7997\n",
      "number of customer in valid-set: 1999\n",
      "---\n",
      "train_index: 571334 valid_index: 142833\n",
      "number of customer in train-set: 7997\n",
      "number of customer in valid-set: 1999\n",
      "---\n"
     ]
    }
   ],
   "source": [
    "for train_index, valid_index in folds_index_list:\n",
    "    print('---')\n",
    "    print('train_index:', len(train_index), 'valid_index:', len(valid_index))\n",
    "    print('number of customer in train-set:', len(group.iloc[train_index].query('fullVisitorId in @customer_list_in_train')))\n",
    "    print('number of customer in valid-set:', len(group.iloc[valid_index].query('fullVisitorId in @customer_list_in_train')))\n",
    "print('---')"
   ]
  },
  {
   "cell_type": "markdown",
   "metadata": {},
   "source": [
    "- bouncesでtestデータを使うことになった場合    "
   ]
  },
  {
   "cell_type": "code",
   "execution_count": 171,
   "metadata": {
    "scrolled": true
   },
   "outputs": [
    {
     "data": {
      "text/plain": [
       "((420948, 53), 357841)"
      ]
     },
     "execution_count": 171,
     "metadata": {},
     "output_type": "execute_result"
    }
   ],
   "source": [
    "train_data_v2 = test[test['totals.bounces'].notnull()].copy()\n",
    "train_data_v2.shape, len(train_data_v2['fullVisitorId'].unique())"
   ]
  },
  {
   "cell_type": "code",
   "execution_count": 161,
   "metadata": {},
   "outputs": [
    {
     "name": "stdout",
     "output_type": "stream",
     "text": [
      "---\n",
      "train_index: 336758 valid_index: 84190\n",
      "number of id in train-set: 286274\n",
      "number of id in valid-set: 71567\n",
      "number of id in total: 357841\n",
      "---\n",
      "train_index: 336758 valid_index: 84190\n",
      "number of id in train-set: 286272\n",
      "number of id in valid-set: 71569\n",
      "number of id in total: 357841\n",
      "---\n",
      "train_index: 336758 valid_index: 84190\n",
      "number of id in train-set: 286272\n",
      "number of id in valid-set: 71569\n",
      "number of id in total: 357841\n",
      "---\n",
      "train_index: 336759 valid_index: 84189\n",
      "number of id in train-set: 286273\n",
      "number of id in valid-set: 71568\n",
      "number of id in total: 357841\n",
      "---\n",
      "train_index: 336759 valid_index: 84189\n",
      "number of id in train-set: 286273\n",
      "number of id in valid-set: 71568\n",
      "number of id in total: 357841\n",
      "---\n"
     ]
    }
   ],
   "source": [
    "grp_kfold = GroupKFold(n_splits=5)\n",
    "\n",
    "for train_index, valid_index in grp_kfold.split(X=train_data_v2, y=train_data_v2['date'], groups=train_data_v2['fullVisitorId']):\n",
    "    print('---')\n",
    "    print('train_index:', len(train_index), 'valid_index:', len(valid_index))\n",
    "    print('number of id in train-set:', len(train_data_v2.iloc[train_index]['fullVisitorId'].unique()))\n",
    "    print('number of id in valid-set:', len(train_data_v2.iloc[valid_index]['fullVisitorId'].unique()))\n",
    "    print('number of id in total:', len(train_data_v2.iloc[train_index]['fullVisitorId'].unique())+len(train_data_v2.iloc[valid_index]['fullVisitorId'].unique()))\n",
    "print('---')"
   ]
  },
  {
   "cell_type": "markdown",
   "metadata": {},
   "source": [
    "### TimeSeriesSplit"
   ]
  },
  {
   "cell_type": "markdown",
   "metadata": {},
   "source": [
    "- 時系列データであるので、時系列でsplitする"
   ]
  },
  {
   "cell_type": "code",
   "execution_count": 5,
   "metadata": {},
   "outputs": [
    {
     "data": {
      "text/html": [
       "<div>\n",
       "<style scoped>\n",
       "    .dataframe tbody tr th:only-of-type {\n",
       "        vertical-align: middle;\n",
       "    }\n",
       "\n",
       "    .dataframe tbody tr th {\n",
       "        vertical-align: top;\n",
       "    }\n",
       "\n",
       "    .dataframe thead th {\n",
       "        text-align: right;\n",
       "    }\n",
       "</style>\n",
       "<table border=\"1\" class=\"dataframe\">\n",
       "  <thead>\n",
       "    <tr style=\"text-align: right;\">\n",
       "      <th></th>\n",
       "      <th>channelGrouping</th>\n",
       "      <th>date</th>\n",
       "      <th>fullVisitorId</th>\n",
       "      <th>sessionId</th>\n",
       "      <th>socialEngagementType</th>\n",
       "      <th>visitId</th>\n",
       "      <th>visitNumber</th>\n",
       "      <th>visitStartTime</th>\n",
       "      <th>device.browser</th>\n",
       "      <th>device.browserSize</th>\n",
       "      <th>...</th>\n",
       "      <th>trafficSource.adwordsClickInfo.isVideoAd</th>\n",
       "      <th>trafficSource.adwordsClickInfo.page</th>\n",
       "      <th>trafficSource.adwordsClickInfo.slot</th>\n",
       "      <th>trafficSource.campaign</th>\n",
       "      <th>trafficSource.campaignCode</th>\n",
       "      <th>trafficSource.isTrueDirect</th>\n",
       "      <th>trafficSource.keyword</th>\n",
       "      <th>trafficSource.medium</th>\n",
       "      <th>trafficSource.referralPath</th>\n",
       "      <th>trafficSource.source</th>\n",
       "    </tr>\n",
       "  </thead>\n",
       "  <tbody>\n",
       "    <tr>\n",
       "      <th>538448</th>\n",
       "      <td>Direct</td>\n",
       "      <td>2016-08-01</td>\n",
       "      <td>1492602573213666603</td>\n",
       "      <td>1492602573213666603_1470044332</td>\n",
       "      <td>Not Socially Engaged</td>\n",
       "      <td>1470044332</td>\n",
       "      <td>1</td>\n",
       "      <td>1470044332</td>\n",
       "      <td>Chrome</td>\n",
       "      <td>not available in demo dataset</td>\n",
       "      <td>...</td>\n",
       "      <td>None</td>\n",
       "      <td>None</td>\n",
       "      <td>None</td>\n",
       "      <td>(not set)</td>\n",
       "      <td>None</td>\n",
       "      <td>True</td>\n",
       "      <td>None</td>\n",
       "      <td>(none)</td>\n",
       "      <td>None</td>\n",
       "      <td>(direct)</td>\n",
       "    </tr>\n",
       "    <tr>\n",
       "      <th>538277</th>\n",
       "      <td>Direct</td>\n",
       "      <td>2016-08-01</td>\n",
       "      <td>7394165545362887055</td>\n",
       "      <td>7394165545362887055_1470044425</td>\n",
       "      <td>Not Socially Engaged</td>\n",
       "      <td>1470044425</td>\n",
       "      <td>3</td>\n",
       "      <td>1470044425</td>\n",
       "      <td>Chrome</td>\n",
       "      <td>not available in demo dataset</td>\n",
       "      <td>...</td>\n",
       "      <td>None</td>\n",
       "      <td>None</td>\n",
       "      <td>None</td>\n",
       "      <td>(not set)</td>\n",
       "      <td>None</td>\n",
       "      <td>True</td>\n",
       "      <td>None</td>\n",
       "      <td>(none)</td>\n",
       "      <td>None</td>\n",
       "      <td>(direct)</td>\n",
       "    </tr>\n",
       "    <tr>\n",
       "      <th>538278</th>\n",
       "      <td>Referral</td>\n",
       "      <td>2016-08-01</td>\n",
       "      <td>6107229716178617930</td>\n",
       "      <td>6107229716178617930_1470094529</td>\n",
       "      <td>Not Socially Engaged</td>\n",
       "      <td>1470094529</td>\n",
       "      <td>1</td>\n",
       "      <td>1470094529</td>\n",
       "      <td>Chrome</td>\n",
       "      <td>not available in demo dataset</td>\n",
       "      <td>...</td>\n",
       "      <td>None</td>\n",
       "      <td>None</td>\n",
       "      <td>None</td>\n",
       "      <td>(not set)</td>\n",
       "      <td>None</td>\n",
       "      <td>None</td>\n",
       "      <td>None</td>\n",
       "      <td>referral</td>\n",
       "      <td>/</td>\n",
       "      <td>mall.googleplex.com</td>\n",
       "    </tr>\n",
       "    <tr>\n",
       "      <th>538279</th>\n",
       "      <td>Direct</td>\n",
       "      <td>2016-08-01</td>\n",
       "      <td>9459384188253198762</td>\n",
       "      <td>9459384188253198762_1470079413</td>\n",
       "      <td>Not Socially Engaged</td>\n",
       "      <td>1470079413</td>\n",
       "      <td>1</td>\n",
       "      <td>1470079413</td>\n",
       "      <td>Chrome</td>\n",
       "      <td>not available in demo dataset</td>\n",
       "      <td>...</td>\n",
       "      <td>None</td>\n",
       "      <td>None</td>\n",
       "      <td>None</td>\n",
       "      <td>(not set)</td>\n",
       "      <td>None</td>\n",
       "      <td>True</td>\n",
       "      <td>None</td>\n",
       "      <td>(none)</td>\n",
       "      <td>None</td>\n",
       "      <td>(direct)</td>\n",
       "    </tr>\n",
       "    <tr>\n",
       "      <th>538280</th>\n",
       "      <td>Direct</td>\n",
       "      <td>2016-08-01</td>\n",
       "      <td>4052177266351383392</td>\n",
       "      <td>4052177266351383392_1470111093</td>\n",
       "      <td>Not Socially Engaged</td>\n",
       "      <td>1470111093</td>\n",
       "      <td>1</td>\n",
       "      <td>1470111093</td>\n",
       "      <td>Safari</td>\n",
       "      <td>not available in demo dataset</td>\n",
       "      <td>...</td>\n",
       "      <td>None</td>\n",
       "      <td>None</td>\n",
       "      <td>None</td>\n",
       "      <td>(not set)</td>\n",
       "      <td>None</td>\n",
       "      <td>True</td>\n",
       "      <td>None</td>\n",
       "      <td>(none)</td>\n",
       "      <td>None</td>\n",
       "      <td>(direct)</td>\n",
       "    </tr>\n",
       "  </tbody>\n",
       "</table>\n",
       "<p>5 rows × 55 columns</p>\n",
       "</div>"
      ],
      "text/plain": [
       "       channelGrouping       date        fullVisitorId  \\\n",
       "538448          Direct 2016-08-01  1492602573213666603   \n",
       "538277          Direct 2016-08-01  7394165545362887055   \n",
       "538278        Referral 2016-08-01  6107229716178617930   \n",
       "538279          Direct 2016-08-01  9459384188253198762   \n",
       "538280          Direct 2016-08-01  4052177266351383392   \n",
       "\n",
       "                             sessionId  socialEngagementType     visitId  \\\n",
       "538448  1492602573213666603_1470044332  Not Socially Engaged  1470044332   \n",
       "538277  7394165545362887055_1470044425  Not Socially Engaged  1470044425   \n",
       "538278  6107229716178617930_1470094529  Not Socially Engaged  1470094529   \n",
       "538279  9459384188253198762_1470079413  Not Socially Engaged  1470079413   \n",
       "538280  4052177266351383392_1470111093  Not Socially Engaged  1470111093   \n",
       "\n",
       "        visitNumber  visitStartTime device.browser  \\\n",
       "538448            1      1470044332         Chrome   \n",
       "538277            3      1470044425         Chrome   \n",
       "538278            1      1470094529         Chrome   \n",
       "538279            1      1470079413         Chrome   \n",
       "538280            1      1470111093         Safari   \n",
       "\n",
       "                   device.browserSize         ...           \\\n",
       "538448  not available in demo dataset         ...            \n",
       "538277  not available in demo dataset         ...            \n",
       "538278  not available in demo dataset         ...            \n",
       "538279  not available in demo dataset         ...            \n",
       "538280  not available in demo dataset         ...            \n",
       "\n",
       "       trafficSource.adwordsClickInfo.isVideoAd  \\\n",
       "538448                                     None   \n",
       "538277                                     None   \n",
       "538278                                     None   \n",
       "538279                                     None   \n",
       "538280                                     None   \n",
       "\n",
       "       trafficSource.adwordsClickInfo.page  \\\n",
       "538448                                None   \n",
       "538277                                None   \n",
       "538278                                None   \n",
       "538279                                None   \n",
       "538280                                None   \n",
       "\n",
       "       trafficSource.adwordsClickInfo.slot  trafficSource.campaign  \\\n",
       "538448                                None               (not set)   \n",
       "538277                                None               (not set)   \n",
       "538278                                None               (not set)   \n",
       "538279                                None               (not set)   \n",
       "538280                                None               (not set)   \n",
       "\n",
       "       trafficSource.campaignCode trafficSource.isTrueDirect  \\\n",
       "538448                       None                       True   \n",
       "538277                       None                       True   \n",
       "538278                       None                       None   \n",
       "538279                       None                       True   \n",
       "538280                       None                       True   \n",
       "\n",
       "       trafficSource.keyword trafficSource.medium trafficSource.referralPath  \\\n",
       "538448                  None               (none)                       None   \n",
       "538277                  None               (none)                       None   \n",
       "538278                  None             referral                          /   \n",
       "538279                  None               (none)                       None   \n",
       "538280                  None               (none)                       None   \n",
       "\n",
       "       trafficSource.source  \n",
       "538448             (direct)  \n",
       "538277             (direct)  \n",
       "538278  mall.googleplex.com  \n",
       "538279             (direct)  \n",
       "538280             (direct)  \n",
       "\n",
       "[5 rows x 55 columns]"
      ]
     },
     "execution_count": 5,
     "metadata": {},
     "output_type": "execute_result"
    }
   ],
   "source": [
    "train.sort_values('date', ascending=True, inplace=True)\n",
    "train.head()"
   ]
  },
  {
   "cell_type": "code",
   "execution_count": 6,
   "metadata": {},
   "outputs": [
    {
     "name": "stdout",
     "output_type": "stream",
     "text": [
      "---\n",
      "train_index: 150613 valid_index: 150608\n",
      "min date in train-set: 2016-08-01 00:00:00\n",
      "max date in train-set: 2016-10-03 00:00:00\n",
      "min date in valid-set: 2016-10-03 00:00:00\n",
      "max date in valid-set: 2016-11-16 00:00:00\n",
      "---\n",
      "train_index: 301221 valid_index: 150608\n",
      "min date in train-set: 2016-08-01 00:00:00\n",
      "max date in train-set: 2016-11-16 00:00:00\n",
      "min date in valid-set: 2016-11-16 00:00:00\n",
      "max date in valid-set: 2017-01-09 00:00:00\n",
      "---\n",
      "train_index: 451829 valid_index: 150608\n",
      "min date in train-set: 2016-08-01 00:00:00\n",
      "max date in train-set: 2017-01-09 00:00:00\n",
      "min date in valid-set: 2017-01-09 00:00:00\n",
      "max date in valid-set: 2017-03-18 00:00:00\n",
      "---\n",
      "train_index: 602437 valid_index: 150608\n",
      "min date in train-set: 2016-08-01 00:00:00\n",
      "max date in train-set: 2017-03-18 00:00:00\n",
      "min date in valid-set: 2017-03-18 00:00:00\n",
      "max date in valid-set: 2017-05-25 00:00:00\n",
      "---\n",
      "train_index: 753045 valid_index: 150608\n",
      "min date in train-set: 2016-08-01 00:00:00\n",
      "max date in train-set: 2017-05-25 00:00:00\n",
      "min date in valid-set: 2017-05-25 00:00:00\n",
      "max date in valid-set: 2017-08-01 00:00:00\n",
      "---\n"
     ]
    }
   ],
   "source": [
    "tscv = TimeSeriesSplit(n_splits=5)\n",
    "\n",
    "for train_index, valid_index in tscv.split(train):\n",
    "    print('---')\n",
    "    print('train_index:', len(train_index), 'valid_index:', len(valid_index))\n",
    "    print('min date in train-set:', min(train.iloc[train_index]['date']))\n",
    "    print('max date in train-set:', max(train.iloc[train_index]['date']))\n",
    "    print('min date in valid-set:', min(train.iloc[valid_index]['date']))\n",
    "    print('max date in valid-set:', max(train.iloc[valid_index]['date']))\n",
    "print('---')"
   ]
  },
  {
   "cell_type": "markdown",
   "metadata": {},
   "source": [
    "- boncesのtestデータを投入する場合"
   ]
  },
  {
   "cell_type": "code",
   "execution_count": 175,
   "metadata": {
    "scrolled": false
   },
   "outputs": [
    {
     "name": "stdout",
     "output_type": "stream",
     "text": [
      "---\n",
      "train_index: 220771 valid_index: 220766\n",
      "min date in train-set: 2016-08-01 00:00:00\n",
      "max date in train-set: 2016-10-25 00:00:00\n",
      "min date in valid-set: 2016-10-25 00:00:00\n",
      "max date in valid-set: 2017-01-03 00:00:00\n",
      "---\n",
      "train_index: 441537 valid_index: 220766\n",
      "min date in train-set: 2016-08-01 00:00:00\n",
      "max date in train-set: 2017-01-03 00:00:00\n",
      "min date in valid-set: 2017-01-03 00:00:00\n",
      "max date in valid-set: 2017-04-13 00:00:00\n",
      "---\n",
      "train_index: 662303 valid_index: 220766\n",
      "min date in train-set: 2016-08-01 00:00:00\n",
      "max date in train-set: 2017-04-13 00:00:00\n",
      "min date in valid-set: 2017-04-13 00:00:00\n",
      "max date in valid-set: 2017-07-24 00:00:00\n",
      "---\n",
      "train_index: 883069 valid_index: 220766\n",
      "min date in train-set: 2016-08-01 00:00:00\n",
      "max date in train-set: 2017-07-24 00:00:00\n",
      "min date in valid-set: 2017-07-24 00:00:00\n",
      "max date in valid-set: 2017-12-02 00:00:00\n",
      "---\n",
      "train_index: 1103835 valid_index: 220766\n",
      "min date in train-set: 2016-08-01 00:00:00\n",
      "max date in train-set: 2017-12-02 00:00:00\n",
      "min date in valid-set: 2017-12-02 00:00:00\n",
      "max date in valid-set: 2018-04-30 00:00:00\n",
      "---\n"
     ]
    }
   ],
   "source": [
    "total = pd.concat([train[['fullVisitorId', 'date']], train_data_v2[['fullVisitorId', 'date']]], axis=0)\n",
    "total.sort_values('date', ascending=True, inplace=True)\n",
    "\n",
    "tscv = TimeSeriesSplit(n_splits=5)\n",
    "for train_index, valid_index in tscv.split(total):\n",
    "    print('---')\n",
    "    print('train_index:', len(train_index), 'valid_index:', len(valid_index))\n",
    "    print('min date in train-set:', min(total.iloc[train_index]['date']))\n",
    "    print('max date in train-set:', max(total.iloc[train_index]['date']))\n",
    "    print('min date in valid-set:', min(total.iloc[valid_index]['date']))\n",
    "    print('max date in valid-set:', max(total.iloc[valid_index]['date']))\n",
    "print('---')"
   ]
  },
  {
   "cell_type": "code",
   "execution_count": 35,
   "metadata": {},
   "outputs": [],
   "source": [
    "train_date = pd.to_datetime(train['date'], format='%Y%m%d')"
   ]
  },
  {
   "cell_type": "code",
   "execution_count": 42,
   "metadata": {},
   "outputs": [
    {
     "data": {
      "text/plain": [
       "0        2016-09-02\n",
       "1        2016-09-02\n",
       "2        2016-09-02\n",
       "3        2016-09-02\n",
       "4        2016-09-02\n",
       "5        2016-09-02\n",
       "6        2016-09-02\n",
       "7        2016-09-02\n",
       "8        2016-09-02\n",
       "9        2016-09-02\n",
       "10       2016-09-02\n",
       "11       2016-09-02\n",
       "12       2016-09-02\n",
       "13       2016-09-02\n",
       "14       2016-09-02\n",
       "15       2016-09-02\n",
       "16       2016-09-02\n",
       "17       2016-09-02\n",
       "18       2016-09-02\n",
       "19       2016-09-02\n",
       "20       2016-09-02\n",
       "21       2016-09-02\n",
       "22       2016-09-02\n",
       "23       2016-09-02\n",
       "24       2016-09-02\n",
       "25       2016-09-02\n",
       "26       2016-09-02\n",
       "27       2016-09-02\n",
       "28       2016-09-02\n",
       "29       2016-09-02\n",
       "            ...    \n",
       "903623   2017-01-04\n",
       "903624   2017-01-04\n",
       "903625   2017-01-04\n",
       "903626   2017-01-04\n",
       "903627   2017-01-04\n",
       "903628   2017-01-04\n",
       "903629   2017-01-04\n",
       "903630   2017-01-04\n",
       "903631   2017-01-04\n",
       "903632   2017-01-04\n",
       "903633   2017-01-04\n",
       "903634   2017-01-04\n",
       "903635   2017-01-04\n",
       "903636   2017-01-04\n",
       "903637   2017-01-04\n",
       "903638   2017-01-04\n",
       "903639   2017-01-04\n",
       "903640   2017-01-04\n",
       "903641   2017-01-04\n",
       "903642   2017-01-04\n",
       "903643   2017-01-04\n",
       "903644   2017-01-04\n",
       "903645   2017-01-04\n",
       "903646   2017-01-04\n",
       "903647   2017-01-04\n",
       "903648   2017-01-04\n",
       "903649   2017-01-04\n",
       "903650   2017-01-04\n",
       "903651   2017-01-04\n",
       "903652   2017-01-04\n",
       "Name: date, Length: 903653, dtype: datetime64[ns]"
      ]
     },
     "execution_count": 42,
     "metadata": {},
     "output_type": "execute_result"
    }
   ],
   "source": [
    "train_date"
   ]
  }
 ],
 "metadata": {
  "kernelspec": {
   "display_name": "Python 3",
   "language": "python",
   "name": "python3"
  },
  "language_info": {
   "codemirror_mode": {
    "name": "ipython",
    "version": 3
   },
   "file_extension": ".py",
   "mimetype": "text/x-python",
   "name": "python",
   "nbconvert_exporter": "python",
   "pygments_lexer": "ipython3",
   "version": "3.6.5"
  }
 },
 "nbformat": 4,
 "nbformat_minor": 2
}
