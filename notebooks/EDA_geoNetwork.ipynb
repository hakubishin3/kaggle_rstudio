{
 "cells": [
  {
   "cell_type": "code",
   "execution_count": null,
   "metadata": {},
   "outputs": [],
   "source": [
    "import feather\n",
    "import copy\n",
    "import pandas as pd\n",
    "import numpy as np\n",
    "import matplotlib.pyplot as plt\n",
    "from IPython.display import display"
   ]
  },
  {
   "cell_type": "code",
   "execution_count": 2,
   "metadata": {},
   "outputs": [
    {
     "data": {
      "text/plain": [
       "((903653, 55), (804684, 53))"
      ]
     },
     "execution_count": 2,
     "metadata": {},
     "output_type": "execute_result"
    }
   ],
   "source": [
    "train = feather.read_dataframe('../data/interim/train.ftr')\n",
    "test = feather.read_dataframe('../data/interim/test.ftr')\n",
    "train.shape, test.shape"
   ]
  },
  {
   "cell_type": "code",
   "execution_count": 3,
   "metadata": {},
   "outputs": [
    {
     "data": {
      "text/plain": [
       "geoNetwork.city               object\n",
       "geoNetwork.cityId             object\n",
       "geoNetwork.continent          object\n",
       "geoNetwork.country            object\n",
       "geoNetwork.latitude           object\n",
       "geoNetwork.longitude          object\n",
       "geoNetwork.metro              object\n",
       "geoNetwork.networkDomain      object\n",
       "geoNetwork.networkLocation    object\n",
       "geoNetwork.region             object\n",
       "geoNetwork.subContinent       object\n",
       "dtype: object"
      ]
     },
     "execution_count": 3,
     "metadata": {},
     "output_type": "execute_result"
    }
   ],
   "source": [
    "geoNetwork_columns = [col for col in train.columns if \"geoNetwork\" in col]\n",
    "train[geoNetwork_columns].dtypes"
   ]
  },
  {
   "cell_type": "markdown",
   "metadata": {},
   "source": [
    "### 欠損値"
   ]
  },
  {
   "cell_type": "markdown",
   "metadata": {},
   "source": [
    "- 欠損はどのカラムにも存在しない。"
   ]
  },
  {
   "cell_type": "code",
   "execution_count": 5,
   "metadata": {},
   "outputs": [
    {
     "data": {
      "text/html": [
       "<div>\n",
       "<style scoped>\n",
       "    .dataframe tbody tr th:only-of-type {\n",
       "        vertical-align: middle;\n",
       "    }\n",
       "\n",
       "    .dataframe tbody tr th {\n",
       "        vertical-align: top;\n",
       "    }\n",
       "\n",
       "    .dataframe thead th {\n",
       "        text-align: right;\n",
       "    }\n",
       "</style>\n",
       "<table border=\"1\" class=\"dataframe\">\n",
       "  <thead>\n",
       "    <tr style=\"text-align: right;\">\n",
       "      <th></th>\n",
       "      <th>Total</th>\n",
       "      <th>Percent</th>\n",
       "    </tr>\n",
       "  </thead>\n",
       "  <tbody>\n",
       "  </tbody>\n",
       "</table>\n",
       "</div>"
      ],
      "text/plain": [
       "Empty DataFrame\n",
       "Columns: [Total, Percent]\n",
       "Index: []"
      ]
     },
     "metadata": {},
     "output_type": "display_data"
    },
    {
     "data": {
      "text/html": [
       "<div>\n",
       "<style scoped>\n",
       "    .dataframe tbody tr th:only-of-type {\n",
       "        vertical-align: middle;\n",
       "    }\n",
       "\n",
       "    .dataframe tbody tr th {\n",
       "        vertical-align: top;\n",
       "    }\n",
       "\n",
       "    .dataframe thead th {\n",
       "        text-align: right;\n",
       "    }\n",
       "</style>\n",
       "<table border=\"1\" class=\"dataframe\">\n",
       "  <thead>\n",
       "    <tr style=\"text-align: right;\">\n",
       "      <th></th>\n",
       "      <th>Total</th>\n",
       "      <th>Percent</th>\n",
       "    </tr>\n",
       "  </thead>\n",
       "  <tbody>\n",
       "  </tbody>\n",
       "</table>\n",
       "</div>"
      ],
      "text/plain": [
       "Empty DataFrame\n",
       "Columns: [Total, Percent]\n",
       "Index: []"
      ]
     },
     "metadata": {},
     "output_type": "display_data"
    }
   ],
   "source": [
    "def find_missing(data):\n",
    "    total = data.isnull().sum().sort_values(ascending = False)\n",
    "    percent = (data.isnull().sum()/data.isnull().count()*100).sort_values(ascending = False)\n",
    "    df = pd.concat([total, percent], axis=1, keys=['Total', 'Percent'])\n",
    "    return df.loc[~(df['Total']==0)]\n",
    "\n",
    "miss_train = find_missing(train[geoNetwork_columns])\n",
    "miss_test = find_missing(test[geoNetwork_columns])\n",
    "display(miss_train)\n",
    "display(miss_test)"
   ]
  },
  {
   "cell_type": "markdown",
   "metadata": {},
   "source": [
    "### 各カラムの中身を簡易集計"
   ]
  },
  {
   "cell_type": "code",
   "execution_count": 6,
   "metadata": {},
   "outputs": [],
   "source": [
    "def aggregates_train_test(colname):\n",
    "    summary_train = train.groupby(colname).count()['date'].sort_values(ascending=False)\n",
    "    summary_test = test.groupby(colname).count()['date'].sort_values(ascending=False)\n",
    "    summary_train.name = 'train'\n",
    "    summary_test.name = 'test'\n",
    "    result = pd.concat([summary_train, summary_test], axis=1, sort=True, join='outer').sort_values('train', ascending=False)\n",
    "    return result"
   ]
  },
  {
   "cell_type": "code",
   "execution_count": 7,
   "metadata": {
    "scrolled": true
   },
   "outputs": [
    {
     "name": "stdout",
     "output_type": "stream",
     "text": [
      "geoNetwork.city\n"
     ]
    },
    {
     "data": {
      "text/html": [
       "<div>\n",
       "<style scoped>\n",
       "    .dataframe tbody tr th:only-of-type {\n",
       "        vertical-align: middle;\n",
       "    }\n",
       "\n",
       "    .dataframe tbody tr th {\n",
       "        vertical-align: top;\n",
       "    }\n",
       "\n",
       "    .dataframe thead th {\n",
       "        text-align: right;\n",
       "    }\n",
       "</style>\n",
       "<table border=\"1\" class=\"dataframe\">\n",
       "  <thead>\n",
       "    <tr style=\"text-align: right;\">\n",
       "      <th></th>\n",
       "      <th>train</th>\n",
       "      <th>test</th>\n",
       "    </tr>\n",
       "  </thead>\n",
       "  <tbody>\n",
       "    <tr>\n",
       "      <th>not available in demo dataset</th>\n",
       "      <td>508229.0</td>\n",
       "      <td>424730.0</td>\n",
       "    </tr>\n",
       "    <tr>\n",
       "      <th>Mountain View</th>\n",
       "      <td>40884.0</td>\n",
       "      <td>33226.0</td>\n",
       "    </tr>\n",
       "    <tr>\n",
       "      <th>(not set)</th>\n",
       "      <td>34262.0</td>\n",
       "      <td>31605.0</td>\n",
       "    </tr>\n",
       "    <tr>\n",
       "      <th>New York</th>\n",
       "      <td>26371.0</td>\n",
       "      <td>23089.0</td>\n",
       "    </tr>\n",
       "    <tr>\n",
       "      <th>San Francisco</th>\n",
       "      <td>20329.0</td>\n",
       "      <td>16631.0</td>\n",
       "    </tr>\n",
       "    <tr>\n",
       "      <th>Sunnyvale</th>\n",
       "      <td>13086.0</td>\n",
       "      <td>14837.0</td>\n",
       "    </tr>\n",
       "    <tr>\n",
       "      <th>London</th>\n",
       "      <td>12607.0</td>\n",
       "      <td>11015.0</td>\n",
       "    </tr>\n",
       "    <tr>\n",
       "      <th>San Jose</th>\n",
       "      <td>10295.0</td>\n",
       "      <td>9846.0</td>\n",
       "    </tr>\n",
       "    <tr>\n",
       "      <th>Los Angeles</th>\n",
       "      <td>8670.0</td>\n",
       "      <td>8368.0</td>\n",
       "    </tr>\n",
       "    <tr>\n",
       "      <th>Bangkok</th>\n",
       "      <td>7709.0</td>\n",
       "      <td>4759.0</td>\n",
       "    </tr>\n",
       "    <tr>\n",
       "      <th>Chicago</th>\n",
       "      <td>7444.0</td>\n",
       "      <td>7699.0</td>\n",
       "    </tr>\n",
       "    <tr>\n",
       "      <th>Ho Chi Minh City</th>\n",
       "      <td>7342.0</td>\n",
       "      <td>3051.0</td>\n",
       "    </tr>\n",
       "    <tr>\n",
       "      <th>Istanbul</th>\n",
       "      <td>6330.0</td>\n",
       "      <td>3497.0</td>\n",
       "    </tr>\n",
       "    <tr>\n",
       "      <th>Bengaluru</th>\n",
       "      <td>5468.0</td>\n",
       "      <td>5960.0</td>\n",
       "    </tr>\n",
       "    <tr>\n",
       "      <th>Toronto</th>\n",
       "      <td>5223.0</td>\n",
       "      <td>4973.0</td>\n",
       "    </tr>\n",
       "    <tr>\n",
       "      <th>Hanoi</th>\n",
       "      <td>5032.0</td>\n",
       "      <td>1934.0</td>\n",
       "    </tr>\n",
       "    <tr>\n",
       "      <th>Seattle</th>\n",
       "      <td>5025.0</td>\n",
       "      <td>4541.0</td>\n",
       "    </tr>\n",
       "    <tr>\n",
       "      <th>Sydney</th>\n",
       "      <td>4926.0</td>\n",
       "      <td>4025.0</td>\n",
       "    </tr>\n",
       "    <tr>\n",
       "      <th>Dublin</th>\n",
       "      <td>4877.0</td>\n",
       "      <td>4559.0</td>\n",
       "    </tr>\n",
       "    <tr>\n",
       "      <th>Sao Paulo</th>\n",
       "      <td>4106.0</td>\n",
       "      <td>3722.0</td>\n",
       "    </tr>\n",
       "    <tr>\n",
       "      <th>Mumbai</th>\n",
       "      <td>4099.0</td>\n",
       "      <td>4464.0</td>\n",
       "    </tr>\n",
       "    <tr>\n",
       "      <th>Chennai</th>\n",
       "      <td>4090.0</td>\n",
       "      <td>3956.0</td>\n",
       "    </tr>\n",
       "    <tr>\n",
       "      <th>Paris</th>\n",
       "      <td>4013.0</td>\n",
       "      <td>4081.0</td>\n",
       "    </tr>\n",
       "    <tr>\n",
       "      <th>Hyderabad</th>\n",
       "      <td>3934.0</td>\n",
       "      <td>4419.0</td>\n",
       "    </tr>\n",
       "    <tr>\n",
       "      <th>Austin</th>\n",
       "      <td>3790.0</td>\n",
       "      <td>3499.0</td>\n",
       "    </tr>\n",
       "    <tr>\n",
       "      <th>Tel Aviv-Yafo</th>\n",
       "      <td>3542.0</td>\n",
       "      <td>2152.0</td>\n",
       "    </tr>\n",
       "    <tr>\n",
       "      <th>Hong Kong</th>\n",
       "      <td>3508.0</td>\n",
       "      <td>2770.0</td>\n",
       "    </tr>\n",
       "    <tr>\n",
       "      <th>Jakarta</th>\n",
       "      <td>3338.0</td>\n",
       "      <td>3093.0</td>\n",
       "    </tr>\n",
       "    <tr>\n",
       "      <th>Singapore</th>\n",
       "      <td>3299.0</td>\n",
       "      <td>3176.0</td>\n",
       "    </tr>\n",
       "    <tr>\n",
       "      <th>Warsaw</th>\n",
       "      <td>3288.0</td>\n",
       "      <td>1949.0</td>\n",
       "    </tr>\n",
       "    <tr>\n",
       "      <th>...</th>\n",
       "      <td>...</td>\n",
       "      <td>...</td>\n",
       "    </tr>\n",
       "    <tr>\n",
       "      <th>Tiruchirappalli</th>\n",
       "      <td>NaN</td>\n",
       "      <td>15.0</td>\n",
       "    </tr>\n",
       "    <tr>\n",
       "      <th>Tirupati</th>\n",
       "      <td>NaN</td>\n",
       "      <td>7.0</td>\n",
       "    </tr>\n",
       "    <tr>\n",
       "      <th>Tlaxcalancingo</th>\n",
       "      <td>NaN</td>\n",
       "      <td>7.0</td>\n",
       "    </tr>\n",
       "    <tr>\n",
       "      <th>Toulouse</th>\n",
       "      <td>NaN</td>\n",
       "      <td>8.0</td>\n",
       "    </tr>\n",
       "    <tr>\n",
       "      <th>Tsukuba</th>\n",
       "      <td>NaN</td>\n",
       "      <td>7.0</td>\n",
       "    </tr>\n",
       "    <tr>\n",
       "      <th>Tubarao</th>\n",
       "      <td>NaN</td>\n",
       "      <td>6.0</td>\n",
       "    </tr>\n",
       "    <tr>\n",
       "      <th>Ufa</th>\n",
       "      <td>NaN</td>\n",
       "      <td>13.0</td>\n",
       "    </tr>\n",
       "    <tr>\n",
       "      <th>Venice</th>\n",
       "      <td>NaN</td>\n",
       "      <td>9.0</td>\n",
       "    </tr>\n",
       "    <tr>\n",
       "      <th>Viana do Castelo</th>\n",
       "      <td>NaN</td>\n",
       "      <td>8.0</td>\n",
       "    </tr>\n",
       "    <tr>\n",
       "      <th>Victoria</th>\n",
       "      <td>NaN</td>\n",
       "      <td>21.0</td>\n",
       "    </tr>\n",
       "    <tr>\n",
       "      <th>Vientiane</th>\n",
       "      <td>NaN</td>\n",
       "      <td>7.0</td>\n",
       "    </tr>\n",
       "    <tr>\n",
       "      <th>Villaviciosa de Odon</th>\n",
       "      <td>NaN</td>\n",
       "      <td>17.0</td>\n",
       "    </tr>\n",
       "    <tr>\n",
       "      <th>Virginia Beach</th>\n",
       "      <td>NaN</td>\n",
       "      <td>24.0</td>\n",
       "    </tr>\n",
       "    <tr>\n",
       "      <th>Visakhapatnam</th>\n",
       "      <td>NaN</td>\n",
       "      <td>17.0</td>\n",
       "    </tr>\n",
       "    <tr>\n",
       "      <th>Watertown</th>\n",
       "      <td>NaN</td>\n",
       "      <td>32.0</td>\n",
       "    </tr>\n",
       "    <tr>\n",
       "      <th>Wedel</th>\n",
       "      <td>NaN</td>\n",
       "      <td>13.0</td>\n",
       "    </tr>\n",
       "    <tr>\n",
       "      <th>Wembley</th>\n",
       "      <td>NaN</td>\n",
       "      <td>49.0</td>\n",
       "    </tr>\n",
       "    <tr>\n",
       "      <th>West Palm Beach</th>\n",
       "      <td>NaN</td>\n",
       "      <td>6.0</td>\n",
       "    </tr>\n",
       "    <tr>\n",
       "      <th>West Windsor Township</th>\n",
       "      <td>NaN</td>\n",
       "      <td>7.0</td>\n",
       "    </tr>\n",
       "    <tr>\n",
       "      <th>Westhampton Beach</th>\n",
       "      <td>NaN</td>\n",
       "      <td>6.0</td>\n",
       "    </tr>\n",
       "    <tr>\n",
       "      <th>Wichita</th>\n",
       "      <td>NaN</td>\n",
       "      <td>9.0</td>\n",
       "    </tr>\n",
       "    <tr>\n",
       "      <th>Wieselburg</th>\n",
       "      <td>NaN</td>\n",
       "      <td>29.0</td>\n",
       "    </tr>\n",
       "    <tr>\n",
       "      <th>Williamsport</th>\n",
       "      <td>NaN</td>\n",
       "      <td>23.0</td>\n",
       "    </tr>\n",
       "    <tr>\n",
       "      <th>Woluwe-Saint-Lambert</th>\n",
       "      <td>NaN</td>\n",
       "      <td>64.0</td>\n",
       "    </tr>\n",
       "    <tr>\n",
       "      <th>Wurzburg</th>\n",
       "      <td>NaN</td>\n",
       "      <td>7.0</td>\n",
       "    </tr>\n",
       "    <tr>\n",
       "      <th>Yangon</th>\n",
       "      <td>NaN</td>\n",
       "      <td>8.0</td>\n",
       "    </tr>\n",
       "    <tr>\n",
       "      <th>Yekaterinburg</th>\n",
       "      <td>NaN</td>\n",
       "      <td>23.0</td>\n",
       "    </tr>\n",
       "    <tr>\n",
       "      <th>York</th>\n",
       "      <td>NaN</td>\n",
       "      <td>7.0</td>\n",
       "    </tr>\n",
       "    <tr>\n",
       "      <th>Yverdon-les-Bains</th>\n",
       "      <td>NaN</td>\n",
       "      <td>19.0</td>\n",
       "    </tr>\n",
       "    <tr>\n",
       "      <th>Zhubei City</th>\n",
       "      <td>NaN</td>\n",
       "      <td>38.0</td>\n",
       "    </tr>\n",
       "  </tbody>\n",
       "</table>\n",
       "<p>956 rows × 2 columns</p>\n",
       "</div>"
      ],
      "text/plain": [
       "                                  train      test\n",
       "not available in demo dataset  508229.0  424730.0\n",
       "Mountain View                   40884.0   33226.0\n",
       "(not set)                       34262.0   31605.0\n",
       "New York                        26371.0   23089.0\n",
       "San Francisco                   20329.0   16631.0\n",
       "Sunnyvale                       13086.0   14837.0\n",
       "London                          12607.0   11015.0\n",
       "San Jose                        10295.0    9846.0\n",
       "Los Angeles                      8670.0    8368.0\n",
       "Bangkok                          7709.0    4759.0\n",
       "Chicago                          7444.0    7699.0\n",
       "Ho Chi Minh City                 7342.0    3051.0\n",
       "Istanbul                         6330.0    3497.0\n",
       "Bengaluru                        5468.0    5960.0\n",
       "Toronto                          5223.0    4973.0\n",
       "Hanoi                            5032.0    1934.0\n",
       "Seattle                          5025.0    4541.0\n",
       "Sydney                           4926.0    4025.0\n",
       "Dublin                           4877.0    4559.0\n",
       "Sao Paulo                        4106.0    3722.0\n",
       "Mumbai                           4099.0    4464.0\n",
       "Chennai                          4090.0    3956.0\n",
       "Paris                            4013.0    4081.0\n",
       "Hyderabad                        3934.0    4419.0\n",
       "Austin                           3790.0    3499.0\n",
       "Tel Aviv-Yafo                    3542.0    2152.0\n",
       "Hong Kong                        3508.0    2770.0\n",
       "Jakarta                          3338.0    3093.0\n",
       "Singapore                        3299.0    3176.0\n",
       "Warsaw                           3288.0    1949.0\n",
       "...                                 ...       ...\n",
       "Tiruchirappalli                     NaN      15.0\n",
       "Tirupati                            NaN       7.0\n",
       "Tlaxcalancingo                      NaN       7.0\n",
       "Toulouse                            NaN       8.0\n",
       "Tsukuba                             NaN       7.0\n",
       "Tubarao                             NaN       6.0\n",
       "Ufa                                 NaN      13.0\n",
       "Venice                              NaN       9.0\n",
       "Viana do Castelo                    NaN       8.0\n",
       "Victoria                            NaN      21.0\n",
       "Vientiane                           NaN       7.0\n",
       "Villaviciosa de Odon                NaN      17.0\n",
       "Virginia Beach                      NaN      24.0\n",
       "Visakhapatnam                       NaN      17.0\n",
       "Watertown                           NaN      32.0\n",
       "Wedel                               NaN      13.0\n",
       "Wembley                             NaN      49.0\n",
       "West Palm Beach                     NaN       6.0\n",
       "West Windsor Township               NaN       7.0\n",
       "Westhampton Beach                   NaN       6.0\n",
       "Wichita                             NaN       9.0\n",
       "Wieselburg                          NaN      29.0\n",
       "Williamsport                        NaN      23.0\n",
       "Woluwe-Saint-Lambert                NaN      64.0\n",
       "Wurzburg                            NaN       7.0\n",
       "Yangon                              NaN       8.0\n",
       "Yekaterinburg                       NaN      23.0\n",
       "York                                NaN       7.0\n",
       "Yverdon-les-Bains                   NaN      19.0\n",
       "Zhubei City                         NaN      38.0\n",
       "\n",
       "[956 rows x 2 columns]"
      ]
     },
     "metadata": {},
     "output_type": "display_data"
    },
    {
     "name": "stdout",
     "output_type": "stream",
     "text": [
      "geoNetwork.cityId\n"
     ]
    },
    {
     "data": {
      "text/html": [
       "<div>\n",
       "<style scoped>\n",
       "    .dataframe tbody tr th:only-of-type {\n",
       "        vertical-align: middle;\n",
       "    }\n",
       "\n",
       "    .dataframe tbody tr th {\n",
       "        vertical-align: top;\n",
       "    }\n",
       "\n",
       "    .dataframe thead th {\n",
       "        text-align: right;\n",
       "    }\n",
       "</style>\n",
       "<table border=\"1\" class=\"dataframe\">\n",
       "  <thead>\n",
       "    <tr style=\"text-align: right;\">\n",
       "      <th></th>\n",
       "      <th>train</th>\n",
       "      <th>test</th>\n",
       "    </tr>\n",
       "    <tr>\n",
       "      <th>geoNetwork.cityId</th>\n",
       "      <th></th>\n",
       "      <th></th>\n",
       "    </tr>\n",
       "  </thead>\n",
       "  <tbody>\n",
       "    <tr>\n",
       "      <th>not available in demo dataset</th>\n",
       "      <td>903653</td>\n",
       "      <td>804684</td>\n",
       "    </tr>\n",
       "  </tbody>\n",
       "</table>\n",
       "</div>"
      ],
      "text/plain": [
       "                                train    test\n",
       "geoNetwork.cityId                            \n",
       "not available in demo dataset  903653  804684"
      ]
     },
     "metadata": {},
     "output_type": "display_data"
    },
    {
     "name": "stdout",
     "output_type": "stream",
     "text": [
      "geoNetwork.continent\n"
     ]
    },
    {
     "data": {
      "text/html": [
       "<div>\n",
       "<style scoped>\n",
       "    .dataframe tbody tr th:only-of-type {\n",
       "        vertical-align: middle;\n",
       "    }\n",
       "\n",
       "    .dataframe tbody tr th {\n",
       "        vertical-align: top;\n",
       "    }\n",
       "\n",
       "    .dataframe thead th {\n",
       "        text-align: right;\n",
       "    }\n",
       "</style>\n",
       "<table border=\"1\" class=\"dataframe\">\n",
       "  <thead>\n",
       "    <tr style=\"text-align: right;\">\n",
       "      <th></th>\n",
       "      <th>train</th>\n",
       "      <th>test</th>\n",
       "    </tr>\n",
       "  </thead>\n",
       "  <tbody>\n",
       "    <tr>\n",
       "      <th>Americas</th>\n",
       "      <td>450377</td>\n",
       "      <td>427026</td>\n",
       "    </tr>\n",
       "    <tr>\n",
       "      <th>Asia</th>\n",
       "      <td>223698</td>\n",
       "      <td>173021</td>\n",
       "    </tr>\n",
       "    <tr>\n",
       "      <th>Europe</th>\n",
       "      <td>198311</td>\n",
       "      <td>169726</td>\n",
       "    </tr>\n",
       "    <tr>\n",
       "      <th>Oceania</th>\n",
       "      <td>15054</td>\n",
       "      <td>13126</td>\n",
       "    </tr>\n",
       "    <tr>\n",
       "      <th>Africa</th>\n",
       "      <td>14745</td>\n",
       "      <td>20736</td>\n",
       "    </tr>\n",
       "    <tr>\n",
       "      <th>(not set)</th>\n",
       "      <td>1468</td>\n",
       "      <td>1049</td>\n",
       "    </tr>\n",
       "  </tbody>\n",
       "</table>\n",
       "</div>"
      ],
      "text/plain": [
       "            train    test\n",
       "Americas   450377  427026\n",
       "Asia       223698  173021\n",
       "Europe     198311  169726\n",
       "Oceania     15054   13126\n",
       "Africa      14745   20736\n",
       "(not set)    1468    1049"
      ]
     },
     "metadata": {},
     "output_type": "display_data"
    },
    {
     "name": "stdout",
     "output_type": "stream",
     "text": [
      "geoNetwork.country\n"
     ]
    },
    {
     "data": {
      "text/html": [
       "<div>\n",
       "<style scoped>\n",
       "    .dataframe tbody tr th:only-of-type {\n",
       "        vertical-align: middle;\n",
       "    }\n",
       "\n",
       "    .dataframe tbody tr th {\n",
       "        vertical-align: top;\n",
       "    }\n",
       "\n",
       "    .dataframe thead th {\n",
       "        text-align: right;\n",
       "    }\n",
       "</style>\n",
       "<table border=\"1\" class=\"dataframe\">\n",
       "  <thead>\n",
       "    <tr style=\"text-align: right;\">\n",
       "      <th></th>\n",
       "      <th>train</th>\n",
       "      <th>test</th>\n",
       "    </tr>\n",
       "  </thead>\n",
       "  <tbody>\n",
       "    <tr>\n",
       "      <th>United States</th>\n",
       "      <td>364744.0</td>\n",
       "      <td>352473.0</td>\n",
       "    </tr>\n",
       "    <tr>\n",
       "      <th>India</th>\n",
       "      <td>51140.0</td>\n",
       "      <td>54177.0</td>\n",
       "    </tr>\n",
       "    <tr>\n",
       "      <th>United Kingdom</th>\n",
       "      <td>37393.0</td>\n",
       "      <td>35948.0</td>\n",
       "    </tr>\n",
       "    <tr>\n",
       "      <th>Canada</th>\n",
       "      <td>25869.0</td>\n",
       "      <td>25188.0</td>\n",
       "    </tr>\n",
       "    <tr>\n",
       "      <th>Vietnam</th>\n",
       "      <td>24598.0</td>\n",
       "      <td>10271.0</td>\n",
       "    </tr>\n",
       "    <tr>\n",
       "      <th>Turkey</th>\n",
       "      <td>20522.0</td>\n",
       "      <td>8644.0</td>\n",
       "    </tr>\n",
       "    <tr>\n",
       "      <th>Thailand</th>\n",
       "      <td>20123.0</td>\n",
       "      <td>9736.0</td>\n",
       "    </tr>\n",
       "    <tr>\n",
       "      <th>Germany</th>\n",
       "      <td>19980.0</td>\n",
       "      <td>18536.0</td>\n",
       "    </tr>\n",
       "    <tr>\n",
       "      <th>Brazil</th>\n",
       "      <td>19783.0</td>\n",
       "      <td>15649.0</td>\n",
       "    </tr>\n",
       "    <tr>\n",
       "      <th>Japan</th>\n",
       "      <td>19731.0</td>\n",
       "      <td>16906.0</td>\n",
       "    </tr>\n",
       "    <tr>\n",
       "      <th>France</th>\n",
       "      <td>15832.0</td>\n",
       "      <td>16457.0</td>\n",
       "    </tr>\n",
       "    <tr>\n",
       "      <th>Mexico</th>\n",
       "      <td>13225.0</td>\n",
       "      <td>12045.0</td>\n",
       "    </tr>\n",
       "    <tr>\n",
       "      <th>Taiwan</th>\n",
       "      <td>12996.0</td>\n",
       "      <td>13564.0</td>\n",
       "    </tr>\n",
       "    <tr>\n",
       "      <th>Australia</th>\n",
       "      <td>12698.0</td>\n",
       "      <td>10962.0</td>\n",
       "    </tr>\n",
       "    <tr>\n",
       "      <th>Russia</th>\n",
       "      <td>11662.0</td>\n",
       "      <td>7979.0</td>\n",
       "    </tr>\n",
       "    <tr>\n",
       "      <th>Spain</th>\n",
       "      <td>11658.0</td>\n",
       "      <td>11773.0</td>\n",
       "    </tr>\n",
       "    <tr>\n",
       "      <th>Netherlands</th>\n",
       "      <td>11453.0</td>\n",
       "      <td>10693.0</td>\n",
       "    </tr>\n",
       "    <tr>\n",
       "      <th>Italy</th>\n",
       "      <td>11332.0</td>\n",
       "      <td>9362.0</td>\n",
       "    </tr>\n",
       "    <tr>\n",
       "      <th>Poland</th>\n",
       "      <td>9693.0</td>\n",
       "      <td>6181.0</td>\n",
       "    </tr>\n",
       "    <tr>\n",
       "      <th>Indonesia</th>\n",
       "      <td>9273.0</td>\n",
       "      <td>7402.0</td>\n",
       "    </tr>\n",
       "    <tr>\n",
       "      <th>Philippines</th>\n",
       "      <td>9244.0</td>\n",
       "      <td>5028.0</td>\n",
       "    </tr>\n",
       "    <tr>\n",
       "      <th>Singapore</th>\n",
       "      <td>7172.0</td>\n",
       "      <td>6122.0</td>\n",
       "    </tr>\n",
       "    <tr>\n",
       "      <th>Ireland</th>\n",
       "      <td>6493.0</td>\n",
       "      <td>5794.0</td>\n",
       "    </tr>\n",
       "    <tr>\n",
       "      <th>Malaysia</th>\n",
       "      <td>6439.0</td>\n",
       "      <td>4381.0</td>\n",
       "    </tr>\n",
       "    <tr>\n",
       "      <th>Romania</th>\n",
       "      <td>6428.0</td>\n",
       "      <td>3161.0</td>\n",
       "    </tr>\n",
       "    <tr>\n",
       "      <th>Ukraine</th>\n",
       "      <td>5577.0</td>\n",
       "      <td>4282.0</td>\n",
       "    </tr>\n",
       "    <tr>\n",
       "      <th>Israel</th>\n",
       "      <td>5563.0</td>\n",
       "      <td>3886.0</td>\n",
       "    </tr>\n",
       "    <tr>\n",
       "      <th>Peru</th>\n",
       "      <td>5546.0</td>\n",
       "      <td>3688.0</td>\n",
       "    </tr>\n",
       "    <tr>\n",
       "      <th>Sweden</th>\n",
       "      <td>5315.0</td>\n",
       "      <td>4580.0</td>\n",
       "    </tr>\n",
       "    <tr>\n",
       "      <th>South Korea</th>\n",
       "      <td>5237.0</td>\n",
       "      <td>6326.0</td>\n",
       "    </tr>\n",
       "    <tr>\n",
       "      <th>...</th>\n",
       "      <td>...</td>\n",
       "      <td>...</td>\n",
       "    </tr>\n",
       "    <tr>\n",
       "      <th>Antigua &amp; Barbuda</th>\n",
       "      <td>5.0</td>\n",
       "      <td>9.0</td>\n",
       "    </tr>\n",
       "    <tr>\n",
       "      <th>Guinea-Bissau</th>\n",
       "      <td>4.0</td>\n",
       "      <td>5.0</td>\n",
       "    </tr>\n",
       "    <tr>\n",
       "      <th>Equatorial Guinea</th>\n",
       "      <td>4.0</td>\n",
       "      <td>1.0</td>\n",
       "    </tr>\n",
       "    <tr>\n",
       "      <th>Central African Republic</th>\n",
       "      <td>4.0</td>\n",
       "      <td>2.0</td>\n",
       "    </tr>\n",
       "    <tr>\n",
       "      <th>Caribbean Netherlands</th>\n",
       "      <td>4.0</td>\n",
       "      <td>6.0</td>\n",
       "    </tr>\n",
       "    <tr>\n",
       "      <th>San Marino</th>\n",
       "      <td>4.0</td>\n",
       "      <td>8.0</td>\n",
       "    </tr>\n",
       "    <tr>\n",
       "      <th>Dominica</th>\n",
       "      <td>3.0</td>\n",
       "      <td>1.0</td>\n",
       "    </tr>\n",
       "    <tr>\n",
       "      <th>Isle of Man</th>\n",
       "      <td>3.0</td>\n",
       "      <td>3.0</td>\n",
       "    </tr>\n",
       "    <tr>\n",
       "      <th>Vanuatu</th>\n",
       "      <td>3.0</td>\n",
       "      <td>1.0</td>\n",
       "    </tr>\n",
       "    <tr>\n",
       "      <th>Cook Islands</th>\n",
       "      <td>3.0</td>\n",
       "      <td>NaN</td>\n",
       "    </tr>\n",
       "    <tr>\n",
       "      <th>Congo - Brazzaville</th>\n",
       "      <td>3.0</td>\n",
       "      <td>14.0</td>\n",
       "    </tr>\n",
       "    <tr>\n",
       "      <th>Seychelles</th>\n",
       "      <td>3.0</td>\n",
       "      <td>1.0</td>\n",
       "    </tr>\n",
       "    <tr>\n",
       "      <th>Marshall Islands</th>\n",
       "      <td>2.0</td>\n",
       "      <td>NaN</td>\n",
       "    </tr>\n",
       "    <tr>\n",
       "      <th>Comoros</th>\n",
       "      <td>2.0</td>\n",
       "      <td>2.0</td>\n",
       "    </tr>\n",
       "    <tr>\n",
       "      <th>St. Barthélemy</th>\n",
       "      <td>1.0</td>\n",
       "      <td>1.0</td>\n",
       "    </tr>\n",
       "    <tr>\n",
       "      <th>Anguilla</th>\n",
       "      <td>1.0</td>\n",
       "      <td>NaN</td>\n",
       "    </tr>\n",
       "    <tr>\n",
       "      <th>Norfolk Island</th>\n",
       "      <td>1.0</td>\n",
       "      <td>NaN</td>\n",
       "    </tr>\n",
       "    <tr>\n",
       "      <th>Eritrea</th>\n",
       "      <td>1.0</td>\n",
       "      <td>NaN</td>\n",
       "    </tr>\n",
       "    <tr>\n",
       "      <th>São Tomé &amp; Príncipe</th>\n",
       "      <td>1.0</td>\n",
       "      <td>NaN</td>\n",
       "    </tr>\n",
       "    <tr>\n",
       "      <th>American Samoa</th>\n",
       "      <td>1.0</td>\n",
       "      <td>1.0</td>\n",
       "    </tr>\n",
       "    <tr>\n",
       "      <th>Samoa</th>\n",
       "      <td>1.0</td>\n",
       "      <td>NaN</td>\n",
       "    </tr>\n",
       "    <tr>\n",
       "      <th>St. Pierre &amp; Miquelon</th>\n",
       "      <td>1.0</td>\n",
       "      <td>NaN</td>\n",
       "    </tr>\n",
       "    <tr>\n",
       "      <th>St. Martin</th>\n",
       "      <td>1.0</td>\n",
       "      <td>4.0</td>\n",
       "    </tr>\n",
       "    <tr>\n",
       "      <th>Åland Islands</th>\n",
       "      <td>1.0</td>\n",
       "      <td>NaN</td>\n",
       "    </tr>\n",
       "    <tr>\n",
       "      <th>Micronesia</th>\n",
       "      <td>NaN</td>\n",
       "      <td>1.0</td>\n",
       "    </tr>\n",
       "    <tr>\n",
       "      <th>Montserrat</th>\n",
       "      <td>NaN</td>\n",
       "      <td>1.0</td>\n",
       "    </tr>\n",
       "    <tr>\n",
       "      <th>Solomon Islands</th>\n",
       "      <td>NaN</td>\n",
       "      <td>1.0</td>\n",
       "    </tr>\n",
       "    <tr>\n",
       "      <th>South Sudan</th>\n",
       "      <td>NaN</td>\n",
       "      <td>22.0</td>\n",
       "    </tr>\n",
       "    <tr>\n",
       "      <th>St. Helena</th>\n",
       "      <td>NaN</td>\n",
       "      <td>1.0</td>\n",
       "    </tr>\n",
       "    <tr>\n",
       "      <th>Tonga</th>\n",
       "      <td>NaN</td>\n",
       "      <td>1.0</td>\n",
       "    </tr>\n",
       "  </tbody>\n",
       "</table>\n",
       "<p>228 rows × 2 columns</p>\n",
       "</div>"
      ],
      "text/plain": [
       "                             train      test\n",
       "United States             364744.0  352473.0\n",
       "India                      51140.0   54177.0\n",
       "United Kingdom             37393.0   35948.0\n",
       "Canada                     25869.0   25188.0\n",
       "Vietnam                    24598.0   10271.0\n",
       "Turkey                     20522.0    8644.0\n",
       "Thailand                   20123.0    9736.0\n",
       "Germany                    19980.0   18536.0\n",
       "Brazil                     19783.0   15649.0\n",
       "Japan                      19731.0   16906.0\n",
       "France                     15832.0   16457.0\n",
       "Mexico                     13225.0   12045.0\n",
       "Taiwan                     12996.0   13564.0\n",
       "Australia                  12698.0   10962.0\n",
       "Russia                     11662.0    7979.0\n",
       "Spain                      11658.0   11773.0\n",
       "Netherlands                11453.0   10693.0\n",
       "Italy                      11332.0    9362.0\n",
       "Poland                      9693.0    6181.0\n",
       "Indonesia                   9273.0    7402.0\n",
       "Philippines                 9244.0    5028.0\n",
       "Singapore                   7172.0    6122.0\n",
       "Ireland                     6493.0    5794.0\n",
       "Malaysia                    6439.0    4381.0\n",
       "Romania                     6428.0    3161.0\n",
       "Ukraine                     5577.0    4282.0\n",
       "Israel                      5563.0    3886.0\n",
       "Peru                        5546.0    3688.0\n",
       "Sweden                      5315.0    4580.0\n",
       "South Korea                 5237.0    6326.0\n",
       "...                            ...       ...\n",
       "Antigua & Barbuda              5.0       9.0\n",
       "Guinea-Bissau                  4.0       5.0\n",
       "Equatorial Guinea              4.0       1.0\n",
       "Central African Republic       4.0       2.0\n",
       "Caribbean Netherlands          4.0       6.0\n",
       "San Marino                     4.0       8.0\n",
       "Dominica                       3.0       1.0\n",
       "Isle of Man                    3.0       3.0\n",
       "Vanuatu                        3.0       1.0\n",
       "Cook Islands                   3.0       NaN\n",
       "Congo - Brazzaville            3.0      14.0\n",
       "Seychelles                     3.0       1.0\n",
       "Marshall Islands               2.0       NaN\n",
       "Comoros                        2.0       2.0\n",
       "St. Barthélemy                 1.0       1.0\n",
       "Anguilla                       1.0       NaN\n",
       "Norfolk Island                 1.0       NaN\n",
       "Eritrea                        1.0       NaN\n",
       "São Tomé & Príncipe            1.0       NaN\n",
       "American Samoa                 1.0       1.0\n",
       "Samoa                          1.0       NaN\n",
       "St. Pierre & Miquelon          1.0       NaN\n",
       "St. Martin                     1.0       4.0\n",
       "Åland Islands                  1.0       NaN\n",
       "Micronesia                     NaN       1.0\n",
       "Montserrat                     NaN       1.0\n",
       "Solomon Islands                NaN       1.0\n",
       "South Sudan                    NaN      22.0\n",
       "St. Helena                     NaN       1.0\n",
       "Tonga                          NaN       1.0\n",
       "\n",
       "[228 rows x 2 columns]"
      ]
     },
     "metadata": {},
     "output_type": "display_data"
    },
    {
     "name": "stdout",
     "output_type": "stream",
     "text": [
      "geoNetwork.latitude\n"
     ]
    },
    {
     "data": {
      "text/html": [
       "<div>\n",
       "<style scoped>\n",
       "    .dataframe tbody tr th:only-of-type {\n",
       "        vertical-align: middle;\n",
       "    }\n",
       "\n",
       "    .dataframe tbody tr th {\n",
       "        vertical-align: top;\n",
       "    }\n",
       "\n",
       "    .dataframe thead th {\n",
       "        text-align: right;\n",
       "    }\n",
       "</style>\n",
       "<table border=\"1\" class=\"dataframe\">\n",
       "  <thead>\n",
       "    <tr style=\"text-align: right;\">\n",
       "      <th></th>\n",
       "      <th>train</th>\n",
       "      <th>test</th>\n",
       "    </tr>\n",
       "    <tr>\n",
       "      <th>geoNetwork.latitude</th>\n",
       "      <th></th>\n",
       "      <th></th>\n",
       "    </tr>\n",
       "  </thead>\n",
       "  <tbody>\n",
       "    <tr>\n",
       "      <th>not available in demo dataset</th>\n",
       "      <td>903653</td>\n",
       "      <td>804684</td>\n",
       "    </tr>\n",
       "  </tbody>\n",
       "</table>\n",
       "</div>"
      ],
      "text/plain": [
       "                                train    test\n",
       "geoNetwork.latitude                          \n",
       "not available in demo dataset  903653  804684"
      ]
     },
     "metadata": {},
     "output_type": "display_data"
    },
    {
     "name": "stdout",
     "output_type": "stream",
     "text": [
      "geoNetwork.longitude\n"
     ]
    },
    {
     "data": {
      "text/html": [
       "<div>\n",
       "<style scoped>\n",
       "    .dataframe tbody tr th:only-of-type {\n",
       "        vertical-align: middle;\n",
       "    }\n",
       "\n",
       "    .dataframe tbody tr th {\n",
       "        vertical-align: top;\n",
       "    }\n",
       "\n",
       "    .dataframe thead th {\n",
       "        text-align: right;\n",
       "    }\n",
       "</style>\n",
       "<table border=\"1\" class=\"dataframe\">\n",
       "  <thead>\n",
       "    <tr style=\"text-align: right;\">\n",
       "      <th></th>\n",
       "      <th>train</th>\n",
       "      <th>test</th>\n",
       "    </tr>\n",
       "    <tr>\n",
       "      <th>geoNetwork.longitude</th>\n",
       "      <th></th>\n",
       "      <th></th>\n",
       "    </tr>\n",
       "  </thead>\n",
       "  <tbody>\n",
       "    <tr>\n",
       "      <th>not available in demo dataset</th>\n",
       "      <td>903653</td>\n",
       "      <td>804684</td>\n",
       "    </tr>\n",
       "  </tbody>\n",
       "</table>\n",
       "</div>"
      ],
      "text/plain": [
       "                                train    test\n",
       "geoNetwork.longitude                         \n",
       "not available in demo dataset  903653  804684"
      ]
     },
     "metadata": {},
     "output_type": "display_data"
    },
    {
     "name": "stdout",
     "output_type": "stream",
     "text": [
      "geoNetwork.metro\n"
     ]
    },
    {
     "data": {
      "text/html": [
       "<div>\n",
       "<style scoped>\n",
       "    .dataframe tbody tr th:only-of-type {\n",
       "        vertical-align: middle;\n",
       "    }\n",
       "\n",
       "    .dataframe tbody tr th {\n",
       "        vertical-align: top;\n",
       "    }\n",
       "\n",
       "    .dataframe thead th {\n",
       "        text-align: right;\n",
       "    }\n",
       "</style>\n",
       "<table border=\"1\" class=\"dataframe\">\n",
       "  <thead>\n",
       "    <tr style=\"text-align: right;\">\n",
       "      <th></th>\n",
       "      <th>train</th>\n",
       "      <th>test</th>\n",
       "    </tr>\n",
       "  </thead>\n",
       "  <tbody>\n",
       "    <tr>\n",
       "      <th>not available in demo dataset</th>\n",
       "      <td>508229.0</td>\n",
       "      <td>424730.0</td>\n",
       "    </tr>\n",
       "    <tr>\n",
       "      <th>(not set)</th>\n",
       "      <td>201766.0</td>\n",
       "      <td>185130.0</td>\n",
       "    </tr>\n",
       "    <tr>\n",
       "      <th>San Francisco-Oakland-San Jose CA</th>\n",
       "      <td>95913.0</td>\n",
       "      <td>86832.0</td>\n",
       "    </tr>\n",
       "    <tr>\n",
       "      <th>New York NY</th>\n",
       "      <td>26917.0</td>\n",
       "      <td>23502.0</td>\n",
       "    </tr>\n",
       "    <tr>\n",
       "      <th>London</th>\n",
       "      <td>12571.0</td>\n",
       "      <td>11072.0</td>\n",
       "    </tr>\n",
       "    <tr>\n",
       "      <th>Los Angeles CA</th>\n",
       "      <td>9995.0</td>\n",
       "      <td>9958.0</td>\n",
       "    </tr>\n",
       "    <tr>\n",
       "      <th>Seattle-Tacoma WA</th>\n",
       "      <td>7642.0</td>\n",
       "      <td>7609.0</td>\n",
       "    </tr>\n",
       "    <tr>\n",
       "      <th>Chicago IL</th>\n",
       "      <td>7585.0</td>\n",
       "      <td>7715.0</td>\n",
       "    </tr>\n",
       "    <tr>\n",
       "      <th>Austin TX</th>\n",
       "      <td>3790.0</td>\n",
       "      <td>3499.0</td>\n",
       "    </tr>\n",
       "    <tr>\n",
       "      <th>Washington DC (Hagerstown MD)</th>\n",
       "      <td>3380.0</td>\n",
       "      <td>3641.0</td>\n",
       "    </tr>\n",
       "    <tr>\n",
       "      <th>Boston MA-Manchester NH</th>\n",
       "      <td>2628.0</td>\n",
       "      <td>3240.0</td>\n",
       "    </tr>\n",
       "    <tr>\n",
       "      <th>Houston TX</th>\n",
       "      <td>2475.0</td>\n",
       "      <td>3229.0</td>\n",
       "    </tr>\n",
       "    <tr>\n",
       "      <th>Atlanta GA</th>\n",
       "      <td>2463.0</td>\n",
       "      <td>3001.0</td>\n",
       "    </tr>\n",
       "    <tr>\n",
       "      <th>Detroit MI</th>\n",
       "      <td>2403.0</td>\n",
       "      <td>2114.0</td>\n",
       "    </tr>\n",
       "    <tr>\n",
       "      <th>Roanoke-Lynchburg VA</th>\n",
       "      <td>2227.0</td>\n",
       "      <td>447.0</td>\n",
       "    </tr>\n",
       "    <tr>\n",
       "      <th>Dallas-Ft. Worth TX</th>\n",
       "      <td>2012.0</td>\n",
       "      <td>3775.0</td>\n",
       "    </tr>\n",
       "    <tr>\n",
       "      <th>San Diego CA</th>\n",
       "      <td>1364.0</td>\n",
       "      <td>2120.0</td>\n",
       "    </tr>\n",
       "    <tr>\n",
       "      <th>Portland OR</th>\n",
       "      <td>1319.0</td>\n",
       "      <td>486.0</td>\n",
       "    </tr>\n",
       "    <tr>\n",
       "      <th>Pittsburgh PA</th>\n",
       "      <td>1076.0</td>\n",
       "      <td>1055.0</td>\n",
       "    </tr>\n",
       "    <tr>\n",
       "      <th>Denver CO</th>\n",
       "      <td>877.0</td>\n",
       "      <td>1695.0</td>\n",
       "    </tr>\n",
       "    <tr>\n",
       "      <th>Philadelphia PA</th>\n",
       "      <td>800.0</td>\n",
       "      <td>2037.0</td>\n",
       "    </tr>\n",
       "    <tr>\n",
       "      <th>Phoenix AZ</th>\n",
       "      <td>537.0</td>\n",
       "      <td>971.0</td>\n",
       "    </tr>\n",
       "    <tr>\n",
       "      <th>Charlotte NC</th>\n",
       "      <td>525.0</td>\n",
       "      <td>1386.0</td>\n",
       "    </tr>\n",
       "    <tr>\n",
       "      <th>Columbus OH</th>\n",
       "      <td>517.0</td>\n",
       "      <td>258.0</td>\n",
       "    </tr>\n",
       "    <tr>\n",
       "      <th>La Crosse-Eau Claire WI</th>\n",
       "      <td>396.0</td>\n",
       "      <td>310.0</td>\n",
       "    </tr>\n",
       "    <tr>\n",
       "      <th>San Antonio TX</th>\n",
       "      <td>393.0</td>\n",
       "      <td>1006.0</td>\n",
       "    </tr>\n",
       "    <tr>\n",
       "      <th>Orlando-Daytona Beach-Melbourne FL</th>\n",
       "      <td>360.0</td>\n",
       "      <td>1065.0</td>\n",
       "    </tr>\n",
       "    <tr>\n",
       "      <th>JP_KANTO</th>\n",
       "      <td>279.0</td>\n",
       "      <td>4064.0</td>\n",
       "    </tr>\n",
       "    <tr>\n",
       "      <th>North West</th>\n",
       "      <td>271.0</td>\n",
       "      <td>638.0</td>\n",
       "    </tr>\n",
       "    <tr>\n",
       "      <th>Minneapolis-St. Paul MN</th>\n",
       "      <td>197.0</td>\n",
       "      <td>394.0</td>\n",
       "    </tr>\n",
       "    <tr>\n",
       "      <th>...</th>\n",
       "      <td>...</td>\n",
       "      <td>...</td>\n",
       "    </tr>\n",
       "    <tr>\n",
       "      <th>Boise ID</th>\n",
       "      <td>3.0</td>\n",
       "      <td>67.0</td>\n",
       "    </tr>\n",
       "    <tr>\n",
       "      <th>Anchorage AK</th>\n",
       "      <td>NaN</td>\n",
       "      <td>12.0</td>\n",
       "    </tr>\n",
       "    <tr>\n",
       "      <th>Birmingham (Ann and Tusc) AL</th>\n",
       "      <td>NaN</td>\n",
       "      <td>30.0</td>\n",
       "    </tr>\n",
       "    <tr>\n",
       "      <th>Buffalo NY</th>\n",
       "      <td>NaN</td>\n",
       "      <td>5.0</td>\n",
       "    </tr>\n",
       "    <tr>\n",
       "      <th>Champaign &amp; Springfield-Decatur IL</th>\n",
       "      <td>NaN</td>\n",
       "      <td>6.0</td>\n",
       "    </tr>\n",
       "    <tr>\n",
       "      <th>Columbus GA</th>\n",
       "      <td>NaN</td>\n",
       "      <td>47.0</td>\n",
       "    </tr>\n",
       "    <tr>\n",
       "      <th>Dayton OH</th>\n",
       "      <td>NaN</td>\n",
       "      <td>6.0</td>\n",
       "    </tr>\n",
       "    <tr>\n",
       "      <th>Des Moines-Ames IA</th>\n",
       "      <td>NaN</td>\n",
       "      <td>6.0</td>\n",
       "    </tr>\n",
       "    <tr>\n",
       "      <th>East Of England</th>\n",
       "      <td>NaN</td>\n",
       "      <td>20.0</td>\n",
       "    </tr>\n",
       "    <tr>\n",
       "      <th>Erie PA</th>\n",
       "      <td>NaN</td>\n",
       "      <td>11.0</td>\n",
       "    </tr>\n",
       "    <tr>\n",
       "      <th>Flint-Saginaw-Bay City MI</th>\n",
       "      <td>NaN</td>\n",
       "      <td>9.0</td>\n",
       "    </tr>\n",
       "    <tr>\n",
       "      <th>Ft. Wayne IN</th>\n",
       "      <td>NaN</td>\n",
       "      <td>8.0</td>\n",
       "    </tr>\n",
       "    <tr>\n",
       "      <th>Greenville-New Bern-Washington NC</th>\n",
       "      <td>NaN</td>\n",
       "      <td>10.0</td>\n",
       "    </tr>\n",
       "    <tr>\n",
       "      <th>JP_CHUKYO</th>\n",
       "      <td>NaN</td>\n",
       "      <td>52.0</td>\n",
       "    </tr>\n",
       "    <tr>\n",
       "      <th>Lincoln &amp; Hastings-Kearney NE</th>\n",
       "      <td>NaN</td>\n",
       "      <td>51.0</td>\n",
       "    </tr>\n",
       "    <tr>\n",
       "      <th>Lubbock TX</th>\n",
       "      <td>NaN</td>\n",
       "      <td>7.0</td>\n",
       "    </tr>\n",
       "    <tr>\n",
       "      <th>Monterey-Salinas CA</th>\n",
       "      <td>NaN</td>\n",
       "      <td>13.0</td>\n",
       "    </tr>\n",
       "    <tr>\n",
       "      <th>North East</th>\n",
       "      <td>NaN</td>\n",
       "      <td>21.0</td>\n",
       "    </tr>\n",
       "    <tr>\n",
       "      <th>Oklahoma City OK</th>\n",
       "      <td>NaN</td>\n",
       "      <td>59.0</td>\n",
       "    </tr>\n",
       "    <tr>\n",
       "      <th>Paducah KY-Cape Girardeau MO-Harrisburg-Mount Vernon IL</th>\n",
       "      <td>NaN</td>\n",
       "      <td>27.0</td>\n",
       "    </tr>\n",
       "    <tr>\n",
       "      <th>Reno NV</th>\n",
       "      <td>NaN</td>\n",
       "      <td>150.0</td>\n",
       "    </tr>\n",
       "    <tr>\n",
       "      <th>Richmond-Petersburg VA</th>\n",
       "      <td>NaN</td>\n",
       "      <td>7.0</td>\n",
       "    </tr>\n",
       "    <tr>\n",
       "      <th>Rochester NY</th>\n",
       "      <td>NaN</td>\n",
       "      <td>29.0</td>\n",
       "    </tr>\n",
       "    <tr>\n",
       "      <th>Sioux City IA</th>\n",
       "      <td>NaN</td>\n",
       "      <td>50.0</td>\n",
       "    </tr>\n",
       "    <tr>\n",
       "      <th>Spokane WA</th>\n",
       "      <td>NaN</td>\n",
       "      <td>121.0</td>\n",
       "    </tr>\n",
       "    <tr>\n",
       "      <th>Toledo OH</th>\n",
       "      <td>NaN</td>\n",
       "      <td>20.0</td>\n",
       "    </tr>\n",
       "    <tr>\n",
       "      <th>Ulster</th>\n",
       "      <td>NaN</td>\n",
       "      <td>27.0</td>\n",
       "    </tr>\n",
       "    <tr>\n",
       "      <th>West Palm Beach-Ft. Pierce FL</th>\n",
       "      <td>NaN</td>\n",
       "      <td>48.0</td>\n",
       "    </tr>\n",
       "    <tr>\n",
       "      <th>Wichita-Hutchinson KS</th>\n",
       "      <td>NaN</td>\n",
       "      <td>9.0</td>\n",
       "    </tr>\n",
       "    <tr>\n",
       "      <th>Wilkes Barre-Scranton PA</th>\n",
       "      <td>NaN</td>\n",
       "      <td>23.0</td>\n",
       "    </tr>\n",
       "  </tbody>\n",
       "</table>\n",
       "<p>123 rows × 2 columns</p>\n",
       "</div>"
      ],
      "text/plain": [
       "                                                       train      test\n",
       "not available in demo dataset                       508229.0  424730.0\n",
       "(not set)                                           201766.0  185130.0\n",
       "San Francisco-Oakland-San Jose CA                    95913.0   86832.0\n",
       "New York NY                                          26917.0   23502.0\n",
       "London                                               12571.0   11072.0\n",
       "Los Angeles CA                                        9995.0    9958.0\n",
       "Seattle-Tacoma WA                                     7642.0    7609.0\n",
       "Chicago IL                                            7585.0    7715.0\n",
       "Austin TX                                             3790.0    3499.0\n",
       "Washington DC (Hagerstown MD)                         3380.0    3641.0\n",
       "Boston MA-Manchester NH                               2628.0    3240.0\n",
       "Houston TX                                            2475.0    3229.0\n",
       "Atlanta GA                                            2463.0    3001.0\n",
       "Detroit MI                                            2403.0    2114.0\n",
       "Roanoke-Lynchburg VA                                  2227.0     447.0\n",
       "Dallas-Ft. Worth TX                                   2012.0    3775.0\n",
       "San Diego CA                                          1364.0    2120.0\n",
       "Portland OR                                           1319.0     486.0\n",
       "Pittsburgh PA                                         1076.0    1055.0\n",
       "Denver CO                                              877.0    1695.0\n",
       "Philadelphia PA                                        800.0    2037.0\n",
       "Phoenix AZ                                             537.0     971.0\n",
       "Charlotte NC                                           525.0    1386.0\n",
       "Columbus OH                                            517.0     258.0\n",
       "La Crosse-Eau Claire WI                                396.0     310.0\n",
       "San Antonio TX                                         393.0    1006.0\n",
       "Orlando-Daytona Beach-Melbourne FL                     360.0    1065.0\n",
       "JP_KANTO                                               279.0    4064.0\n",
       "North West                                             271.0     638.0\n",
       "Minneapolis-St. Paul MN                                197.0     394.0\n",
       "...                                                      ...       ...\n",
       "Boise ID                                                 3.0      67.0\n",
       "Anchorage AK                                             NaN      12.0\n",
       "Birmingham (Ann and Tusc) AL                             NaN      30.0\n",
       "Buffalo NY                                               NaN       5.0\n",
       "Champaign & Springfield-Decatur IL                       NaN       6.0\n",
       "Columbus GA                                              NaN      47.0\n",
       "Dayton OH                                                NaN       6.0\n",
       "Des Moines-Ames IA                                       NaN       6.0\n",
       "East Of England                                          NaN      20.0\n",
       "Erie PA                                                  NaN      11.0\n",
       "Flint-Saginaw-Bay City MI                                NaN       9.0\n",
       "Ft. Wayne IN                                             NaN       8.0\n",
       "Greenville-New Bern-Washington NC                        NaN      10.0\n",
       "JP_CHUKYO                                                NaN      52.0\n",
       "Lincoln & Hastings-Kearney NE                            NaN      51.0\n",
       "Lubbock TX                                               NaN       7.0\n",
       "Monterey-Salinas CA                                      NaN      13.0\n",
       "North East                                               NaN      21.0\n",
       "Oklahoma City OK                                         NaN      59.0\n",
       "Paducah KY-Cape Girardeau MO-Harrisburg-Mount V...       NaN      27.0\n",
       "Reno NV                                                  NaN     150.0\n",
       "Richmond-Petersburg VA                                   NaN       7.0\n",
       "Rochester NY                                             NaN      29.0\n",
       "Sioux City IA                                            NaN      50.0\n",
       "Spokane WA                                               NaN     121.0\n",
       "Toledo OH                                                NaN      20.0\n",
       "Ulster                                                   NaN      27.0\n",
       "West Palm Beach-Ft. Pierce FL                            NaN      48.0\n",
       "Wichita-Hutchinson KS                                    NaN       9.0\n",
       "Wilkes Barre-Scranton PA                                 NaN      23.0\n",
       "\n",
       "[123 rows x 2 columns]"
      ]
     },
     "metadata": {},
     "output_type": "display_data"
    },
    {
     "name": "stdout",
     "output_type": "stream",
     "text": [
      "geoNetwork.networkDomain\n"
     ]
    },
    {
     "data": {
      "text/html": [
       "<div>\n",
       "<style scoped>\n",
       "    .dataframe tbody tr th:only-of-type {\n",
       "        vertical-align: middle;\n",
       "    }\n",
       "\n",
       "    .dataframe tbody tr th {\n",
       "        vertical-align: top;\n",
       "    }\n",
       "\n",
       "    .dataframe thead th {\n",
       "        text-align: right;\n",
       "    }\n",
       "</style>\n",
       "<table border=\"1\" class=\"dataframe\">\n",
       "  <thead>\n",
       "    <tr style=\"text-align: right;\">\n",
       "      <th></th>\n",
       "      <th>train</th>\n",
       "      <th>test</th>\n",
       "    </tr>\n",
       "  </thead>\n",
       "  <tbody>\n",
       "    <tr>\n",
       "      <th>(not set)</th>\n",
       "      <td>244881.0</td>\n",
       "      <td>254168.0</td>\n",
       "    </tr>\n",
       "    <tr>\n",
       "      <th>unknown.unknown</th>\n",
       "      <td>146034.0</td>\n",
       "      <td>123762.0</td>\n",
       "    </tr>\n",
       "    <tr>\n",
       "      <th>comcast.net</th>\n",
       "      <td>28743.0</td>\n",
       "      <td>26743.0</td>\n",
       "    </tr>\n",
       "    <tr>\n",
       "      <th>rr.com</th>\n",
       "      <td>14827.0</td>\n",
       "      <td>13888.0</td>\n",
       "    </tr>\n",
       "    <tr>\n",
       "      <th>verizon.net</th>\n",
       "      <td>13637.0</td>\n",
       "      <td>12910.0</td>\n",
       "    </tr>\n",
       "    <tr>\n",
       "      <th>ttnet.com.tr</th>\n",
       "      <td>13228.0</td>\n",
       "      <td>3850.0</td>\n",
       "    </tr>\n",
       "    <tr>\n",
       "      <th>comcastbusiness.net</th>\n",
       "      <td>9985.0</td>\n",
       "      <td>6841.0</td>\n",
       "    </tr>\n",
       "    <tr>\n",
       "      <th>hinet.net</th>\n",
       "      <td>7919.0</td>\n",
       "      <td>8014.0</td>\n",
       "    </tr>\n",
       "    <tr>\n",
       "      <th>virginm.net</th>\n",
       "      <td>6414.0</td>\n",
       "      <td>6180.0</td>\n",
       "    </tr>\n",
       "    <tr>\n",
       "      <th>3bb.co.th</th>\n",
       "      <td>6046.0</td>\n",
       "      <td>1786.0</td>\n",
       "    </tr>\n",
       "    <tr>\n",
       "      <th>prod-infinitum.com.mx</th>\n",
       "      <td>5960.0</td>\n",
       "      <td>3965.0</td>\n",
       "    </tr>\n",
       "    <tr>\n",
       "      <th>cox.net</th>\n",
       "      <td>5812.0</td>\n",
       "      <td>4910.0</td>\n",
       "    </tr>\n",
       "    <tr>\n",
       "      <th>sbcglobal.net</th>\n",
       "      <td>5388.0</td>\n",
       "      <td>5208.0</td>\n",
       "    </tr>\n",
       "    <tr>\n",
       "      <th>btcentralplus.com</th>\n",
       "      <td>5304.0</td>\n",
       "      <td>3848.0</td>\n",
       "    </tr>\n",
       "    <tr>\n",
       "      <th>att.net</th>\n",
       "      <td>5230.0</td>\n",
       "      <td>4025.0</td>\n",
       "    </tr>\n",
       "    <tr>\n",
       "      <th>google.com</th>\n",
       "      <td>5035.0</td>\n",
       "      <td>4962.0</td>\n",
       "    </tr>\n",
       "    <tr>\n",
       "      <th>optonline.net</th>\n",
       "      <td>4972.0</td>\n",
       "      <td>4762.0</td>\n",
       "    </tr>\n",
       "    <tr>\n",
       "      <th>totbb.net</th>\n",
       "      <td>4895.0</td>\n",
       "      <td>1933.0</td>\n",
       "    </tr>\n",
       "    <tr>\n",
       "      <th>vnpt.vn</th>\n",
       "      <td>4508.0</td>\n",
       "      <td>3154.0</td>\n",
       "    </tr>\n",
       "    <tr>\n",
       "      <th>asianet.co.th</th>\n",
       "      <td>4374.0</td>\n",
       "      <td>2693.0</td>\n",
       "    </tr>\n",
       "    <tr>\n",
       "      <th>pldt.net</th>\n",
       "      <td>4008.0</td>\n",
       "      <td>1745.0</td>\n",
       "    </tr>\n",
       "    <tr>\n",
       "      <th>rima-tde.net</th>\n",
       "      <td>3963.0</td>\n",
       "      <td>4115.0</td>\n",
       "    </tr>\n",
       "    <tr>\n",
       "      <th>amazonaws.com</th>\n",
       "      <td>3769.0</td>\n",
       "      <td>1270.0</td>\n",
       "    </tr>\n",
       "    <tr>\n",
       "      <th>t-ipconnect.de</th>\n",
       "      <td>3656.0</td>\n",
       "      <td>2461.0</td>\n",
       "    </tr>\n",
       "    <tr>\n",
       "      <th>telecomitalia.it</th>\n",
       "      <td>3571.0</td>\n",
       "      <td>2834.0</td>\n",
       "    </tr>\n",
       "    <tr>\n",
       "      <th>qwest.net</th>\n",
       "      <td>3534.0</td>\n",
       "      <td>3411.0</td>\n",
       "    </tr>\n",
       "    <tr>\n",
       "      <th>airtelbroadband.in</th>\n",
       "      <td>3389.0</td>\n",
       "      <td>2602.0</td>\n",
       "    </tr>\n",
       "    <tr>\n",
       "      <th>virtua.com.br</th>\n",
       "      <td>3318.0</td>\n",
       "      <td>2081.0</td>\n",
       "    </tr>\n",
       "    <tr>\n",
       "      <th>bell.ca</th>\n",
       "      <td>2904.0</td>\n",
       "      <td>3052.0</td>\n",
       "    </tr>\n",
       "    <tr>\n",
       "      <th>ztomy.com</th>\n",
       "      <td>2845.0</td>\n",
       "      <td>258.0</td>\n",
       "    </tr>\n",
       "    <tr>\n",
       "      <th>...</th>\n",
       "      <td>...</td>\n",
       "      <td>...</td>\n",
       "    </tr>\n",
       "    <tr>\n",
       "      <th>zipbd.com</th>\n",
       "      <td>NaN</td>\n",
       "      <td>2.0</td>\n",
       "    </tr>\n",
       "    <tr>\n",
       "      <th>ziplink.net</th>\n",
       "      <td>NaN</td>\n",
       "      <td>3.0</td>\n",
       "    </tr>\n",
       "    <tr>\n",
       "      <th>zippo.com</th>\n",
       "      <td>NaN</td>\n",
       "      <td>1.0</td>\n",
       "    </tr>\n",
       "    <tr>\n",
       "      <th>zipsigns.com</th>\n",
       "      <td>NaN</td>\n",
       "      <td>1.0</td>\n",
       "    </tr>\n",
       "    <tr>\n",
       "      <th>zirous.com</th>\n",
       "      <td>NaN</td>\n",
       "      <td>2.0</td>\n",
       "    </tr>\n",
       "    <tr>\n",
       "      <th>zish.ua</th>\n",
       "      <td>NaN</td>\n",
       "      <td>1.0</td>\n",
       "    </tr>\n",
       "    <tr>\n",
       "      <th>zitielloassociati.it</th>\n",
       "      <td>NaN</td>\n",
       "      <td>1.0</td>\n",
       "    </tr>\n",
       "    <tr>\n",
       "      <th>zju.edu.cn</th>\n",
       "      <td>NaN</td>\n",
       "      <td>1.0</td>\n",
       "    </tr>\n",
       "    <tr>\n",
       "      <th>zoll.com</th>\n",
       "      <td>NaN</td>\n",
       "      <td>1.0</td>\n",
       "    </tr>\n",
       "    <tr>\n",
       "      <th>zollikonline.ch</th>\n",
       "      <td>NaN</td>\n",
       "      <td>1.0</td>\n",
       "    </tr>\n",
       "    <tr>\n",
       "      <th>zomax.ie</th>\n",
       "      <td>NaN</td>\n",
       "      <td>2.0</td>\n",
       "    </tr>\n",
       "    <tr>\n",
       "      <th>zoo.org</th>\n",
       "      <td>NaN</td>\n",
       "      <td>1.0</td>\n",
       "    </tr>\n",
       "    <tr>\n",
       "      <th>zoodigital.com</th>\n",
       "      <td>NaN</td>\n",
       "      <td>1.0</td>\n",
       "    </tr>\n",
       "    <tr>\n",
       "      <th>zoom.com.pe</th>\n",
       "      <td>NaN</td>\n",
       "      <td>1.0</td>\n",
       "    </tr>\n",
       "    <tr>\n",
       "      <th>zoosender.com</th>\n",
       "      <td>NaN</td>\n",
       "      <td>8.0</td>\n",
       "    </tr>\n",
       "    <tr>\n",
       "      <th>zoove.com</th>\n",
       "      <td>NaN</td>\n",
       "      <td>1.0</td>\n",
       "    </tr>\n",
       "    <tr>\n",
       "      <th>zorka-keramika.rs</th>\n",
       "      <td>NaN</td>\n",
       "      <td>3.0</td>\n",
       "    </tr>\n",
       "    <tr>\n",
       "      <th>zosanopharma.com</th>\n",
       "      <td>NaN</td>\n",
       "      <td>1.0</td>\n",
       "    </tr>\n",
       "    <tr>\n",
       "      <th>zoszv.sk</th>\n",
       "      <td>NaN</td>\n",
       "      <td>1.0</td>\n",
       "    </tr>\n",
       "    <tr>\n",
       "      <th>zsbellova.cz</th>\n",
       "      <td>NaN</td>\n",
       "      <td>1.0</td>\n",
       "    </tr>\n",
       "    <tr>\n",
       "      <th>zsf.com.hk</th>\n",
       "      <td>NaN</td>\n",
       "      <td>1.0</td>\n",
       "    </tr>\n",
       "    <tr>\n",
       "      <th>zslic.com</th>\n",
       "      <td>NaN</td>\n",
       "      <td>1.0</td>\n",
       "    </tr>\n",
       "    <tr>\n",
       "      <th>zt-ron.at</th>\n",
       "      <td>NaN</td>\n",
       "      <td>1.0</td>\n",
       "    </tr>\n",
       "    <tr>\n",
       "      <th>zummartinsepp.at</th>\n",
       "      <td>NaN</td>\n",
       "      <td>1.0</td>\n",
       "    </tr>\n",
       "    <tr>\n",
       "      <th>zumpnet.com.br</th>\n",
       "      <td>NaN</td>\n",
       "      <td>1.0</td>\n",
       "    </tr>\n",
       "    <tr>\n",
       "      <th>zurmo.com</th>\n",
       "      <td>NaN</td>\n",
       "      <td>2.0</td>\n",
       "    </tr>\n",
       "    <tr>\n",
       "      <th>zvi.ru</th>\n",
       "      <td>NaN</td>\n",
       "      <td>1.0</td>\n",
       "    </tr>\n",
       "    <tr>\n",
       "      <th>zylon.net</th>\n",
       "      <td>NaN</td>\n",
       "      <td>1.0</td>\n",
       "    </tr>\n",
       "    <tr>\n",
       "      <th>zynga.com</th>\n",
       "      <td>NaN</td>\n",
       "      <td>1.0</td>\n",
       "    </tr>\n",
       "    <tr>\n",
       "      <th>zzone.cz</th>\n",
       "      <td>NaN</td>\n",
       "      <td>4.0</td>\n",
       "    </tr>\n",
       "  </tbody>\n",
       "</table>\n",
       "<p>41982 rows × 2 columns</p>\n",
       "</div>"
      ],
      "text/plain": [
       "                          train      test\n",
       "(not set)              244881.0  254168.0\n",
       "unknown.unknown        146034.0  123762.0\n",
       "comcast.net             28743.0   26743.0\n",
       "rr.com                  14827.0   13888.0\n",
       "verizon.net             13637.0   12910.0\n",
       "ttnet.com.tr            13228.0    3850.0\n",
       "comcastbusiness.net      9985.0    6841.0\n",
       "hinet.net                7919.0    8014.0\n",
       "virginm.net              6414.0    6180.0\n",
       "3bb.co.th                6046.0    1786.0\n",
       "prod-infinitum.com.mx    5960.0    3965.0\n",
       "cox.net                  5812.0    4910.0\n",
       "sbcglobal.net            5388.0    5208.0\n",
       "btcentralplus.com        5304.0    3848.0\n",
       "att.net                  5230.0    4025.0\n",
       "google.com               5035.0    4962.0\n",
       "optonline.net            4972.0    4762.0\n",
       "totbb.net                4895.0    1933.0\n",
       "vnpt.vn                  4508.0    3154.0\n",
       "asianet.co.th            4374.0    2693.0\n",
       "pldt.net                 4008.0    1745.0\n",
       "rima-tde.net             3963.0    4115.0\n",
       "amazonaws.com            3769.0    1270.0\n",
       "t-ipconnect.de           3656.0    2461.0\n",
       "telecomitalia.it         3571.0    2834.0\n",
       "qwest.net                3534.0    3411.0\n",
       "airtelbroadband.in       3389.0    2602.0\n",
       "virtua.com.br            3318.0    2081.0\n",
       "bell.ca                  2904.0    3052.0\n",
       "ztomy.com                2845.0     258.0\n",
       "...                         ...       ...\n",
       "zipbd.com                   NaN       2.0\n",
       "ziplink.net                 NaN       3.0\n",
       "zippo.com                   NaN       1.0\n",
       "zipsigns.com                NaN       1.0\n",
       "zirous.com                  NaN       2.0\n",
       "zish.ua                     NaN       1.0\n",
       "zitielloassociati.it        NaN       1.0\n",
       "zju.edu.cn                  NaN       1.0\n",
       "zoll.com                    NaN       1.0\n",
       "zollikonline.ch             NaN       1.0\n",
       "zomax.ie                    NaN       2.0\n",
       "zoo.org                     NaN       1.0\n",
       "zoodigital.com              NaN       1.0\n",
       "zoom.com.pe                 NaN       1.0\n",
       "zoosender.com               NaN       8.0\n",
       "zoove.com                   NaN       1.0\n",
       "zorka-keramika.rs           NaN       3.0\n",
       "zosanopharma.com            NaN       1.0\n",
       "zoszv.sk                    NaN       1.0\n",
       "zsbellova.cz                NaN       1.0\n",
       "zsf.com.hk                  NaN       1.0\n",
       "zslic.com                   NaN       1.0\n",
       "zt-ron.at                   NaN       1.0\n",
       "zummartinsepp.at            NaN       1.0\n",
       "zumpnet.com.br              NaN       1.0\n",
       "zurmo.com                   NaN       2.0\n",
       "zvi.ru                      NaN       1.0\n",
       "zylon.net                   NaN       1.0\n",
       "zynga.com                   NaN       1.0\n",
       "zzone.cz                    NaN       4.0\n",
       "\n",
       "[41982 rows x 2 columns]"
      ]
     },
     "metadata": {},
     "output_type": "display_data"
    },
    {
     "name": "stdout",
     "output_type": "stream",
     "text": [
      "geoNetwork.networkLocation\n"
     ]
    },
    {
     "data": {
      "text/html": [
       "<div>\n",
       "<style scoped>\n",
       "    .dataframe tbody tr th:only-of-type {\n",
       "        vertical-align: middle;\n",
       "    }\n",
       "\n",
       "    .dataframe tbody tr th {\n",
       "        vertical-align: top;\n",
       "    }\n",
       "\n",
       "    .dataframe thead th {\n",
       "        text-align: right;\n",
       "    }\n",
       "</style>\n",
       "<table border=\"1\" class=\"dataframe\">\n",
       "  <thead>\n",
       "    <tr style=\"text-align: right;\">\n",
       "      <th></th>\n",
       "      <th>train</th>\n",
       "      <th>test</th>\n",
       "    </tr>\n",
       "    <tr>\n",
       "      <th>geoNetwork.networkLocation</th>\n",
       "      <th></th>\n",
       "      <th></th>\n",
       "    </tr>\n",
       "  </thead>\n",
       "  <tbody>\n",
       "    <tr>\n",
       "      <th>not available in demo dataset</th>\n",
       "      <td>903653</td>\n",
       "      <td>804684</td>\n",
       "    </tr>\n",
       "  </tbody>\n",
       "</table>\n",
       "</div>"
      ],
      "text/plain": [
       "                                train    test\n",
       "geoNetwork.networkLocation                   \n",
       "not available in demo dataset  903653  804684"
      ]
     },
     "metadata": {},
     "output_type": "display_data"
    },
    {
     "name": "stdout",
     "output_type": "stream",
     "text": [
      "geoNetwork.region\n"
     ]
    },
    {
     "data": {
      "text/html": [
       "<div>\n",
       "<style scoped>\n",
       "    .dataframe tbody tr th:only-of-type {\n",
       "        vertical-align: middle;\n",
       "    }\n",
       "\n",
       "    .dataframe tbody tr th {\n",
       "        vertical-align: top;\n",
       "    }\n",
       "\n",
       "    .dataframe thead th {\n",
       "        text-align: right;\n",
       "    }\n",
       "</style>\n",
       "<table border=\"1\" class=\"dataframe\">\n",
       "  <thead>\n",
       "    <tr style=\"text-align: right;\">\n",
       "      <th></th>\n",
       "      <th>train</th>\n",
       "      <th>test</th>\n",
       "    </tr>\n",
       "  </thead>\n",
       "  <tbody>\n",
       "    <tr>\n",
       "      <th>not available in demo dataset</th>\n",
       "      <td>508229.0</td>\n",
       "      <td>424730.0</td>\n",
       "    </tr>\n",
       "    <tr>\n",
       "      <th>California</th>\n",
       "      <td>107495.0</td>\n",
       "      <td>99174.0</td>\n",
       "    </tr>\n",
       "    <tr>\n",
       "      <th>(not set)</th>\n",
       "      <td>27827.0</td>\n",
       "      <td>21947.0</td>\n",
       "    </tr>\n",
       "    <tr>\n",
       "      <th>New York</th>\n",
       "      <td>26433.0</td>\n",
       "      <td>23300.0</td>\n",
       "    </tr>\n",
       "    <tr>\n",
       "      <th>England</th>\n",
       "      <td>13198.0</td>\n",
       "      <td>12626.0</td>\n",
       "    </tr>\n",
       "    <tr>\n",
       "      <th>Texas</th>\n",
       "      <td>8749.0</td>\n",
       "      <td>11731.0</td>\n",
       "    </tr>\n",
       "    <tr>\n",
       "      <th>Bangkok</th>\n",
       "      <td>7709.0</td>\n",
       "      <td>4759.0</td>\n",
       "    </tr>\n",
       "    <tr>\n",
       "      <th>Washington</th>\n",
       "      <td>7642.0</td>\n",
       "      <td>7730.0</td>\n",
       "    </tr>\n",
       "    <tr>\n",
       "      <th>Illinois</th>\n",
       "      <td>7585.0</td>\n",
       "      <td>7767.0</td>\n",
       "    </tr>\n",
       "    <tr>\n",
       "      <th>Ho Chi Minh</th>\n",
       "      <td>7250.0</td>\n",
       "      <td>NaN</td>\n",
       "    </tr>\n",
       "    <tr>\n",
       "      <th>Istanbul</th>\n",
       "      <td>6330.0</td>\n",
       "      <td>3497.0</td>\n",
       "    </tr>\n",
       "    <tr>\n",
       "      <th>Maharashtra</th>\n",
       "      <td>6184.0</td>\n",
       "      <td>7450.0</td>\n",
       "    </tr>\n",
       "    <tr>\n",
       "      <th>Ontario</th>\n",
       "      <td>5997.0</td>\n",
       "      <td>5658.0</td>\n",
       "    </tr>\n",
       "    <tr>\n",
       "      <th>Taipei City</th>\n",
       "      <td>5789.0</td>\n",
       "      <td>6112.0</td>\n",
       "    </tr>\n",
       "    <tr>\n",
       "      <th>Karnataka</th>\n",
       "      <td>5476.0</td>\n",
       "      <td>5971.0</td>\n",
       "    </tr>\n",
       "    <tr>\n",
       "      <th>Delhi</th>\n",
       "      <td>5278.0</td>\n",
       "      <td>5940.0</td>\n",
       "    </tr>\n",
       "    <tr>\n",
       "      <th>Hanoi</th>\n",
       "      <td>5141.0</td>\n",
       "      <td>1934.0</td>\n",
       "    </tr>\n",
       "    <tr>\n",
       "      <th>New South Wales</th>\n",
       "      <td>4932.0</td>\n",
       "      <td>4025.0</td>\n",
       "    </tr>\n",
       "    <tr>\n",
       "      <th>Tamil Nadu</th>\n",
       "      <td>4632.0</td>\n",
       "      <td>4763.0</td>\n",
       "    </tr>\n",
       "    <tr>\n",
       "      <th>Ile-de-France</th>\n",
       "      <td>4338.0</td>\n",
       "      <td>4624.0</td>\n",
       "    </tr>\n",
       "    <tr>\n",
       "      <th>State of Sao Paulo</th>\n",
       "      <td>4189.0</td>\n",
       "      <td>3780.0</td>\n",
       "    </tr>\n",
       "    <tr>\n",
       "      <th>Telangana</th>\n",
       "      <td>3955.0</td>\n",
       "      <td>4419.0</td>\n",
       "    </tr>\n",
       "    <tr>\n",
       "      <th>County Dublin</th>\n",
       "      <td>3650.0</td>\n",
       "      <td>4537.0</td>\n",
       "    </tr>\n",
       "    <tr>\n",
       "      <th>Tel Aviv District</th>\n",
       "      <td>3633.0</td>\n",
       "      <td>2216.0</td>\n",
       "    </tr>\n",
       "    <tr>\n",
       "      <th>Tokyo</th>\n",
       "      <td>3341.0</td>\n",
       "      <td>3627.0</td>\n",
       "    </tr>\n",
       "    <tr>\n",
       "      <th>Jakarta</th>\n",
       "      <td>3338.0</td>\n",
       "      <td>3093.0</td>\n",
       "    </tr>\n",
       "    <tr>\n",
       "      <th>Masovian Voivodeship</th>\n",
       "      <td>3288.0</td>\n",
       "      <td>1949.0</td>\n",
       "    </tr>\n",
       "    <tr>\n",
       "      <th>Virginia</th>\n",
       "      <td>3101.0</td>\n",
       "      <td>869.0</td>\n",
       "    </tr>\n",
       "    <tr>\n",
       "      <th>Community of Madrid</th>\n",
       "      <td>2937.0</td>\n",
       "      <td>222.0</td>\n",
       "    </tr>\n",
       "    <tr>\n",
       "      <th>Victoria</th>\n",
       "      <td>2741.0</td>\n",
       "      <td>2723.0</td>\n",
       "    </tr>\n",
       "    <tr>\n",
       "      <th>...</th>\n",
       "      <td>...</td>\n",
       "      <td>...</td>\n",
       "    </tr>\n",
       "    <tr>\n",
       "      <th>Santander Department</th>\n",
       "      <td>NaN</td>\n",
       "      <td>20.0</td>\n",
       "    </tr>\n",
       "    <tr>\n",
       "      <th>Santiago Province</th>\n",
       "      <td>NaN</td>\n",
       "      <td>23.0</td>\n",
       "    </tr>\n",
       "    <tr>\n",
       "      <th>Santo Domingo Province</th>\n",
       "      <td>NaN</td>\n",
       "      <td>17.0</td>\n",
       "    </tr>\n",
       "    <tr>\n",
       "      <th>Saxony</th>\n",
       "      <td>NaN</td>\n",
       "      <td>52.0</td>\n",
       "    </tr>\n",
       "    <tr>\n",
       "      <th>Schleswig-Holstein</th>\n",
       "      <td>NaN</td>\n",
       "      <td>13.0</td>\n",
       "    </tr>\n",
       "    <tr>\n",
       "      <th>Setubal</th>\n",
       "      <td>NaN</td>\n",
       "      <td>35.0</td>\n",
       "    </tr>\n",
       "    <tr>\n",
       "      <th>Sicily</th>\n",
       "      <td>NaN</td>\n",
       "      <td>7.0</td>\n",
       "    </tr>\n",
       "    <tr>\n",
       "      <th>Skane County</th>\n",
       "      <td>NaN</td>\n",
       "      <td>43.0</td>\n",
       "    </tr>\n",
       "    <tr>\n",
       "      <th>Sohag Governorate</th>\n",
       "      <td>NaN</td>\n",
       "      <td>154.0</td>\n",
       "    </tr>\n",
       "    <tr>\n",
       "      <th>Southern Province</th>\n",
       "      <td>NaN</td>\n",
       "      <td>14.0</td>\n",
       "    </tr>\n",
       "    <tr>\n",
       "      <th>Split-Dalmatia County</th>\n",
       "      <td>NaN</td>\n",
       "      <td>6.0</td>\n",
       "    </tr>\n",
       "    <tr>\n",
       "      <th>St. Andrew Parish</th>\n",
       "      <td>NaN</td>\n",
       "      <td>8.0</td>\n",
       "    </tr>\n",
       "    <tr>\n",
       "      <th>State of Alagoas</th>\n",
       "      <td>NaN</td>\n",
       "      <td>9.0</td>\n",
       "    </tr>\n",
       "    <tr>\n",
       "      <th>State of Maranhao</th>\n",
       "      <td>NaN</td>\n",
       "      <td>8.0</td>\n",
       "    </tr>\n",
       "    <tr>\n",
       "      <th>State of Para</th>\n",
       "      <td>NaN</td>\n",
       "      <td>13.0</td>\n",
       "    </tr>\n",
       "    <tr>\n",
       "      <th>State of Rio Grande do Norte</th>\n",
       "      <td>NaN</td>\n",
       "      <td>6.0</td>\n",
       "    </tr>\n",
       "    <tr>\n",
       "      <th>State of Sergipe</th>\n",
       "      <td>NaN</td>\n",
       "      <td>7.0</td>\n",
       "    </tr>\n",
       "    <tr>\n",
       "      <th>Sverdlovsk Oblast</th>\n",
       "      <td>NaN</td>\n",
       "      <td>23.0</td>\n",
       "    </tr>\n",
       "    <tr>\n",
       "      <th>Tamaulipas</th>\n",
       "      <td>NaN</td>\n",
       "      <td>38.0</td>\n",
       "    </tr>\n",
       "    <tr>\n",
       "      <th>Tatarstan</th>\n",
       "      <td>NaN</td>\n",
       "      <td>36.0</td>\n",
       "    </tr>\n",
       "    <tr>\n",
       "      <th>Thuringia</th>\n",
       "      <td>NaN</td>\n",
       "      <td>6.0</td>\n",
       "    </tr>\n",
       "    <tr>\n",
       "      <th>Tyrol</th>\n",
       "      <td>NaN</td>\n",
       "      <td>6.0</td>\n",
       "    </tr>\n",
       "    <tr>\n",
       "      <th>Upper Austria</th>\n",
       "      <td>NaN</td>\n",
       "      <td>20.0</td>\n",
       "    </tr>\n",
       "    <tr>\n",
       "      <th>Viana do Castelo District</th>\n",
       "      <td>NaN</td>\n",
       "      <td>8.0</td>\n",
       "    </tr>\n",
       "    <tr>\n",
       "      <th>Vientiane Prefecture</th>\n",
       "      <td>NaN</td>\n",
       "      <td>7.0</td>\n",
       "    </tr>\n",
       "    <tr>\n",
       "      <th>Vojvodina</th>\n",
       "      <td>NaN</td>\n",
       "      <td>81.0</td>\n",
       "    </tr>\n",
       "    <tr>\n",
       "      <th>Waikato</th>\n",
       "      <td>NaN</td>\n",
       "      <td>13.0</td>\n",
       "    </tr>\n",
       "    <tr>\n",
       "      <th>Walloon Region</th>\n",
       "      <td>NaN</td>\n",
       "      <td>26.0</td>\n",
       "    </tr>\n",
       "    <tr>\n",
       "      <th>Yangon Region</th>\n",
       "      <td>NaN</td>\n",
       "      <td>8.0</td>\n",
       "    </tr>\n",
       "    <tr>\n",
       "      <th>Yucatan</th>\n",
       "      <td>NaN</td>\n",
       "      <td>18.0</td>\n",
       "    </tr>\n",
       "  </tbody>\n",
       "</table>\n",
       "<p>483 rows × 2 columns</p>\n",
       "</div>"
      ],
      "text/plain": [
       "                                  train      test\n",
       "not available in demo dataset  508229.0  424730.0\n",
       "California                     107495.0   99174.0\n",
       "(not set)                       27827.0   21947.0\n",
       "New York                        26433.0   23300.0\n",
       "England                         13198.0   12626.0\n",
       "Texas                            8749.0   11731.0\n",
       "Bangkok                          7709.0    4759.0\n",
       "Washington                       7642.0    7730.0\n",
       "Illinois                         7585.0    7767.0\n",
       "Ho Chi Minh                      7250.0       NaN\n",
       "Istanbul                         6330.0    3497.0\n",
       "Maharashtra                      6184.0    7450.0\n",
       "Ontario                          5997.0    5658.0\n",
       "Taipei City                      5789.0    6112.0\n",
       "Karnataka                        5476.0    5971.0\n",
       "Delhi                            5278.0    5940.0\n",
       "Hanoi                            5141.0    1934.0\n",
       "New South Wales                  4932.0    4025.0\n",
       "Tamil Nadu                       4632.0    4763.0\n",
       "Ile-de-France                    4338.0    4624.0\n",
       "State of Sao Paulo               4189.0    3780.0\n",
       "Telangana                        3955.0    4419.0\n",
       "County Dublin                    3650.0    4537.0\n",
       "Tel Aviv District                3633.0    2216.0\n",
       "Tokyo                            3341.0    3627.0\n",
       "Jakarta                          3338.0    3093.0\n",
       "Masovian Voivodeship             3288.0    1949.0\n",
       "Virginia                         3101.0     869.0\n",
       "Community of Madrid              2937.0     222.0\n",
       "Victoria                         2741.0    2723.0\n",
       "...                                 ...       ...\n",
       "Santander Department                NaN      20.0\n",
       "Santiago Province                   NaN      23.0\n",
       "Santo Domingo Province              NaN      17.0\n",
       "Saxony                              NaN      52.0\n",
       "Schleswig-Holstein                  NaN      13.0\n",
       "Setubal                             NaN      35.0\n",
       "Sicily                              NaN       7.0\n",
       "Skane County                        NaN      43.0\n",
       "Sohag Governorate                   NaN     154.0\n",
       "Southern Province                   NaN      14.0\n",
       "Split-Dalmatia County               NaN       6.0\n",
       "St. Andrew Parish                   NaN       8.0\n",
       "State of Alagoas                    NaN       9.0\n",
       "State of Maranhao                   NaN       8.0\n",
       "State of Para                       NaN      13.0\n",
       "State of Rio Grande do Norte        NaN       6.0\n",
       "State of Sergipe                    NaN       7.0\n",
       "Sverdlovsk Oblast                   NaN      23.0\n",
       "Tamaulipas                          NaN      38.0\n",
       "Tatarstan                           NaN      36.0\n",
       "Thuringia                           NaN       6.0\n",
       "Tyrol                               NaN       6.0\n",
       "Upper Austria                       NaN      20.0\n",
       "Viana do Castelo District           NaN       8.0\n",
       "Vientiane Prefecture                NaN       7.0\n",
       "Vojvodina                           NaN      81.0\n",
       "Waikato                             NaN      13.0\n",
       "Walloon Region                      NaN      26.0\n",
       "Yangon Region                       NaN       8.0\n",
       "Yucatan                             NaN      18.0\n",
       "\n",
       "[483 rows x 2 columns]"
      ]
     },
     "metadata": {},
     "output_type": "display_data"
    },
    {
     "name": "stdout",
     "output_type": "stream",
     "text": [
      "geoNetwork.subContinent\n"
     ]
    },
    {
     "data": {
      "text/html": [
       "<div>\n",
       "<style scoped>\n",
       "    .dataframe tbody tr th:only-of-type {\n",
       "        vertical-align: middle;\n",
       "    }\n",
       "\n",
       "    .dataframe tbody tr th {\n",
       "        vertical-align: top;\n",
       "    }\n",
       "\n",
       "    .dataframe thead th {\n",
       "        text-align: right;\n",
       "    }\n",
       "</style>\n",
       "<table border=\"1\" class=\"dataframe\">\n",
       "  <thead>\n",
       "    <tr style=\"text-align: right;\">\n",
       "      <th></th>\n",
       "      <th>train</th>\n",
       "      <th>test</th>\n",
       "    </tr>\n",
       "  </thead>\n",
       "  <tbody>\n",
       "    <tr>\n",
       "      <th>Northern America</th>\n",
       "      <td>390657</td>\n",
       "      <td>377688</td>\n",
       "    </tr>\n",
       "    <tr>\n",
       "      <th>Southeast Asia</th>\n",
       "      <td>77800</td>\n",
       "      <td>43834</td>\n",
       "    </tr>\n",
       "    <tr>\n",
       "      <th>Southern Asia</th>\n",
       "      <td>59321</td>\n",
       "      <td>61741</td>\n",
       "    </tr>\n",
       "    <tr>\n",
       "      <th>Western Europe</th>\n",
       "      <td>59114</td>\n",
       "      <td>56039</td>\n",
       "    </tr>\n",
       "    <tr>\n",
       "      <th>Northern Europe</th>\n",
       "      <td>58168</td>\n",
       "      <td>53525</td>\n",
       "    </tr>\n",
       "    <tr>\n",
       "      <th>Eastern Asia</th>\n",
       "      <td>46919</td>\n",
       "      <td>44153</td>\n",
       "    </tr>\n",
       "    <tr>\n",
       "      <th>Eastern Europe</th>\n",
       "      <td>45249</td>\n",
       "      <td>28758</td>\n",
       "    </tr>\n",
       "    <tr>\n",
       "      <th>South America</th>\n",
       "      <td>41731</td>\n",
       "      <td>33381</td>\n",
       "    </tr>\n",
       "    <tr>\n",
       "      <th>Western Asia</th>\n",
       "      <td>38443</td>\n",
       "      <td>22523</td>\n",
       "    </tr>\n",
       "    <tr>\n",
       "      <th>Southern Europe</th>\n",
       "      <td>35780</td>\n",
       "      <td>31404</td>\n",
       "    </tr>\n",
       "    <tr>\n",
       "      <th>Central America</th>\n",
       "      <td>15583</td>\n",
       "      <td>13981</td>\n",
       "    </tr>\n",
       "    <tr>\n",
       "      <th>Australasia</th>\n",
       "      <td>14893</td>\n",
       "      <td>12974</td>\n",
       "    </tr>\n",
       "    <tr>\n",
       "      <th>Northern Africa</th>\n",
       "      <td>7683</td>\n",
       "      <td>9572</td>\n",
       "    </tr>\n",
       "    <tr>\n",
       "      <th>Western Africa</th>\n",
       "      <td>2573</td>\n",
       "      <td>4513</td>\n",
       "    </tr>\n",
       "    <tr>\n",
       "      <th>Caribbean</th>\n",
       "      <td>2406</td>\n",
       "      <td>1976</td>\n",
       "    </tr>\n",
       "    <tr>\n",
       "      <th>Southern Africa</th>\n",
       "      <td>2169</td>\n",
       "      <td>3850</td>\n",
       "    </tr>\n",
       "    <tr>\n",
       "      <th>Eastern Africa</th>\n",
       "      <td>1927</td>\n",
       "      <td>2267</td>\n",
       "    </tr>\n",
       "    <tr>\n",
       "      <th>(not set)</th>\n",
       "      <td>1468</td>\n",
       "      <td>1049</td>\n",
       "    </tr>\n",
       "    <tr>\n",
       "      <th>Central Asia</th>\n",
       "      <td>1215</td>\n",
       "      <td>770</td>\n",
       "    </tr>\n",
       "    <tr>\n",
       "      <th>Middle Africa</th>\n",
       "      <td>393</td>\n",
       "      <td>534</td>\n",
       "    </tr>\n",
       "    <tr>\n",
       "      <th>Melanesia</th>\n",
       "      <td>81</td>\n",
       "      <td>52</td>\n",
       "    </tr>\n",
       "    <tr>\n",
       "      <th>Micronesian Region</th>\n",
       "      <td>55</td>\n",
       "      <td>73</td>\n",
       "    </tr>\n",
       "    <tr>\n",
       "      <th>Polynesia</th>\n",
       "      <td>25</td>\n",
       "      <td>27</td>\n",
       "    </tr>\n",
       "  </tbody>\n",
       "</table>\n",
       "</div>"
      ],
      "text/plain": [
       "                     train    test\n",
       "Northern America    390657  377688\n",
       "Southeast Asia       77800   43834\n",
       "Southern Asia        59321   61741\n",
       "Western Europe       59114   56039\n",
       "Northern Europe      58168   53525\n",
       "Eastern Asia         46919   44153\n",
       "Eastern Europe       45249   28758\n",
       "South America        41731   33381\n",
       "Western Asia         38443   22523\n",
       "Southern Europe      35780   31404\n",
       "Central America      15583   13981\n",
       "Australasia          14893   12974\n",
       "Northern Africa       7683    9572\n",
       "Western Africa        2573    4513\n",
       "Caribbean             2406    1976\n",
       "Southern Africa       2169    3850\n",
       "Eastern Africa        1927    2267\n",
       "(not set)             1468    1049\n",
       "Central Asia          1215     770\n",
       "Middle Africa          393     534\n",
       "Melanesia               81      52\n",
       "Micronesian Region      55      73\n",
       "Polynesia               25      27"
      ]
     },
     "metadata": {},
     "output_type": "display_data"
    }
   ],
   "source": [
    "for col in geoNetwork_columns_train:\n",
    "    print(col)\n",
    "    display(aggregates_train_test(col))"
   ]
  },
  {
   "cell_type": "markdown",
   "metadata": {},
   "source": [
    "### geoNetwork.cityについて"
   ]
  },
  {
   "cell_type": "markdown",
   "metadata": {},
   "source": [
    "- ユーザーの市区町村。ユーザーの IP アドレスまたは地域 ID から取得されます。"
   ]
  },
  {
   "cell_type": "code",
   "execution_count": 8,
   "metadata": {},
   "outputs": [
    {
     "data": {
      "text/plain": [
       "(649, 732)"
      ]
     },
     "execution_count": 8,
     "metadata": {},
     "output_type": "execute_result"
    }
   ],
   "source": [
    "train['geoNetwork.city'].nunique(), test['geoNetwork.city'].nunique()"
   ]
  },
  {
   "cell_type": "markdown",
   "metadata": {},
   "source": [
    "- not available in demo datasetの割合は50%ほど。結構多い。"
   ]
  },
  {
   "cell_type": "code",
   "execution_count": 15,
   "metadata": {
    "scrolled": true
   },
   "outputs": [
    {
     "data": {
      "text/plain": [
       "(0.5624161044117598, 0.5278221015951603)"
      ]
     },
     "execution_count": 15,
     "metadata": {},
     "output_type": "execute_result"
    }
   ],
   "source": [
    "len(train[train['geoNetwork.city']=='not available in demo dataset']) / len(train),\\\n",
    "len(test[test['geoNetwork.city']=='not available in demo dataset']) / len(test)"
   ]
  },
  {
   "cell_type": "code",
   "execution_count": 130,
   "metadata": {},
   "outputs": [
    {
     "data": {
      "text/plain": [
       "(0.037914996132364966, 0.039276287337638126)"
      ]
     },
     "execution_count": 130,
     "metadata": {},
     "output_type": "execute_result"
    }
   ],
   "source": [
    "len(train[train['geoNetwork.city']=='(not set)']) / len(train),\\\n",
    "len(test[test['geoNetwork.city']=='(not set)']) / len(test)"
   ]
  },
  {
   "cell_type": "markdown",
   "metadata": {},
   "source": [
    "### geoNetwork.cityIdについて"
   ]
  },
  {
   "cell_type": "markdown",
   "metadata": {},
   "source": [
    "- not available in demo datasetしか値が入っていない。"
   ]
  },
  {
   "cell_type": "markdown",
   "metadata": {},
   "source": [
    "### geoNetwork.continentについて"
   ]
  },
  {
   "cell_type": "markdown",
   "metadata": {},
   "source": [
    "- IP アドレスに基づいて特定されたセッションの起点となる大陸。\n",
    "- 入力されていないもの（not set）も僅かに存在する。"
   ]
  },
  {
   "cell_type": "code",
   "execution_count": 16,
   "metadata": {},
   "outputs": [
    {
     "data": {
      "text/plain": [
       "(6, 6)"
      ]
     },
     "execution_count": 16,
     "metadata": {},
     "output_type": "execute_result"
    }
   ],
   "source": [
    "train['geoNetwork.continent'].nunique(), test['geoNetwork.continent'].nunique()"
   ]
  },
  {
   "cell_type": "code",
   "execution_count": 17,
   "metadata": {},
   "outputs": [
    {
     "data": {
      "text/plain": [
       "(array(['Asia', 'Oceania', 'Europe', 'Americas', 'Africa', '(not set)'],\n",
       "       dtype=object),\n",
       " array(['Asia', 'Europe', 'Americas', 'Africa', 'Oceania', '(not set)'],\n",
       "       dtype=object))"
      ]
     },
     "execution_count": 17,
     "metadata": {},
     "output_type": "execute_result"
    }
   ],
   "source": [
    "train['geoNetwork.continent'].unique(), test['geoNetwork.continent'].unique()"
   ]
  },
  {
   "cell_type": "code",
   "execution_count": 20,
   "metadata": {},
   "outputs": [
    {
     "data": {
      "text/plain": [
       "(1468, 1049)"
      ]
     },
     "execution_count": 20,
     "metadata": {},
     "output_type": "execute_result"
    }
   ],
   "source": [
    "len(train[train['geoNetwork.continent']=='(not set)']), len(test[test['geoNetwork.continent']=='(not set)'])"
   ]
  },
  {
   "cell_type": "markdown",
   "metadata": {},
   "source": [
    "### geoNetwork.subContinentについて"
   ]
  },
  {
   "cell_type": "markdown",
   "metadata": {},
   "source": [
    "- ユーザーの IP アドレスに基づいて特定されたセッションの起点となる亜大陸。\n"
   ]
  },
  {
   "cell_type": "code",
   "execution_count": 38,
   "metadata": {},
   "outputs": [
    {
     "data": {
      "text/plain": [
       "(23, 23)"
      ]
     },
     "execution_count": 38,
     "metadata": {},
     "output_type": "execute_result"
    }
   ],
   "source": [
    "train['geoNetwork.subContinent'].nunique(), test['geoNetwork.subContinent'].nunique()"
   ]
  },
  {
   "cell_type": "code",
   "execution_count": 39,
   "metadata": {},
   "outputs": [
    {
     "data": {
      "text/plain": [
       "(array(['Western Asia', 'Australasia', 'Southern Europe', 'Southeast Asia',\n",
       "        'Northern Europe', 'Southern Asia', 'Western Europe',\n",
       "        'South America', 'Eastern Asia', 'Eastern Europe',\n",
       "        'Northern America', 'Western Africa', 'Central America',\n",
       "        'Eastern Africa', '(not set)', 'Caribbean', 'Southern Africa',\n",
       "        'Northern Africa', 'Central Asia', 'Middle Africa', 'Melanesia',\n",
       "        'Micronesian Region', 'Polynesia'], dtype=object),\n",
       " array(['Southeast Asia', 'Southern Europe', 'Western Europe',\n",
       "        'Northern America', 'Central America', 'South America',\n",
       "        'Northern Europe', 'Eastern Asia', 'Western Asia',\n",
       "        'Eastern Europe', 'Southern Asia', 'Northern Africa',\n",
       "        'Eastern Africa', 'Western Africa', 'Australasia', 'Caribbean',\n",
       "        'Central Asia', '(not set)', 'Southern Africa', 'Middle Africa',\n",
       "        'Micronesian Region', 'Polynesia', 'Melanesia'], dtype=object))"
      ]
     },
     "execution_count": 39,
     "metadata": {},
     "output_type": "execute_result"
    }
   ],
   "source": [
    "train['geoNetwork.subContinent'].unique(), test['geoNetwork.subContinent'].unique()"
   ]
  },
  {
   "cell_type": "code",
   "execution_count": 40,
   "metadata": {},
   "outputs": [
    {
     "data": {
      "text/plain": [
       "geoNetwork.subContinent\n",
       "(not set)    1468\n",
       "Name: date, dtype: int64"
      ]
     },
     "metadata": {},
     "output_type": "display_data"
    },
    {
     "data": {
      "text/plain": [
       "geoNetwork.subContinent\n",
       "(not set)    1049\n",
       "Name: date, dtype: int64"
      ]
     },
     "metadata": {},
     "output_type": "display_data"
    }
   ],
   "source": [
    "display(train[train['geoNetwork.continent']=='(not set)'].groupby('geoNetwork.subContinent').count()['date'])\n",
    "display(test[test['geoNetwork.continent']=='(not set)'].groupby('geoNetwork.subContinent').count()['date'])"
   ]
  },
  {
   "cell_type": "markdown",
   "metadata": {},
   "source": [
    "### geoNetwork.countryについて"
   ]
  },
  {
   "cell_type": "markdown",
   "metadata": {},
   "source": [
    "- IP アドレスに基づいて特定されたセッションの起点となる国。\n"
   ]
  },
  {
   "cell_type": "code",
   "execution_count": 29,
   "metadata": {
    "scrolled": true
   },
   "outputs": [
    {
     "data": {
      "text/plain": [
       "(222, 219)"
      ]
     },
     "execution_count": 29,
     "metadata": {},
     "output_type": "execute_result"
    }
   ],
   "source": [
    "train['geoNetwork.country'].nunique(), test['geoNetwork.country'].nunique()"
   ]
  },
  {
   "cell_type": "markdown",
   "metadata": {},
   "source": [
    "### geoNetwork.latitudeについて"
   ]
  },
  {
   "cell_type": "markdown",
   "metadata": {},
   "source": [
    "- not available in demo datasetしか値が入っていない。"
   ]
  },
  {
   "cell_type": "markdown",
   "metadata": {},
   "source": [
    "### geoNetwork.longitudeについて"
   ]
  },
  {
   "cell_type": "markdown",
   "metadata": {},
   "source": [
    "- not available in demo datasetしか値が入っていない。"
   ]
  },
  {
   "cell_type": "markdown",
   "metadata": {},
   "source": [
    "### geoNetwork.metroについて"
   ]
  },
  {
   "cell_type": "markdown",
   "metadata": {},
   "source": [
    "- セッションの起点となる指定マーケット エリア（DMA）。"
   ]
  },
  {
   "cell_type": "code",
   "execution_count": 34,
   "metadata": {},
   "outputs": [
    {
     "data": {
      "text/plain": [
       "(94, 109)"
      ]
     },
     "execution_count": 34,
     "metadata": {},
     "output_type": "execute_result"
    }
   ],
   "source": [
    "train['geoNetwork.metro'].nunique(), test['geoNetwork.metro'].nunique()"
   ]
  },
  {
   "cell_type": "markdown",
   "metadata": {},
   "source": [
    "### geoNetwork.networkDomainについて"
   ]
  },
  {
   "cell_type": "markdown",
   "metadata": {},
   "source": [
    "- ユーザーのインターネット サービス プロバイダのドメイン名。インターネット サービス プロバイダの IP アドレスに登録されているドメイン名から取得されます。"
   ]
  },
  {
   "cell_type": "code",
   "execution_count": 37,
   "metadata": {},
   "outputs": [
    {
     "data": {
      "text/plain": [
       "(28064, 25750)"
      ]
     },
     "execution_count": 37,
     "metadata": {},
     "output_type": "execute_result"
    }
   ],
   "source": [
    "train['geoNetwork.networkDomain'].nunique(), test['geoNetwork.networkDomain'].nunique()"
   ]
  },
  {
   "cell_type": "markdown",
   "metadata": {},
   "source": [
    "- unknown.unknownやnot set, voxility.comなどはスパムを除外するのに使われているみたい。\n",
    "https://analyze.siraberu.info/post-1007/"
   ]
  },
  {
   "cell_type": "code",
   "execution_count": 157,
   "metadata": {},
   "outputs": [
    {
     "data": {
      "text/plain": [
       "geoNetwork.networkDomain\n",
       "(not set)          244881\n",
       "unknown.unknown    146034\n",
       "comcast.net         28743\n",
       "rr.com              14827\n",
       "verizon.net         13637\n",
       "dtype: int64"
      ]
     },
     "execution_count": 157,
     "metadata": {},
     "output_type": "execute_result"
    }
   ],
   "source": [
    "train.groupby('geoNetwork.networkDomain').size().sort_values(ascending=False).head()"
   ]
  },
  {
   "cell_type": "markdown",
   "metadata": {},
   "source": [
    "- 上のドメインが、本当にスパムっぽいかどうか調べる"
   ]
  },
  {
   "cell_type": "code",
   "execution_count": 159,
   "metadata": {},
   "outputs": [
    {
     "data": {
      "text/plain": [
       "revenue_flg\n",
       "1    892138\n",
       "0     11515\n",
       "dtype: int64"
      ]
     },
     "execution_count": 159,
     "metadata": {},
     "output_type": "execute_result"
    }
   ],
   "source": [
    "# revenueがnullであるなら1, そうでないなら0\n",
    "train['revenue_flg'] = (train['totals.transactionRevenue']!=train['totals.transactionRevenue']).astype(int)\n",
    "train.groupby('revenue_flg').size().sort_values(ascending=False).head()"
   ]
  },
  {
   "cell_type": "code",
   "execution_count": 164,
   "metadata": {},
   "outputs": [
    {
     "data": {
      "text/html": [
       "<div>\n",
       "<style scoped>\n",
       "    .dataframe tbody tr th:only-of-type {\n",
       "        vertical-align: middle;\n",
       "    }\n",
       "\n",
       "    .dataframe tbody tr th {\n",
       "        vertical-align: top;\n",
       "    }\n",
       "\n",
       "    .dataframe thead th {\n",
       "        text-align: right;\n",
       "    }\n",
       "</style>\n",
       "<table border=\"1\" class=\"dataframe\">\n",
       "  <thead>\n",
       "    <tr style=\"text-align: right;\">\n",
       "      <th></th>\n",
       "      <th>geoNetwork.networkDomain</th>\n",
       "      <th>revenue_flg</th>\n",
       "      <th>0</th>\n",
       "    </tr>\n",
       "  </thead>\n",
       "  <tbody>\n",
       "    <tr>\n",
       "      <th>0</th>\n",
       "      <td>(not set)</td>\n",
       "      <td>0</td>\n",
       "      <td>6645</td>\n",
       "    </tr>\n",
       "    <tr>\n",
       "      <th>1</th>\n",
       "      <td>(not set)</td>\n",
       "      <td>1</td>\n",
       "      <td>238236</td>\n",
       "    </tr>\n",
       "    <tr>\n",
       "      <th>26448</th>\n",
       "      <td>unknown.unknown</td>\n",
       "      <td>0</td>\n",
       "      <td>400</td>\n",
       "    </tr>\n",
       "    <tr>\n",
       "      <th>26449</th>\n",
       "      <td>unknown.unknown</td>\n",
       "      <td>1</td>\n",
       "      <td>145634</td>\n",
       "    </tr>\n",
       "    <tr>\n",
       "      <th>27399</th>\n",
       "      <td>voxility.com</td>\n",
       "      <td>0</td>\n",
       "      <td>1</td>\n",
       "    </tr>\n",
       "    <tr>\n",
       "      <th>27400</th>\n",
       "      <td>voxility.com</td>\n",
       "      <td>1</td>\n",
       "      <td>5</td>\n",
       "    </tr>\n",
       "  </tbody>\n",
       "</table>\n",
       "</div>"
      ],
      "text/plain": [
       "      geoNetwork.networkDomain  revenue_flg       0\n",
       "0                    (not set)            0    6645\n",
       "1                    (not set)            1  238236\n",
       "26448          unknown.unknown            0     400\n",
       "26449          unknown.unknown            1  145634\n",
       "27399             voxility.com            0       1\n",
       "27400             voxility.com            1       5"
      ]
     },
     "execution_count": 164,
     "metadata": {},
     "output_type": "execute_result"
    }
   ],
   "source": [
    "result_grp = train.groupby(['geoNetwork.networkDomain', 'revenue_flg']).size().reset_index()\n",
    "result_grp[result_grp['geoNetwork.networkDomain'].isin([\"unknown.unknown\", \"(not set)\", \"voxility.com\"])]"
   ]
  },
  {
   "cell_type": "markdown",
   "metadata": {},
   "source": [
    "### geoNetwork.networkLocationについて"
   ]
  },
  {
   "cell_type": "markdown",
   "metadata": {},
   "source": [
    "- not available in demo datasetしか値が入っていない。"
   ]
  },
  {
   "cell_type": "markdown",
   "metadata": {},
   "source": [
    "### geoNetwork.regionについて"
   ]
  },
  {
   "cell_type": "markdown",
   "metadata": {},
   "source": [
    "- IP アドレスから取得したセッションの起点となる地域。米国では地域はニューヨークなどの州です。\n"
   ]
  },
  {
   "cell_type": "code",
   "execution_count": 43,
   "metadata": {},
   "outputs": [
    {
     "data": {
      "text/plain": [
       "(376, 376)"
      ]
     },
     "execution_count": 43,
     "metadata": {},
     "output_type": "execute_result"
    }
   ],
   "source": [
    "train['geoNetwork.region'].nunique(), test['geoNetwork.region'].nunique()"
   ]
  },
  {
   "cell_type": "code",
   "execution_count": 45,
   "metadata": {},
   "outputs": [
    {
     "data": {
      "text/plain": [
       "(27827, 21947)"
      ]
     },
     "execution_count": 45,
     "metadata": {},
     "output_type": "execute_result"
    }
   ],
   "source": [
    "len(train[train['geoNetwork.region']=='(not set)']), len(test[test['geoNetwork.region']=='(not set)'])"
   ]
  },
  {
   "cell_type": "code",
   "execution_count": 46,
   "metadata": {},
   "outputs": [
    {
     "data": {
      "text/plain": [
       "(508229, 424730)"
      ]
     },
     "execution_count": 46,
     "metadata": {},
     "output_type": "execute_result"
    }
   ],
   "source": [
    "len(train[train['geoNetwork.region']=='not available in demo dataset']), len(test[test['geoNetwork.region']=='not available in demo dataset'])"
   ]
  },
  {
   "cell_type": "markdown",
   "metadata": {},
   "source": [
    "### geoNetworkデータの大小関係について"
   ]
  },
  {
   "cell_type": "markdown",
   "metadata": {},
   "source": [
    "continent(大陸) > subcontinent(亜大陸) > country(国) > region(地域) > city(市区町村)"
   ]
  },
  {
   "cell_type": "code",
   "execution_count": 83,
   "metadata": {},
   "outputs": [
    {
     "data": {
      "text/plain": [
       "(1708337, 55)"
      ]
     },
     "execution_count": 83,
     "metadata": {},
     "output_type": "execute_result"
    }
   ],
   "source": [
    "total = pd.concat([train, test], axis=0, sort=False).reset_index(drop=True)\n",
    "train_index = range(0, len(train))\n",
    "test_index = range(len(train), len(train)+len(test))\n",
    "total.shape"
   ]
  },
  {
   "cell_type": "code",
   "execution_count": 88,
   "metadata": {
    "scrolled": true
   },
   "outputs": [],
   "source": [
    "total['continent_flg'] = (total['geoNetwork.continent']=='(not set)').astype(int)\n",
    "total['subcontinent_flg'] = (total['geoNetwork.subContinent']=='(not set)').astype(int)\n",
    "total['country_flg'] = (total['geoNetwork.country']=='(not set)').astype(int)\n",
    "total['region_flg'] = (total['geoNetwork.region']=='(not set)').astype(int) + (total['geoNetwork.region']=='not available in demo dataset').astype(int)\n",
    "total['city_flg'] = (total['geoNetwork.city']=='(not set)').astype(int) + (total['geoNetwork.city']=='not available in demo dataset').astype(int)"
   ]
  },
  {
   "cell_type": "markdown",
   "metadata": {},
   "source": [
    "- 1は未記入、0は記入"
   ]
  },
  {
   "cell_type": "code",
   "execution_count": 89,
   "metadata": {},
   "outputs": [
    {
     "data": {
      "text/plain": [
       "continent_flg  subcontinent_flg  country_flg\n",
       "0              0                 0              1705820\n",
       "1              1                 1                 2517\n",
       "Name: date, dtype: int64"
      ]
     },
     "execution_count": 89,
     "metadata": {},
     "output_type": "execute_result"
    }
   ],
   "source": [
    "total.groupby(['continent_flg', 'subcontinent_flg', 'country_flg']).count()['date']"
   ]
  },
  {
   "cell_type": "code",
   "execution_count": 90,
   "metadata": {
    "scrolled": true
   },
   "outputs": [
    {
     "data": {
      "text/plain": [
       "continent_flg  subcontinent_flg  country_flg  region_flg\n",
       "0              0                 0            0             725565\n",
       "                                              1             980255\n",
       "1              1                 1            0                 39\n",
       "                                              1               2478\n",
       "Name: date, dtype: int64"
      ]
     },
     "execution_count": 90,
     "metadata": {},
     "output_type": "execute_result"
    }
   ],
   "source": [
    "total.groupby(['continent_flg', 'subcontinent_flg', 'country_flg', 'region_flg']).count()['date']"
   ]
  },
  {
   "cell_type": "code",
   "execution_count": 91,
   "metadata": {},
   "outputs": [
    {
     "data": {
      "text/plain": [
       "continent_flg  subcontinent_flg  country_flg  region_flg  city_flg\n",
       "0              0                 0            0           0           694504\n",
       "                                                          1            31061\n",
       "                                              1           0            14969\n",
       "                                                          1           965286\n",
       "1              1                 1            0           0               35\n",
       "                                                          1                4\n",
       "                                              1           0                3\n",
       "                                                          1             2475\n",
       "Name: date, dtype: int64"
      ]
     },
     "execution_count": 91,
     "metadata": {},
     "output_type": "execute_result"
    }
   ],
   "source": [
    "total.groupby(['continent_flg', 'subcontinent_flg', 'country_flg', 'region_flg', 'city_flg']).count()['date']"
   ]
  },
  {
   "cell_type": "markdown",
   "metadata": {},
   "source": [
    "- trainsactionRevenueとの相関"
   ]
  },
  {
   "cell_type": "code",
   "execution_count": 143,
   "metadata": {},
   "outputs": [],
   "source": [
    "train_tmp = total.loc[train_index]"
   ]
  },
  {
   "cell_type": "code",
   "execution_count": 144,
   "metadata": {},
   "outputs": [],
   "source": [
    "train_tmp['revenue_flg'] = (train_tmp['totals.transactionRevenue']!=train_tmp['totals.transactionRevenue']).astype(int)"
   ]
  },
  {
   "cell_type": "code",
   "execution_count": 147,
   "metadata": {},
   "outputs": [
    {
     "data": {
      "text/plain": [
       "revenue_flg\n",
       "0       400\n",
       "1    145634\n",
       "dtype: int64"
      ]
     },
     "execution_count": 147,
     "metadata": {},
     "output_type": "execute_result"
    }
   ],
   "source": [
    "train_tmp[train_tmp['geoNetwork.networkDomain']=='unknown.unknown'].groupby('revenue_flg').size()"
   ]
  },
  {
   "cell_type": "code",
   "execution_count": 148,
   "metadata": {},
   "outputs": [
    {
     "data": {
      "text/plain": [
       "revenue_flg\n",
       "0      6645\n",
       "1    238236\n",
       "dtype: int64"
      ]
     },
     "execution_count": 148,
     "metadata": {},
     "output_type": "execute_result"
    }
   ],
   "source": [
    "train_tmp[train_tmp['geoNetwork.networkDomain']=='(not set)'].groupby('revenue_flg').size()"
   ]
  },
  {
   "cell_type": "code",
   "execution_count": null,
   "metadata": {},
   "outputs": [],
   "source": [
    "train_tmp[train_tmp['geoNetwork.networkDomain']=='voxility.com'].groupby('revenue_flg').size()"
   ]
  },
  {
   "cell_type": "code",
   "execution_count": 103,
   "metadata": {},
   "outputs": [
    {
     "data": {
      "text/plain": [
       "continent_flg  subcontinent_flg  country_flg  region_flg  city_flg  revenue_flg\n",
       "0              0                 0            0           0         0                6875\n",
       "                                                                    1              345827\n",
       "                                                          1         0                  14\n",
       "                                                                    1               14874\n",
       "                                              1           0         0                  11\n",
       "                                                                    1                8441\n",
       "                                                          1         0                4609\n",
       "                                                                    1              521534\n",
       "1              1                 1            0           0         0                   1\n",
       "                                                                    1                   5\n",
       "                                                          1         1                   1\n",
       "                                              1           0         1                   2\n",
       "                                                          1         0                   5\n",
       "                                                                    1                1454\n",
       "Name: date, dtype: int64"
      ]
     },
     "execution_count": 103,
     "metadata": {},
     "output_type": "execute_result"
    }
   ],
   "source": [
    "train_tmp.groupby(['continent_flg', 'subcontinent_flg', 'country_flg', 'region_flg', 'city_flg', 'revenue_flg']).count()['date']"
   ]
  },
  {
   "cell_type": "markdown",
   "metadata": {},
   "source": [
    "### geoNetworkのコンフリクトを解決する"
   ]
  },
  {
   "cell_type": "code",
   "execution_count": 354,
   "metadata": {
    "scrolled": false
   },
   "outputs": [
    {
     "data": {
      "text/plain": [
       "(1708337, 56)"
      ]
     },
     "execution_count": 354,
     "metadata": {},
     "output_type": "execute_result"
    }
   ],
   "source": [
    "total = pd.concat([train, test], axis=0, sort=False).reset_index(drop=True)\n",
    "train_index = range(0, len(train))\n",
    "test_index = range(len(train), len(train)+len(test))\n",
    "total.shape"
   ]
  },
  {
   "cell_type": "code",
   "execution_count": 355,
   "metadata": {
    "scrolled": true
   },
   "outputs": [
    {
     "data": {
      "text/plain": [
       "geoNetwork.city            object\n",
       "geoNetwork.continent       object\n",
       "geoNetwork.country         object\n",
       "geoNetwork.metro           object\n",
       "geoNetwork.region          object\n",
       "geoNetwork.subContinent    object\n",
       "dtype: object"
      ]
     },
     "execution_count": 355,
     "metadata": {},
     "output_type": "execute_result"
    }
   ],
   "source": [
    "geoNetwork_columns = [col for col in train.columns if \"geoNetwork\" in col]\n",
    "drop_columns = ['geoNetwork.latitude',\n",
    "                'geoNetwork.longitude',\n",
    "                'geoNetwork.cityId',\n",
    "                'geoNetwork.networkLocation',\n",
    "                'geoNetwork.networkDomain']\n",
    "geoNetwork_columns = [col for col in geoNetwork_columns if col not in drop_columns]\n",
    "total[geoNetwork_columns].dtypes"
   ]
  },
  {
   "cell_type": "code",
   "execution_count": 356,
   "metadata": {},
   "outputs": [],
   "source": [
    "for col in geoNetwork_columns:\n",
    "    total[col] = total[col].where(total[col]!='not available in demo dataset', np.nan)\n",
    "    total[col] = total[col].where(total[col]!='(not set)', np.nan)\n",
    "    total[col] = total[col].astype(\"category\").cat.add_categories('N/A').fillna('N/A')"
   ]
  },
  {
   "cell_type": "markdown",
   "metadata": {},
   "source": [
    "- N/Aの数は？"
   ]
  },
  {
   "cell_type": "code",
   "execution_count": 357,
   "metadata": {},
   "outputs": [
    {
     "name": "stdout",
     "output_type": "stream",
     "text": [
      "geoNetwork.city . number of N/A: 998826 of the set: 1708337\n",
      "geoNetwork.continent . number of N/A: 2517 of the set: 1708337\n",
      "geoNetwork.country . number of N/A: 2517 of the set: 1708337\n",
      "geoNetwork.metro . number of N/A: 1319855 of the set: 1708337\n",
      "geoNetwork.region . number of N/A: 982733 of the set: 1708337\n",
      "geoNetwork.subContinent . number of N/A: 2517 of the set: 1708337\n"
     ]
    }
   ],
   "source": [
    "for col in geoNetwork_columns:\n",
    "    print(col, '. number of N/A:', (total[col]=='N/A').sum(), 'of the set:', len(total[col]))"
   ]
  },
  {
   "cell_type": "markdown",
   "metadata": {},
   "source": [
    "#### (continent, subContinent, country)の組み合わせを抽出。\n",
    "- この組み合わせでは、重複は存在しない。\n",
    "- 未記入のレコードが2517件存在する。"
   ]
  },
  {
   "cell_type": "code",
   "execution_count": 361,
   "metadata": {
    "scrolled": true
   },
   "outputs": [
    {
     "data": {
      "text/html": [
       "<div>\n",
       "<style scoped>\n",
       "    .dataframe tbody tr th:only-of-type {\n",
       "        vertical-align: middle;\n",
       "    }\n",
       "\n",
       "    .dataframe tbody tr th {\n",
       "        vertical-align: top;\n",
       "    }\n",
       "\n",
       "    .dataframe thead th {\n",
       "        text-align: right;\n",
       "    }\n",
       "</style>\n",
       "<table border=\"1\" class=\"dataframe\">\n",
       "  <thead>\n",
       "    <tr style=\"text-align: right;\">\n",
       "      <th></th>\n",
       "      <th>geoNetwork.continent</th>\n",
       "      <th>geoNetwork.country</th>\n",
       "      <th>geoNetwork.subContinent</th>\n",
       "      <th>0</th>\n",
       "    </tr>\n",
       "  </thead>\n",
       "  <tbody>\n",
       "    <tr>\n",
       "      <th>0</th>\n",
       "      <td>Africa</td>\n",
       "      <td>Algeria</td>\n",
       "      <td>Northern Africa</td>\n",
       "      <td>3204</td>\n",
       "    </tr>\n",
       "    <tr>\n",
       "      <th>1</th>\n",
       "      <td>Africa</td>\n",
       "      <td>Angola</td>\n",
       "      <td>Middle Africa</td>\n",
       "      <td>118</td>\n",
       "    </tr>\n",
       "    <tr>\n",
       "      <th>2</th>\n",
       "      <td>Africa</td>\n",
       "      <td>Benin</td>\n",
       "      <td>Western Africa</td>\n",
       "      <td>135</td>\n",
       "    </tr>\n",
       "    <tr>\n",
       "      <th>3</th>\n",
       "      <td>Africa</td>\n",
       "      <td>Botswana</td>\n",
       "      <td>Southern Africa</td>\n",
       "      <td>40</td>\n",
       "    </tr>\n",
       "    <tr>\n",
       "      <th>4</th>\n",
       "      <td>Africa</td>\n",
       "      <td>Burkina Faso</td>\n",
       "      <td>Western Africa</td>\n",
       "      <td>153</td>\n",
       "    </tr>\n",
       "    <tr>\n",
       "      <th>5</th>\n",
       "      <td>Africa</td>\n",
       "      <td>Burundi</td>\n",
       "      <td>Eastern Africa</td>\n",
       "      <td>58</td>\n",
       "    </tr>\n",
       "    <tr>\n",
       "      <th>6</th>\n",
       "      <td>Africa</td>\n",
       "      <td>Cameroon</td>\n",
       "      <td>Middle Africa</td>\n",
       "      <td>414</td>\n",
       "    </tr>\n",
       "    <tr>\n",
       "      <th>7</th>\n",
       "      <td>Africa</td>\n",
       "      <td>Cape Verde</td>\n",
       "      <td>Western Africa</td>\n",
       "      <td>31</td>\n",
       "    </tr>\n",
       "    <tr>\n",
       "      <th>8</th>\n",
       "      <td>Africa</td>\n",
       "      <td>Central African Republic</td>\n",
       "      <td>Middle Africa</td>\n",
       "      <td>6</td>\n",
       "    </tr>\n",
       "    <tr>\n",
       "      <th>9</th>\n",
       "      <td>Africa</td>\n",
       "      <td>Chad</td>\n",
       "      <td>Middle Africa</td>\n",
       "      <td>33</td>\n",
       "    </tr>\n",
       "  </tbody>\n",
       "</table>\n",
       "</div>"
      ],
      "text/plain": [
       "  geoNetwork.continent        geoNetwork.country geoNetwork.subContinent     0\n",
       "0               Africa                   Algeria         Northern Africa  3204\n",
       "1               Africa                    Angola           Middle Africa   118\n",
       "2               Africa                     Benin          Western Africa   135\n",
       "3               Africa                  Botswana         Southern Africa    40\n",
       "4               Africa              Burkina Faso          Western Africa   153\n",
       "5               Africa                   Burundi          Eastern Africa    58\n",
       "6               Africa                  Cameroon           Middle Africa   414\n",
       "7               Africa                Cape Verde          Western Africa    31\n",
       "8               Africa  Central African Republic           Middle Africa     6\n",
       "9               Africa                      Chad           Middle Africa    33"
      ]
     },
     "execution_count": 361,
     "metadata": {},
     "output_type": "execute_result"
    }
   ],
   "source": [
    "country_part = total.groupby(\n",
    "    ['geoNetwork.continent', 'geoNetwork.country',\n",
    "     'geoNetwork.subContinent']).size().reset_index( )\n",
    "\n",
    "country_part.head(10)"
   ]
  },
  {
   "cell_type": "code",
   "execution_count": 362,
   "metadata": {},
   "outputs": [
    {
     "data": {
      "text/html": [
       "<div>\n",
       "<style scoped>\n",
       "    .dataframe tbody tr th:only-of-type {\n",
       "        vertical-align: middle;\n",
       "    }\n",
       "\n",
       "    .dataframe tbody tr th {\n",
       "        vertical-align: top;\n",
       "    }\n",
       "\n",
       "    .dataframe thead th {\n",
       "        text-align: right;\n",
       "    }\n",
       "</style>\n",
       "<table border=\"1\" class=\"dataframe\">\n",
       "  <thead>\n",
       "    <tr style=\"text-align: right;\">\n",
       "      <th></th>\n",
       "      <th>geoNetwork.continent</th>\n",
       "      <th>geoNetwork.country</th>\n",
       "      <th>geoNetwork.subContinent</th>\n",
       "      <th>0</th>\n",
       "    </tr>\n",
       "  </thead>\n",
       "  <tbody>\n",
       "  </tbody>\n",
       "</table>\n",
       "</div>"
      ],
      "text/plain": [
       "Empty DataFrame\n",
       "Columns: [geoNetwork.continent, geoNetwork.country, geoNetwork.subContinent, 0]\n",
       "Index: []"
      ]
     },
     "execution_count": 362,
     "metadata": {},
     "output_type": "execute_result"
    }
   ],
   "source": [
    "# 重複があるか調べる\n",
    "country_part[country_part['geoNetwork.country'].duplicated(keep=False)]"
   ]
  },
  {
   "cell_type": "code",
   "execution_count": 363,
   "metadata": {},
   "outputs": [
    {
     "data": {
      "text/html": [
       "<div>\n",
       "<style scoped>\n",
       "    .dataframe tbody tr th:only-of-type {\n",
       "        vertical-align: middle;\n",
       "    }\n",
       "\n",
       "    .dataframe tbody tr th {\n",
       "        vertical-align: top;\n",
       "    }\n",
       "\n",
       "    .dataframe thead th {\n",
       "        text-align: right;\n",
       "    }\n",
       "</style>\n",
       "<table border=\"1\" class=\"dataframe\">\n",
       "  <thead>\n",
       "    <tr style=\"text-align: right;\">\n",
       "      <th></th>\n",
       "      <th>geoNetwork.continent</th>\n",
       "      <th>geoNetwork.country</th>\n",
       "      <th>geoNetwork.subContinent</th>\n",
       "      <th>0</th>\n",
       "    </tr>\n",
       "  </thead>\n",
       "  <tbody>\n",
       "    <tr>\n",
       "      <th>227</th>\n",
       "      <td>N/A</td>\n",
       "      <td>N/A</td>\n",
       "      <td>N/A</td>\n",
       "      <td>2517</td>\n",
       "    </tr>\n",
       "  </tbody>\n",
       "</table>\n",
       "</div>"
      ],
      "text/plain": [
       "    geoNetwork.continent geoNetwork.country geoNetwork.subContinent     0\n",
       "227                  N/A                N/A                     N/A  2517"
      ]
     },
     "metadata": {},
     "output_type": "display_data"
    },
    {
     "data": {
      "text/html": [
       "<div>\n",
       "<style scoped>\n",
       "    .dataframe tbody tr th:only-of-type {\n",
       "        vertical-align: middle;\n",
       "    }\n",
       "\n",
       "    .dataframe tbody tr th {\n",
       "        vertical-align: top;\n",
       "    }\n",
       "\n",
       "    .dataframe thead th {\n",
       "        text-align: right;\n",
       "    }\n",
       "</style>\n",
       "<table border=\"1\" class=\"dataframe\">\n",
       "  <thead>\n",
       "    <tr style=\"text-align: right;\">\n",
       "      <th></th>\n",
       "      <th>geoNetwork.continent</th>\n",
       "      <th>geoNetwork.country</th>\n",
       "      <th>geoNetwork.subContinent</th>\n",
       "      <th>0</th>\n",
       "    </tr>\n",
       "  </thead>\n",
       "  <tbody>\n",
       "    <tr>\n",
       "      <th>227</th>\n",
       "      <td>N/A</td>\n",
       "      <td>N/A</td>\n",
       "      <td>N/A</td>\n",
       "      <td>2517</td>\n",
       "    </tr>\n",
       "  </tbody>\n",
       "</table>\n",
       "</div>"
      ],
      "text/plain": [
       "    geoNetwork.continent geoNetwork.country geoNetwork.subContinent     0\n",
       "227                  N/A                N/A                     N/A  2517"
      ]
     },
     "metadata": {},
     "output_type": "display_data"
    },
    {
     "data": {
      "text/html": [
       "<div>\n",
       "<style scoped>\n",
       "    .dataframe tbody tr th:only-of-type {\n",
       "        vertical-align: middle;\n",
       "    }\n",
       "\n",
       "    .dataframe tbody tr th {\n",
       "        vertical-align: top;\n",
       "    }\n",
       "\n",
       "    .dataframe thead th {\n",
       "        text-align: right;\n",
       "    }\n",
       "</style>\n",
       "<table border=\"1\" class=\"dataframe\">\n",
       "  <thead>\n",
       "    <tr style=\"text-align: right;\">\n",
       "      <th></th>\n",
       "      <th>geoNetwork.continent</th>\n",
       "      <th>geoNetwork.country</th>\n",
       "      <th>geoNetwork.subContinent</th>\n",
       "      <th>0</th>\n",
       "    </tr>\n",
       "  </thead>\n",
       "  <tbody>\n",
       "    <tr>\n",
       "      <th>227</th>\n",
       "      <td>N/A</td>\n",
       "      <td>N/A</td>\n",
       "      <td>N/A</td>\n",
       "      <td>2517</td>\n",
       "    </tr>\n",
       "  </tbody>\n",
       "</table>\n",
       "</div>"
      ],
      "text/plain": [
       "    geoNetwork.continent geoNetwork.country geoNetwork.subContinent     0\n",
       "227                  N/A                N/A                     N/A  2517"
      ]
     },
     "metadata": {},
     "output_type": "display_data"
    }
   ],
   "source": [
    "display(country_part[country_part['geoNetwork.continent']=='N/A'])\n",
    "display(country_part[country_part['geoNetwork.subContinent']=='N/A'])\n",
    "display(country_part[country_part['geoNetwork.country']=='N/A'])"
   ]
  },
  {
   "cell_type": "markdown",
   "metadata": {},
   "source": [
    "- N/Aとなるcountryは、他のカラムを使って補完する。\n",
    "- city, region, metroだけでは、2517件中2475件の補完ができない。"
   ]
  },
  {
   "cell_type": "code",
   "execution_count": 364,
   "metadata": {},
   "outputs": [
    {
     "data": {
      "text/plain": [
       "geoNetwork.region  geoNetwork.city  geoNetwork.metro                 \n",
       "Buenos Aires       Buenos Aires     N/A                                     1\n",
       "California         San Francisco    San Francisco-Oakland-San Jose CA       1\n",
       "                   Santa Clara      San Francisco-Oakland-San Jose CA       1\n",
       "County Dublin      Dublin           N/A                                     2\n",
       "Delhi              N/A              N/A                                     1\n",
       "England            London           London                                  4\n",
       "Karnataka          Bengaluru        N/A                                     1\n",
       "Kyiv city          Kyiv             N/A                                    14\n",
       "Metro Manila       Manila           N/A                                     1\n",
       "Minnesota          Minneapolis      Minneapolis-St. Paul MN                 1\n",
       "Moscow             Moscow           N/A                                     1\n",
       "New York           New York         New York NY                             5\n",
       "Osaka Prefecture   Osaka            N/A                                     1\n",
       "Taipei City        N/A              N/A                                     1\n",
       "Tamil Nadu         N/A              N/A                                     2\n",
       "Victoria           Melbourne        N/A                                     1\n",
       "Zhejiang           Ningbo           N/A                                     1\n",
       "N/A                Hong Kong        N/A                                     1\n",
       "                   Nairobi          N/A                                     1\n",
       "                   Tunis            N/A                                     1\n",
       "                   N/A              N/A                                  2475\n",
       "dtype: int64"
      ]
     },
     "execution_count": 364,
     "metadata": {},
     "output_type": "execute_result"
    }
   ],
   "source": [
    "total[total['geoNetwork.country']=='N/A'].groupby(['geoNetwork.region', 'geoNetwork.city', 'geoNetwork.metro']).size()"
   ]
  },
  {
   "cell_type": "markdown",
   "metadata": {},
   "source": [
    "- networkDomainを使えば、2475件中(2475-676)件は補完できる（？）今後の課題"
   ]
  },
  {
   "cell_type": "code",
   "execution_count": 365,
   "metadata": {
    "scrolled": true
   },
   "outputs": [
    {
     "data": {
      "text/plain": [
       "geoNetwork.networkDomain\n",
       "(not set)        676\n",
       "100tb.com         24\n",
       "16clouds.com       2\n",
       "alter.net          1\n",
       "amazonaws.com     53\n",
       "dtype: int64"
      ]
     },
     "execution_count": 365,
     "metadata": {},
     "output_type": "execute_result"
    }
   ],
   "source": [
    "total[(total['geoNetwork.country']=='N/A') &\n",
    "      (total['geoNetwork.region']=='N/A') &\n",
    "      (total['geoNetwork.city']=='N/A') &\n",
    "      (total['geoNetwork.metro']=='N/A')].groupby(['geoNetwork.networkDomain']).size().head()"
   ]
  },
  {
   "cell_type": "markdown",
   "metadata": {},
   "source": [
    "- 上記の通り、cityとregionを使って、countryのNULLを埋める。"
   ]
  },
  {
   "cell_type": "code",
   "execution_count": 366,
   "metadata": {},
   "outputs": [
    {
     "data": {
      "text/plain": [
       "geoNetwork.region  geoNetwork.city\n",
       "Buenos Aires       Buenos Aires          1\n",
       "California         San Francisco         1\n",
       "                   Santa Clara           1\n",
       "County Dublin      Dublin                2\n",
       "Delhi              N/A                   1\n",
       "England            London                4\n",
       "Karnataka          Bengaluru             1\n",
       "Kyiv city          Kyiv                 14\n",
       "Metro Manila       Manila                1\n",
       "Minnesota          Minneapolis           1\n",
       "Moscow             Moscow                1\n",
       "New York           New York              5\n",
       "Osaka Prefecture   Osaka                 1\n",
       "Taipei City        N/A                   1\n",
       "Tamil Nadu         N/A                   2\n",
       "Victoria           Melbourne             1\n",
       "Zhejiang           Ningbo                1\n",
       "N/A                Hong Kong             1\n",
       "                   Nairobi               1\n",
       "                   Tunis                 1\n",
       "                   N/A                2475\n",
       "dtype: int64"
      ]
     },
     "execution_count": 366,
     "metadata": {},
     "output_type": "execute_result"
    }
   ],
   "source": [
    "result = total[total['geoNetwork.country']=='N/A'].groupby(['geoNetwork.region', 'geoNetwork.city']).size()\n",
    "result"
   ]
  },
  {
   "cell_type": "markdown",
   "metadata": {},
   "source": [
    "- cityとregionの組み合わせで、最も数の多いcountryを採用すればよさそう。"
   ]
  },
  {
   "cell_type": "code",
   "execution_count": 367,
   "metadata": {
    "scrolled": true
   },
   "outputs": [
    {
     "name": "stdout",
     "output_type": "stream",
     "text": [
      "region: Buenos Aires , city: Buenos Aires , selected country: Argentina\n"
     ]
    },
    {
     "data": {
      "text/plain": [
       "geoNetwork.country\n",
       "Argentina        3172\n",
       "United States       7\n",
       "N/A                 1\n",
       "dtype: int64"
      ]
     },
     "metadata": {},
     "output_type": "display_data"
    },
    {
     "name": "stdout",
     "output_type": "stream",
     "text": [
      "region: California , city: San Francisco , selected country: United States\n"
     ]
    },
    {
     "data": {
      "text/plain": [
       "geoNetwork.country\n",
       "United States     36699\n",
       "Canada               33\n",
       "United Kingdom       31\n",
       "dtype: int64"
      ]
     },
     "metadata": {},
     "output_type": "display_data"
    },
    {
     "name": "stdout",
     "output_type": "stream",
     "text": [
      "region: California , city: Santa Clara , selected country: United States\n"
     ]
    },
    {
     "data": {
      "text/plain": [
       "geoNetwork.country\n",
       "United States    6401\n",
       "Canada             17\n",
       "China              10\n",
       "dtype: int64"
      ]
     },
     "metadata": {},
     "output_type": "display_data"
    },
    {
     "name": "stdout",
     "output_type": "stream",
     "text": [
      "region: County Dublin , city: Dublin , selected country: Ireland\n"
     ]
    },
    {
     "data": {
      "text/plain": [
       "geoNetwork.country\n",
       "Ireland           7965\n",
       "United States       77\n",
       "United Kingdom      44\n",
       "dtype: int64"
      ]
     },
     "metadata": {},
     "output_type": "display_data"
    },
    {
     "name": "stdout",
     "output_type": "stream",
     "text": [
      "region: Delhi , city: N/A , selected country: India\n"
     ]
    },
    {
     "data": {
      "text/plain": [
       "geoNetwork.country\n",
       "India            5035\n",
       "United States       4\n",
       "N/A                 1\n",
       "dtype: int64"
      ]
     },
     "metadata": {},
     "output_type": "display_data"
    },
    {
     "name": "stdout",
     "output_type": "stream",
     "text": [
      "region: England , city: London , selected country: United Kingdom\n"
     ]
    },
    {
     "data": {
      "text/plain": [
       "geoNetwork.country\n",
       "United Kingdom    23076\n",
       "United States       164\n",
       "Ireland              44\n",
       "dtype: int64"
      ]
     },
     "metadata": {},
     "output_type": "display_data"
    },
    {
     "name": "stdout",
     "output_type": "stream",
     "text": [
      "region: Karnataka , city: Bengaluru , selected country: India\n"
     ]
    },
    {
     "data": {
      "text/plain": [
       "geoNetwork.country\n",
       "India             11367\n",
       "United States        43\n",
       "United Kingdom        4\n",
       "dtype: int64"
      ]
     },
     "metadata": {},
     "output_type": "display_data"
    },
    {
     "name": "stdout",
     "output_type": "stream",
     "text": [
      "region: Kyiv city , city: Kyiv , selected country: Ukraine\n"
     ]
    },
    {
     "data": {
      "text/plain": [
       "geoNetwork.country\n",
       "Ukraine    1324\n",
       "Russia       29\n",
       "N/A          14\n",
       "dtype: int64"
      ]
     },
     "metadata": {},
     "output_type": "display_data"
    },
    {
     "name": "stdout",
     "output_type": "stream",
     "text": [
      "region: Metro Manila , city: Manila , selected country: Philippines\n"
     ]
    },
    {
     "data": {
      "text/plain": [
       "geoNetwork.country\n",
       "Philippines         258\n",
       "N/A                   1\n",
       "French Polynesia      0\n",
       "dtype: int64"
      ]
     },
     "metadata": {},
     "output_type": "display_data"
    },
    {
     "name": "stdout",
     "output_type": "stream",
     "text": [
      "region: Minnesota , city: Minneapolis , selected country: United States\n"
     ]
    },
    {
     "data": {
      "text/plain": [
       "geoNetwork.country\n",
       "United States       558\n",
       "N/A                   1\n",
       "French Polynesia      0\n",
       "dtype: int64"
      ]
     },
     "metadata": {},
     "output_type": "display_data"
    },
    {
     "name": "stdout",
     "output_type": "stream",
     "text": [
      "region: Moscow , city: Moscow , selected country: Russia\n"
     ]
    },
    {
     "data": {
      "text/plain": [
       "geoNetwork.country\n",
       "Russia            4174\n",
       "United Kingdom       3\n",
       "N/A                  1\n",
       "dtype: int64"
      ]
     },
     "metadata": {},
     "output_type": "display_data"
    },
    {
     "name": "stdout",
     "output_type": "stream",
     "text": [
      "region: New York , city: New York , selected country: United States\n"
     ]
    },
    {
     "data": {
      "text/plain": [
       "geoNetwork.country\n",
       "United States     49219\n",
       "Canada               95\n",
       "United Kingdom       19\n",
       "dtype: int64"
      ]
     },
     "metadata": {},
     "output_type": "display_data"
    },
    {
     "name": "stdout",
     "output_type": "stream",
     "text": [
      "region: Osaka Prefecture , city: Osaka , selected country: Japan\n"
     ]
    },
    {
     "data": {
      "text/plain": [
       "geoNetwork.country\n",
       "Japan       1172\n",
       "Thailand       2\n",
       "N/A            1\n",
       "dtype: int64"
      ]
     },
     "metadata": {},
     "output_type": "display_data"
    },
    {
     "name": "stdout",
     "output_type": "stream",
     "text": [
      "region: Taipei City , city: N/A , selected country: Taiwan\n"
     ]
    },
    {
     "data": {
      "text/plain": [
       "geoNetwork.country\n",
       "Taiwan           11718\n",
       "United States       44\n",
       "Hong Kong           11\n",
       "dtype: int64"
      ]
     },
     "metadata": {},
     "output_type": "display_data"
    },
    {
     "name": "stdout",
     "output_type": "stream",
     "text": [
      "region: Tamil Nadu , city: N/A , selected country: India\n"
     ]
    },
    {
     "data": {
      "text/plain": [
       "geoNetwork.country\n",
       "India            847\n",
       "United States      4\n",
       "Saudi Arabia       3\n",
       "dtype: int64"
      ]
     },
     "metadata": {},
     "output_type": "display_data"
    },
    {
     "name": "stdout",
     "output_type": "stream",
     "text": [
      "region: Victoria , city: Melbourne , selected country: Australia\n"
     ]
    },
    {
     "data": {
      "text/plain": [
       "geoNetwork.country\n",
       "Australia        5438\n",
       "United States      18\n",
       "Iran                3\n",
       "dtype: int64"
      ]
     },
     "metadata": {},
     "output_type": "display_data"
    },
    {
     "name": "stdout",
     "output_type": "stream",
     "text": [
      "region: Zhejiang , city: Ningbo , selected country: China\n"
     ]
    },
    {
     "data": {
      "text/plain": [
       "geoNetwork.country\n",
       "China             189\n",
       "Japan               2\n",
       "United Kingdom      2\n",
       "dtype: int64"
      ]
     },
     "metadata": {},
     "output_type": "display_data"
    }
   ],
   "source": [
    "for idx in result.index:\n",
    "    region = idx[0]\n",
    "    city = idx[1]\n",
    "    \n",
    "    if region == 'N/A':\n",
    "        continue\n",
    "    \n",
    "    target_index = total[(total['geoNetwork.region']==region) & (total['geoNetwork.city']==city)].index\n",
    "    data_extr = total.loc[target_index].groupby('geoNetwork.country').size()\n",
    "    common_country = data_extr.index[data_extr.values.argmax()]\n",
    "    print('region:', region, ', city:', city, ', selected country:', common_country)\n",
    "    display(data_extr.sort_values(ascending=False).head(3))\n",
    "    \n",
    "    # replace\n",
    "    total.loc[target_index, 'geoNetwork.country'] = common_country"
   ]
  },
  {
   "cell_type": "code",
   "execution_count": 368,
   "metadata": {},
   "outputs": [
    {
     "data": {
      "text/plain": [
       "geoNetwork.region  geoNetwork.city\n",
       "N/A                Hong Kong             1\n",
       "                   Nairobi               1\n",
       "                   Tunis                 1\n",
       "                   N/A                2475\n",
       "dtype: int64"
      ]
     },
     "execution_count": 368,
     "metadata": {},
     "output_type": "execute_result"
    }
   ],
   "source": [
    "total[total['geoNetwork.country']=='N/A'].groupby(['geoNetwork.region', 'geoNetwork.city']).size()"
   ]
  },
  {
   "cell_type": "markdown",
   "metadata": {},
   "source": [
    "#### (city, region)の組み合わせを抽出。"
   ]
  },
  {
   "cell_type": "code",
   "execution_count": 369,
   "metadata": {},
   "outputs": [
    {
     "data": {
      "text/html": [
       "<div>\n",
       "<style scoped>\n",
       "    .dataframe tbody tr th:only-of-type {\n",
       "        vertical-align: middle;\n",
       "    }\n",
       "\n",
       "    .dataframe tbody tr th {\n",
       "        vertical-align: top;\n",
       "    }\n",
       "\n",
       "    .dataframe thead th {\n",
       "        text-align: right;\n",
       "    }\n",
       "</style>\n",
       "<table border=\"1\" class=\"dataframe\">\n",
       "  <thead>\n",
       "    <tr style=\"text-align: right;\">\n",
       "      <th></th>\n",
       "      <th>geoNetwork.city</th>\n",
       "      <th>geoNetwork.region</th>\n",
       "      <th>0</th>\n",
       "    </tr>\n",
       "  </thead>\n",
       "  <tbody>\n",
       "    <tr>\n",
       "      <th>0</th>\n",
       "      <td>'s Hertogenbosch</td>\n",
       "      <td>North Brabant</td>\n",
       "      <td>7</td>\n",
       "    </tr>\n",
       "    <tr>\n",
       "      <th>1</th>\n",
       "      <td>Aachen</td>\n",
       "      <td>North Rhine-Westphalia</td>\n",
       "      <td>9</td>\n",
       "    </tr>\n",
       "    <tr>\n",
       "      <th>2</th>\n",
       "      <td>Aalborg</td>\n",
       "      <td>North Denmark Region</td>\n",
       "      <td>71</td>\n",
       "    </tr>\n",
       "    <tr>\n",
       "      <th>3</th>\n",
       "      <td>Aalen</td>\n",
       "      <td>Baden-Wurttemberg</td>\n",
       "      <td>9</td>\n",
       "    </tr>\n",
       "    <tr>\n",
       "      <th>4</th>\n",
       "      <td>Aberdeen</td>\n",
       "      <td>Scotland</td>\n",
       "      <td>21</td>\n",
       "    </tr>\n",
       "    <tr>\n",
       "      <th>5</th>\n",
       "      <td>Abu Dhabi</td>\n",
       "      <td>Abu Dhabi</td>\n",
       "      <td>105</td>\n",
       "    </tr>\n",
       "    <tr>\n",
       "      <th>6</th>\n",
       "      <td>Accra</td>\n",
       "      <td>Greater Accra Region</td>\n",
       "      <td>9</td>\n",
       "    </tr>\n",
       "    <tr>\n",
       "      <th>7</th>\n",
       "      <td>Adana</td>\n",
       "      <td>Adana</td>\n",
       "      <td>265</td>\n",
       "    </tr>\n",
       "    <tr>\n",
       "      <th>8</th>\n",
       "      <td>Addis Ababa</td>\n",
       "      <td>N/A</td>\n",
       "      <td>104</td>\n",
       "    </tr>\n",
       "    <tr>\n",
       "      <th>9</th>\n",
       "      <td>Adelaide</td>\n",
       "      <td>South Australia</td>\n",
       "      <td>44</td>\n",
       "    </tr>\n",
       "  </tbody>\n",
       "</table>\n",
       "</div>"
      ],
      "text/plain": [
       "    geoNetwork.city       geoNetwork.region    0\n",
       "0  's Hertogenbosch           North Brabant    7\n",
       "1            Aachen  North Rhine-Westphalia    9\n",
       "2           Aalborg    North Denmark Region   71\n",
       "3             Aalen       Baden-Wurttemberg    9\n",
       "4          Aberdeen                Scotland   21\n",
       "5         Abu Dhabi               Abu Dhabi  105\n",
       "6             Accra    Greater Accra Region    9\n",
       "7             Adana                   Adana  265\n",
       "8       Addis Ababa                     N/A  104\n",
       "9          Adelaide         South Australia   44"
      ]
     },
     "execution_count": 369,
     "metadata": {},
     "output_type": "execute_result"
    }
   ],
   "source": [
    "city_part = total.groupby(['geoNetwork.city', 'geoNetwork.region']).size().reset_index()\n",
    "\n",
    "city_part.head(10)"
   ]
  },
  {
   "cell_type": "markdown",
   "metadata": {},
   "source": [
    "- cityに値が入っているのに、regionではNULLとなるケースも存在する。\n",
    "- cityがnairobiの時、countryは｛Kenya, Iceland｝の2種類。まあKenya。\n",
    "- 基本的には、regionがN/Aのcityはcountryが一意に決まる。\n",
    "- これは数が少ないので、手動で頑張る。"
   ]
  },
  {
   "cell_type": "code",
   "execution_count": 370,
   "metadata": {
    "scrolled": false
   },
   "outputs": [
    {
     "data": {
      "text/html": [
       "<div>\n",
       "<style scoped>\n",
       "    .dataframe tbody tr th:only-of-type {\n",
       "        vertical-align: middle;\n",
       "    }\n",
       "\n",
       "    .dataframe tbody tr th {\n",
       "        vertical-align: top;\n",
       "    }\n",
       "\n",
       "    .dataframe thead th {\n",
       "        text-align: right;\n",
       "    }\n",
       "</style>\n",
       "<table border=\"1\" class=\"dataframe\">\n",
       "  <thead>\n",
       "    <tr style=\"text-align: right;\">\n",
       "      <th></th>\n",
       "      <th>geoNetwork.city</th>\n",
       "      <th>geoNetwork.region</th>\n",
       "      <th>0</th>\n",
       "    </tr>\n",
       "  </thead>\n",
       "  <tbody>\n",
       "    <tr>\n",
       "      <th>168</th>\n",
       "      <td>Casablanca</td>\n",
       "      <td>N/A</td>\n",
       "      <td>32</td>\n",
       "    </tr>\n",
       "    <tr>\n",
       "      <th>209</th>\n",
       "      <td>Colombo</td>\n",
       "      <td>N/A</td>\n",
       "      <td>68</td>\n",
       "    </tr>\n",
       "    <tr>\n",
       "      <th>253</th>\n",
       "      <td>Doha</td>\n",
       "      <td>N/A</td>\n",
       "      <td>12</td>\n",
       "    </tr>\n",
       "    <tr>\n",
       "      <th>345</th>\n",
       "      <td>Guatemala City</td>\n",
       "      <td>N/A</td>\n",
       "      <td>8</td>\n",
       "    </tr>\n",
       "    <tr>\n",
       "      <th>362</th>\n",
       "      <td>Hanoi</td>\n",
       "      <td>N/A</td>\n",
       "      <td>8</td>\n",
       "    </tr>\n",
       "    <tr>\n",
       "      <th>550</th>\n",
       "      <td>Minsk</td>\n",
       "      <td>N/A</td>\n",
       "      <td>14</td>\n",
       "    </tr>\n",
       "    <tr>\n",
       "      <th>585</th>\n",
       "      <td>Nairobi</td>\n",
       "      <td>N/A</td>\n",
       "      <td>131</td>\n",
       "    </tr>\n",
       "    <tr>\n",
       "      <th>883</th>\n",
       "      <td>Tbilisi</td>\n",
       "      <td>N/A</td>\n",
       "      <td>13</td>\n",
       "    </tr>\n",
       "    <tr>\n",
       "      <th>1066</th>\n",
       "      <td>N/A</td>\n",
       "      <td>N/A</td>\n",
       "      <td>967761</td>\n",
       "    </tr>\n",
       "  </tbody>\n",
       "</table>\n",
       "</div>"
      ],
      "text/plain": [
       "     geoNetwork.city geoNetwork.region       0\n",
       "168       Casablanca               N/A      32\n",
       "209          Colombo               N/A      68\n",
       "253             Doha               N/A      12\n",
       "345   Guatemala City               N/A       8\n",
       "362            Hanoi               N/A       8\n",
       "550            Minsk               N/A      14\n",
       "585          Nairobi               N/A     131\n",
       "883          Tbilisi               N/A      13\n",
       "1066             N/A               N/A  967761"
      ]
     },
     "execution_count": 370,
     "metadata": {},
     "output_type": "execute_result"
    }
   ],
   "source": [
    "result = city_part[(city_part['geoNetwork.city'].duplicated(keep=False)) & (city_part['geoNetwork.region'] == 'N/A')]\n",
    "result"
   ]
  },
  {
   "cell_type": "code",
   "execution_count": 371,
   "metadata": {
    "scrolled": true
   },
   "outputs": [
    {
     "name": "stdout",
     "output_type": "stream",
     "text": [
      "region: N/A , city: Casablanca , country: Morocco\n"
     ]
    },
    {
     "data": {
      "text/plain": [
       "geoNetwork.country\n",
       "Morocco    32\n",
       "N/A         0\n",
       "Gabon       0\n",
       "dtype: int64"
      ]
     },
     "metadata": {},
     "output_type": "display_data"
    },
    {
     "name": "stdout",
     "output_type": "stream",
     "text": [
      "region: N/A , city: Colombo , country: Sri Lanka\n"
     ]
    },
    {
     "data": {
      "text/plain": [
       "geoNetwork.country\n",
       "Sri Lanka    68\n",
       "N/A           0\n",
       "Guernsey      0\n",
       "dtype: int64"
      ]
     },
     "metadata": {},
     "output_type": "display_data"
    },
    {
     "name": "stdout",
     "output_type": "stream",
     "text": [
      "region: N/A , city: Doha , country: Qatar\n"
     ]
    },
    {
     "data": {
      "text/plain": [
       "geoNetwork.country\n",
       "Qatar               12\n",
       "N/A                  0\n",
       "French Polynesia     0\n",
       "dtype: int64"
      ]
     },
     "metadata": {},
     "output_type": "display_data"
    },
    {
     "name": "stdout",
     "output_type": "stream",
     "text": [
      "region: N/A , city: Guatemala City , country: Guatemala\n"
     ]
    },
    {
     "data": {
      "text/plain": [
       "geoNetwork.country\n",
       "Guatemala    8\n",
       "N/A          0\n",
       "Guinea       0\n",
       "dtype: int64"
      ]
     },
     "metadata": {},
     "output_type": "display_data"
    },
    {
     "name": "stdout",
     "output_type": "stream",
     "text": [
      "region: N/A , city: Hanoi , country: Vietnam\n"
     ]
    },
    {
     "data": {
      "text/plain": [
       "geoNetwork.country\n",
       "Vietnam             8\n",
       "N/A                 0\n",
       "French Polynesia    0\n",
       "dtype: int64"
      ]
     },
     "metadata": {},
     "output_type": "display_data"
    },
    {
     "name": "stdout",
     "output_type": "stream",
     "text": [
      "region: N/A , city: Minsk , country: Belarus\n"
     ]
    },
    {
     "data": {
      "text/plain": [
       "geoNetwork.country\n",
       "Belarus    14\n",
       "N/A         0\n",
       "Gambia      0\n",
       "dtype: int64"
      ]
     },
     "metadata": {},
     "output_type": "display_data"
    },
    {
     "name": "stdout",
     "output_type": "stream",
     "text": [
      "region: N/A , city: Nairobi , country: Kenya\n"
     ]
    },
    {
     "data": {
      "text/plain": [
       "geoNetwork.country\n",
       "Kenya      129\n",
       "N/A          1\n",
       "Iceland      1\n",
       "dtype: int64"
      ]
     },
     "metadata": {},
     "output_type": "display_data"
    },
    {
     "name": "stdout",
     "output_type": "stream",
     "text": [
      "region: N/A , city: Tbilisi , country: Georgia\n"
     ]
    },
    {
     "data": {
      "text/plain": [
       "geoNetwork.country\n",
       "Georgia    13\n",
       "N/A         0\n",
       "Guinea      0\n",
       "dtype: int64"
      ]
     },
     "metadata": {},
     "output_type": "display_data"
    }
   ],
   "source": [
    "for idx, row in result.iterrows():\n",
    "    city = row['geoNetwork.city']\n",
    "    region = row['geoNetwork.region']\n",
    "    \n",
    "    if city == 'N/A':\n",
    "        continue\n",
    "    \n",
    "    target_index = total[(total['geoNetwork.city']==city) & (total['geoNetwork.region']==region)].index\n",
    "    data_extr = total.loc[target_index].groupby('geoNetwork.country').size()\n",
    "    common_country = data_extr.index[data_extr.values.argmax()]\n",
    "    print('region:', region, ', city:', city, ', country:', common_country)\n",
    "    display(data_extr.sort_values(ascending=False).head(3))"
   ]
  },
  {
   "cell_type": "markdown",
   "metadata": {},
   "source": [
    "- regionの候補を決める。\n",
    "- 一番多いケースを採用。"
   ]
  },
  {
   "cell_type": "code",
   "execution_count": 372,
   "metadata": {
    "scrolled": true
   },
   "outputs": [
    {
     "name": "stdout",
     "output_type": "stream",
     "text": [
      "Casablanca\n"
     ]
    },
    {
     "data": {
      "text/plain": [
       "geoNetwork.region\n",
       "Grand Casablanca     289\n",
       "N/A                   32\n",
       "Djak Lak Province      0\n",
       "dtype: int64"
      ]
     },
     "metadata": {},
     "output_type": "display_data"
    },
    {
     "name": "stdout",
     "output_type": "stream",
     "text": [
      "Colombo\n"
     ]
    },
    {
     "data": {
      "text/plain": [
       "geoNetwork.region\n",
       "Western Province    727\n",
       "N/A                  68\n",
       "Hai Duong             0\n",
       "dtype: int64"
      ]
     },
     "metadata": {},
     "output_type": "display_data"
    },
    {
     "name": "stdout",
     "output_type": "stream",
     "text": [
      "Doha\n"
     ]
    },
    {
     "data": {
      "text/plain": [
       "geoNetwork.region\n",
       "Doha        18\n",
       "N/A         12\n",
       "Haiphong     0\n",
       "dtype: int64"
      ]
     },
     "metadata": {},
     "output_type": "display_data"
    },
    {
     "name": "stdout",
     "output_type": "stream",
     "text": [
      "Guatemala City\n"
     ]
    },
    {
     "data": {
      "text/plain": [
       "geoNetwork.region\n",
       "Guatemala Department    54\n",
       "N/A                      8\n",
       "Djak Lak Province        0\n",
       "dtype: int64"
      ]
     },
     "metadata": {},
     "output_type": "display_data"
    },
    {
     "name": "stdout",
     "output_type": "stream",
     "text": [
      "Hanoi\n"
     ]
    },
    {
     "data": {
      "text/plain": [
       "geoNetwork.region\n",
       "Hanoi        6958\n",
       "N/A             8\n",
       "Hai Duong       0\n",
       "dtype: int64"
      ]
     },
     "metadata": {},
     "output_type": "display_data"
    },
    {
     "name": "stdout",
     "output_type": "stream",
     "text": [
      "Minsk\n"
     ]
    },
    {
     "data": {
      "text/plain": [
       "geoNetwork.region\n",
       "Minsk Region        71\n",
       "N/A                 14\n",
       "Gia Lai Province     0\n",
       "dtype: int64"
      ]
     },
     "metadata": {},
     "output_type": "display_data"
    },
    {
     "name": "stdout",
     "output_type": "stream",
     "text": [
      "Nairobi\n"
     ]
    },
    {
     "data": {
      "text/plain": [
       "geoNetwork.region\n",
       "N/A                 131\n",
       "Nairobi County       74\n",
       "Gia Lai Province      0\n",
       "dtype: int64"
      ]
     },
     "metadata": {},
     "output_type": "display_data"
    },
    {
     "name": "stdout",
     "output_type": "stream",
     "text": [
      "Tbilisi\n"
     ]
    },
    {
     "data": {
      "text/plain": [
       "geoNetwork.region\n",
       "Tbilisi      220\n",
       "N/A           13\n",
       "Hai Duong      0\n",
       "dtype: int64"
      ]
     },
     "metadata": {},
     "output_type": "display_data"
    }
   ],
   "source": [
    "for idx, row in result.iterrows():\n",
    "    city = row['geoNetwork.city']\n",
    "    region = row['geoNetwork.region']\n",
    "    \n",
    "    if city == 'N/A':\n",
    "        continue\n",
    "    \n",
    "    target_index = total[(total['geoNetwork.city']==city)].index\n",
    "    data_extr = total.loc[target_index].groupby('geoNetwork.region').size()\n",
    "    print(city)\n",
    "    display(data_extr.sort_values(ascending=False).head(3))"
   ]
  },
  {
   "cell_type": "code",
   "execution_count": 373,
   "metadata": {},
   "outputs": [],
   "source": [
    "pairs = [('Casablanca', 'Grand Casablanca'), ('Colombo', 'Western Province'), ('Doha', 'Doha'),\n",
    "         ('Guatemala City', 'Guatemala Department'), ('Hanoi', 'Hanoi'),\n",
    "         ('Minsk', 'Minsk Region'), ('Nairobi', 'Nairobi County'), ('Tbilisi', 'Tbilisi')]\n",
    "\n",
    "for c, r in pairs:\n",
    "    total.loc[(total['geoNetwork.city'] == c) &\n",
    "              (total['geoNetwork.region'] == 'N/A'), 'geoNetwork.region'] = r"
   ]
  },
  {
   "cell_type": "code",
   "execution_count": 374,
   "metadata": {},
   "outputs": [
    {
     "data": {
      "text/html": [
       "<div>\n",
       "<style scoped>\n",
       "    .dataframe tbody tr th:only-of-type {\n",
       "        vertical-align: middle;\n",
       "    }\n",
       "\n",
       "    .dataframe tbody tr th {\n",
       "        vertical-align: top;\n",
       "    }\n",
       "\n",
       "    .dataframe thead th {\n",
       "        text-align: right;\n",
       "    }\n",
       "</style>\n",
       "<table border=\"1\" class=\"dataframe\">\n",
       "  <thead>\n",
       "    <tr style=\"text-align: right;\">\n",
       "      <th></th>\n",
       "      <th>geoNetwork.city</th>\n",
       "      <th>geoNetwork.region</th>\n",
       "      <th>0</th>\n",
       "    </tr>\n",
       "  </thead>\n",
       "  <tbody>\n",
       "    <tr>\n",
       "      <th>1058</th>\n",
       "      <td>N/A</td>\n",
       "      <td>N/A</td>\n",
       "      <td>967761</td>\n",
       "    </tr>\n",
       "  </tbody>\n",
       "</table>\n",
       "</div>"
      ],
      "text/plain": [
       "     geoNetwork.city geoNetwork.region       0\n",
       "1058             N/A               N/A  967761"
      ]
     },
     "execution_count": 374,
     "metadata": {},
     "output_type": "execute_result"
    }
   ],
   "source": [
    "city_part = total.groupby(\n",
    "    ['geoNetwork.city', 'geoNetwork.region']).size().reset_index()\n",
    "city_part[(city_part['geoNetwork.city'].duplicated(keep=False)) & (city_part['geoNetwork.region'] == 'N/A')]"
   ]
  },
  {
   "cell_type": "markdown",
   "metadata": {},
   "source": [
    "#### ここまでで、欠損に対する値の補完を行った。次はコンフリクトをチェックする。"
   ]
  },
  {
   "cell_type": "markdown",
   "metadata": {},
   "source": [
    "- 以下の例のように、同じ(city, region)のペアで様々なcountryが入力されている。\n",
    "    - cityがアムステルダムで、regionが北ホラント州なのは、オランダ（Netherlands）である。\n",
    "    - 間違ったcountryが入力されている。"
   ]
  },
  {
   "cell_type": "code",
   "execution_count": 376,
   "metadata": {
    "scrolled": false
   },
   "outputs": [
    {
     "data": {
      "text/html": [
       "<div>\n",
       "<style scoped>\n",
       "    .dataframe tbody tr th:only-of-type {\n",
       "        vertical-align: middle;\n",
       "    }\n",
       "\n",
       "    .dataframe tbody tr th {\n",
       "        vertical-align: top;\n",
       "    }\n",
       "\n",
       "    .dataframe thead th {\n",
       "        text-align: right;\n",
       "    }\n",
       "</style>\n",
       "<table border=\"1\" class=\"dataframe\">\n",
       "  <thead>\n",
       "    <tr style=\"text-align: right;\">\n",
       "      <th></th>\n",
       "      <th>geoNetwork.city</th>\n",
       "      <th>geoNetwork.region</th>\n",
       "      <th>geoNetwork.country</th>\n",
       "      <th>0</th>\n",
       "    </tr>\n",
       "  </thead>\n",
       "  <tbody>\n",
       "    <tr>\n",
       "      <th>5</th>\n",
       "      <td>Abu Dhabi</td>\n",
       "      <td>Abu Dhabi</td>\n",
       "      <td>United Arab Emirates</td>\n",
       "      <td>104</td>\n",
       "    </tr>\n",
       "    <tr>\n",
       "      <th>6</th>\n",
       "      <td>Abu Dhabi</td>\n",
       "      <td>Abu Dhabi</td>\n",
       "      <td>United States</td>\n",
       "      <td>1</td>\n",
       "    </tr>\n",
       "    <tr>\n",
       "      <th>13</th>\n",
       "      <td>Ahmedabad</td>\n",
       "      <td>Gujarat</td>\n",
       "      <td>India</td>\n",
       "      <td>2480</td>\n",
       "    </tr>\n",
       "    <tr>\n",
       "      <th>14</th>\n",
       "      <td>Ahmedabad</td>\n",
       "      <td>Gujarat</td>\n",
       "      <td>United Kingdom</td>\n",
       "      <td>1</td>\n",
       "    </tr>\n",
       "    <tr>\n",
       "      <th>32</th>\n",
       "      <td>Amsterdam</td>\n",
       "      <td>North Holland</td>\n",
       "      <td>Denmark</td>\n",
       "      <td>1</td>\n",
       "    </tr>\n",
       "    <tr>\n",
       "      <th>33</th>\n",
       "      <td>Amsterdam</td>\n",
       "      <td>North Holland</td>\n",
       "      <td>Germany</td>\n",
       "      <td>2</td>\n",
       "    </tr>\n",
       "    <tr>\n",
       "      <th>34</th>\n",
       "      <td>Amsterdam</td>\n",
       "      <td>North Holland</td>\n",
       "      <td>Indonesia</td>\n",
       "      <td>1</td>\n",
       "    </tr>\n",
       "    <tr>\n",
       "      <th>35</th>\n",
       "      <td>Amsterdam</td>\n",
       "      <td>North Holland</td>\n",
       "      <td>Ireland</td>\n",
       "      <td>2</td>\n",
       "    </tr>\n",
       "    <tr>\n",
       "      <th>36</th>\n",
       "      <td>Amsterdam</td>\n",
       "      <td>North Holland</td>\n",
       "      <td>Kenya</td>\n",
       "      <td>1</td>\n",
       "    </tr>\n",
       "    <tr>\n",
       "      <th>37</th>\n",
       "      <td>Amsterdam</td>\n",
       "      <td>North Holland</td>\n",
       "      <td>Netherlands</td>\n",
       "      <td>3434</td>\n",
       "    </tr>\n",
       "  </tbody>\n",
       "</table>\n",
       "</div>"
      ],
      "text/plain": [
       "   geoNetwork.city geoNetwork.region    geoNetwork.country     0\n",
       "5        Abu Dhabi         Abu Dhabi  United Arab Emirates   104\n",
       "6        Abu Dhabi         Abu Dhabi         United States     1\n",
       "13       Ahmedabad           Gujarat                 India  2480\n",
       "14       Ahmedabad           Gujarat        United Kingdom     1\n",
       "32       Amsterdam     North Holland               Denmark     1\n",
       "33       Amsterdam     North Holland               Germany     2\n",
       "34       Amsterdam     North Holland             Indonesia     1\n",
       "35       Amsterdam     North Holland               Ireland     2\n",
       "36       Amsterdam     North Holland                 Kenya     1\n",
       "37       Amsterdam     North Holland           Netherlands  3434"
      ]
     },
     "execution_count": 376,
     "metadata": {},
     "output_type": "execute_result"
    }
   ],
   "source": [
    "selected = total.loc[:, total.columns.isin(geoNetwork_columns)].copy()\n",
    "cc = selected.groupby(['geoNetwork.city', 'geoNetwork.region','geoNetwork.country']).size().reset_index()\n",
    "\n",
    "cc.loc[cc.duplicated(subset=['geoNetwork.city', 'geoNetwork.region'], keep=False)].head(10)"
   ]
  },
  {
   "cell_type": "markdown",
   "metadata": {},
   "source": [
    "- regionしか値が入っていない場合\n",
    "- regionだけで決めつけるのは早計だと思うが、それでも怪しいcountryが存在する。"
   ]
  },
  {
   "cell_type": "code",
   "execution_count": 377,
   "metadata": {
    "scrolled": false
   },
   "outputs": [
    {
     "data": {
      "text/html": [
       "<div>\n",
       "<style scoped>\n",
       "    .dataframe tbody tr th:only-of-type {\n",
       "        vertical-align: middle;\n",
       "    }\n",
       "\n",
       "    .dataframe tbody tr th {\n",
       "        vertical-align: top;\n",
       "    }\n",
       "\n",
       "    .dataframe thead th {\n",
       "        text-align: right;\n",
       "    }\n",
       "</style>\n",
       "<table border=\"1\" class=\"dataframe\">\n",
       "  <thead>\n",
       "    <tr style=\"text-align: right;\">\n",
       "      <th></th>\n",
       "      <th>geoNetwork.city</th>\n",
       "      <th>geoNetwork.region</th>\n",
       "      <th>geoNetwork.country</th>\n",
       "      <th>0</th>\n",
       "    </tr>\n",
       "  </thead>\n",
       "  <tbody>\n",
       "    <tr>\n",
       "      <th>1616</th>\n",
       "      <td>N/A</td>\n",
       "      <td>Baja California</td>\n",
       "      <td>Mexico</td>\n",
       "      <td>172</td>\n",
       "    </tr>\n",
       "    <tr>\n",
       "      <th>1617</th>\n",
       "      <td>N/A</td>\n",
       "      <td>Baja California</td>\n",
       "      <td>United States</td>\n",
       "      <td>5</td>\n",
       "    </tr>\n",
       "    <tr>\n",
       "      <th>1651</th>\n",
       "      <td>N/A</td>\n",
       "      <td>Nevada</td>\n",
       "      <td>Brazil</td>\n",
       "      <td>1</td>\n",
       "    </tr>\n",
       "    <tr>\n",
       "      <th>1652</th>\n",
       "      <td>N/A</td>\n",
       "      <td>Nevada</td>\n",
       "      <td>Canada</td>\n",
       "      <td>1</td>\n",
       "    </tr>\n",
       "    <tr>\n",
       "      <th>1653</th>\n",
       "      <td>N/A</td>\n",
       "      <td>Nevada</td>\n",
       "      <td>Japan</td>\n",
       "      <td>1</td>\n",
       "    </tr>\n",
       "    <tr>\n",
       "      <th>1654</th>\n",
       "      <td>N/A</td>\n",
       "      <td>Nevada</td>\n",
       "      <td>Mexico</td>\n",
       "      <td>2</td>\n",
       "    </tr>\n",
       "    <tr>\n",
       "      <th>1655</th>\n",
       "      <td>N/A</td>\n",
       "      <td>Nevada</td>\n",
       "      <td>United Kingdom</td>\n",
       "      <td>6</td>\n",
       "    </tr>\n",
       "    <tr>\n",
       "      <th>1656</th>\n",
       "      <td>N/A</td>\n",
       "      <td>Nevada</td>\n",
       "      <td>United States</td>\n",
       "      <td>1394</td>\n",
       "    </tr>\n",
       "    <tr>\n",
       "      <th>1657</th>\n",
       "      <td>N/A</td>\n",
       "      <td>New Taipei City</td>\n",
       "      <td>Hong Kong</td>\n",
       "      <td>10</td>\n",
       "    </tr>\n",
       "    <tr>\n",
       "      <th>1658</th>\n",
       "      <td>N/A</td>\n",
       "      <td>New Taipei City</td>\n",
       "      <td>Singapore</td>\n",
       "      <td>2</td>\n",
       "    </tr>\n",
       "    <tr>\n",
       "      <th>1659</th>\n",
       "      <td>N/A</td>\n",
       "      <td>New Taipei City</td>\n",
       "      <td>Taiwan</td>\n",
       "      <td>3002</td>\n",
       "    </tr>\n",
       "    <tr>\n",
       "      <th>1660</th>\n",
       "      <td>N/A</td>\n",
       "      <td>New Taipei City</td>\n",
       "      <td>Thailand</td>\n",
       "      <td>1</td>\n",
       "    </tr>\n",
       "    <tr>\n",
       "      <th>1661</th>\n",
       "      <td>N/A</td>\n",
       "      <td>New Taipei City</td>\n",
       "      <td>United States</td>\n",
       "      <td>11</td>\n",
       "    </tr>\n",
       "    <tr>\n",
       "      <th>1685</th>\n",
       "      <td>N/A</td>\n",
       "      <td>Taichung City</td>\n",
       "      <td>Hong Kong</td>\n",
       "      <td>1</td>\n",
       "    </tr>\n",
       "    <tr>\n",
       "      <th>1686</th>\n",
       "      <td>N/A</td>\n",
       "      <td>Taichung City</td>\n",
       "      <td>Taiwan</td>\n",
       "      <td>773</td>\n",
       "    </tr>\n",
       "  </tbody>\n",
       "</table>\n",
       "</div>"
      ],
      "text/plain": [
       "     geoNetwork.city geoNetwork.region geoNetwork.country     0\n",
       "1616             N/A   Baja California             Mexico   172\n",
       "1617             N/A   Baja California      United States     5\n",
       "1651             N/A            Nevada             Brazil     1\n",
       "1652             N/A            Nevada             Canada     1\n",
       "1653             N/A            Nevada              Japan     1\n",
       "1654             N/A            Nevada             Mexico     2\n",
       "1655             N/A            Nevada     United Kingdom     6\n",
       "1656             N/A            Nevada      United States  1394\n",
       "1657             N/A   New Taipei City          Hong Kong    10\n",
       "1658             N/A   New Taipei City          Singapore     2\n",
       "1659             N/A   New Taipei City             Taiwan  3002\n",
       "1660             N/A   New Taipei City           Thailand     1\n",
       "1661             N/A   New Taipei City      United States    11\n",
       "1685             N/A     Taichung City          Hong Kong     1\n",
       "1686             N/A     Taichung City             Taiwan   773"
      ]
     },
     "execution_count": 377,
     "metadata": {},
     "output_type": "execute_result"
    }
   ],
   "source": [
    "result = cc.loc[(cc['geoNetwork.region']!='N/A') & (cc['geoNetwork.city']=='N/A')]\n",
    "result[result['geoNetwork.region'].duplicated(keep=False)]"
   ]
  },
  {
   "cell_type": "markdown",
   "metadata": {},
   "source": [
    "- cityしか値が入っていない場合\n",
    "- これも怪しい。"
   ]
  },
  {
   "cell_type": "code",
   "execution_count": 378,
   "metadata": {},
   "outputs": [
    {
     "data": {
      "text/html": [
       "<div>\n",
       "<style scoped>\n",
       "    .dataframe tbody tr th:only-of-type {\n",
       "        vertical-align: middle;\n",
       "    }\n",
       "\n",
       "    .dataframe tbody tr th {\n",
       "        vertical-align: top;\n",
       "    }\n",
       "\n",
       "    .dataframe thead th {\n",
       "        text-align: right;\n",
       "    }\n",
       "</style>\n",
       "<table border=\"1\" class=\"dataframe\">\n",
       "  <thead>\n",
       "    <tr style=\"text-align: right;\">\n",
       "      <th></th>\n",
       "      <th>geoNetwork.city</th>\n",
       "      <th>geoNetwork.region</th>\n",
       "      <th>geoNetwork.country</th>\n",
       "      <th>0</th>\n",
       "    </tr>\n",
       "  </thead>\n",
       "  <tbody>\n",
       "    <tr>\n",
       "      <th>532</th>\n",
       "      <td>Hong Kong</td>\n",
       "      <td>N/A</td>\n",
       "      <td>China</td>\n",
       "      <td>2</td>\n",
       "    </tr>\n",
       "    <tr>\n",
       "      <th>533</th>\n",
       "      <td>Hong Kong</td>\n",
       "      <td>N/A</td>\n",
       "      <td>Hong Kong</td>\n",
       "      <td>6232</td>\n",
       "    </tr>\n",
       "    <tr>\n",
       "      <th>534</th>\n",
       "      <td>Hong Kong</td>\n",
       "      <td>N/A</td>\n",
       "      <td>Indonesia</td>\n",
       "      <td>1</td>\n",
       "    </tr>\n",
       "    <tr>\n",
       "      <th>535</th>\n",
       "      <td>Hong Kong</td>\n",
       "      <td>N/A</td>\n",
       "      <td>Japan</td>\n",
       "      <td>6</td>\n",
       "    </tr>\n",
       "    <tr>\n",
       "      <th>536</th>\n",
       "      <td>Hong Kong</td>\n",
       "      <td>N/A</td>\n",
       "      <td>Singapore</td>\n",
       "      <td>1</td>\n",
       "    </tr>\n",
       "    <tr>\n",
       "      <th>537</th>\n",
       "      <td>Hong Kong</td>\n",
       "      <td>N/A</td>\n",
       "      <td>Taiwan</td>\n",
       "      <td>11</td>\n",
       "    </tr>\n",
       "    <tr>\n",
       "      <th>538</th>\n",
       "      <td>Hong Kong</td>\n",
       "      <td>N/A</td>\n",
       "      <td>Thailand</td>\n",
       "      <td>1</td>\n",
       "    </tr>\n",
       "    <tr>\n",
       "      <th>539</th>\n",
       "      <td>Hong Kong</td>\n",
       "      <td>N/A</td>\n",
       "      <td>United Kingdom</td>\n",
       "      <td>1</td>\n",
       "    </tr>\n",
       "    <tr>\n",
       "      <th>540</th>\n",
       "      <td>Hong Kong</td>\n",
       "      <td>N/A</td>\n",
       "      <td>United States</td>\n",
       "      <td>22</td>\n",
       "    </tr>\n",
       "    <tr>\n",
       "      <th>541</th>\n",
       "      <td>Hong Kong</td>\n",
       "      <td>N/A</td>\n",
       "      <td>N/A</td>\n",
       "      <td>1</td>\n",
       "    </tr>\n",
       "    <tr>\n",
       "      <th>1342</th>\n",
       "      <td>Singapore</td>\n",
       "      <td>N/A</td>\n",
       "      <td>Australia</td>\n",
       "      <td>8</td>\n",
       "    </tr>\n",
       "    <tr>\n",
       "      <th>1343</th>\n",
       "      <td>Singapore</td>\n",
       "      <td>N/A</td>\n",
       "      <td>Canada</td>\n",
       "      <td>4</td>\n",
       "    </tr>\n",
       "    <tr>\n",
       "      <th>1344</th>\n",
       "      <td>Singapore</td>\n",
       "      <td>N/A</td>\n",
       "      <td>France</td>\n",
       "      <td>2</td>\n",
       "    </tr>\n",
       "    <tr>\n",
       "      <th>1345</th>\n",
       "      <td>Singapore</td>\n",
       "      <td>N/A</td>\n",
       "      <td>Germany</td>\n",
       "      <td>2</td>\n",
       "    </tr>\n",
       "    <tr>\n",
       "      <th>1346</th>\n",
       "      <td>Singapore</td>\n",
       "      <td>N/A</td>\n",
       "      <td>India</td>\n",
       "      <td>1</td>\n",
       "    </tr>\n",
       "    <tr>\n",
       "      <th>1347</th>\n",
       "      <td>Singapore</td>\n",
       "      <td>N/A</td>\n",
       "      <td>Indonesia</td>\n",
       "      <td>2</td>\n",
       "    </tr>\n",
       "    <tr>\n",
       "      <th>1348</th>\n",
       "      <td>Singapore</td>\n",
       "      <td>N/A</td>\n",
       "      <td>Ireland</td>\n",
       "      <td>2</td>\n",
       "    </tr>\n",
       "    <tr>\n",
       "      <th>1349</th>\n",
       "      <td>Singapore</td>\n",
       "      <td>N/A</td>\n",
       "      <td>Japan</td>\n",
       "      <td>2</td>\n",
       "    </tr>\n",
       "    <tr>\n",
       "      <th>1350</th>\n",
       "      <td>Singapore</td>\n",
       "      <td>N/A</td>\n",
       "      <td>Malaysia</td>\n",
       "      <td>2</td>\n",
       "    </tr>\n",
       "    <tr>\n",
       "      <th>1351</th>\n",
       "      <td>Singapore</td>\n",
       "      <td>N/A</td>\n",
       "      <td>Netherlands</td>\n",
       "      <td>3</td>\n",
       "    </tr>\n",
       "    <tr>\n",
       "      <th>1352</th>\n",
       "      <td>Singapore</td>\n",
       "      <td>N/A</td>\n",
       "      <td>Philippines</td>\n",
       "      <td>17</td>\n",
       "    </tr>\n",
       "    <tr>\n",
       "      <th>1353</th>\n",
       "      <td>Singapore</td>\n",
       "      <td>N/A</td>\n",
       "      <td>Singapore</td>\n",
       "      <td>6388</td>\n",
       "    </tr>\n",
       "    <tr>\n",
       "      <th>1354</th>\n",
       "      <td>Singapore</td>\n",
       "      <td>N/A</td>\n",
       "      <td>Taiwan</td>\n",
       "      <td>2</td>\n",
       "    </tr>\n",
       "    <tr>\n",
       "      <th>1355</th>\n",
       "      <td>Singapore</td>\n",
       "      <td>N/A</td>\n",
       "      <td>Thailand</td>\n",
       "      <td>1</td>\n",
       "    </tr>\n",
       "    <tr>\n",
       "      <th>1356</th>\n",
       "      <td>Singapore</td>\n",
       "      <td>N/A</td>\n",
       "      <td>United States</td>\n",
       "      <td>38</td>\n",
       "    </tr>\n",
       "    <tr>\n",
       "      <th>1357</th>\n",
       "      <td>Singapore</td>\n",
       "      <td>N/A</td>\n",
       "      <td>Vietnam</td>\n",
       "      <td>1</td>\n",
       "    </tr>\n",
       "    <tr>\n",
       "      <th>1495</th>\n",
       "      <td>Tunis</td>\n",
       "      <td>N/A</td>\n",
       "      <td>Tunisia</td>\n",
       "      <td>735</td>\n",
       "    </tr>\n",
       "    <tr>\n",
       "      <th>1496</th>\n",
       "      <td>Tunis</td>\n",
       "      <td>N/A</td>\n",
       "      <td>United States</td>\n",
       "      <td>4</td>\n",
       "    </tr>\n",
       "    <tr>\n",
       "      <th>1497</th>\n",
       "      <td>Tunis</td>\n",
       "      <td>N/A</td>\n",
       "      <td>N/A</td>\n",
       "      <td>1</td>\n",
       "    </tr>\n",
       "  </tbody>\n",
       "</table>\n",
       "</div>"
      ],
      "text/plain": [
       "     geoNetwork.city geoNetwork.region geoNetwork.country     0\n",
       "532        Hong Kong               N/A              China     2\n",
       "533        Hong Kong               N/A          Hong Kong  6232\n",
       "534        Hong Kong               N/A          Indonesia     1\n",
       "535        Hong Kong               N/A              Japan     6\n",
       "536        Hong Kong               N/A          Singapore     1\n",
       "537        Hong Kong               N/A             Taiwan    11\n",
       "538        Hong Kong               N/A           Thailand     1\n",
       "539        Hong Kong               N/A     United Kingdom     1\n",
       "540        Hong Kong               N/A      United States    22\n",
       "541        Hong Kong               N/A                N/A     1\n",
       "1342       Singapore               N/A          Australia     8\n",
       "1343       Singapore               N/A             Canada     4\n",
       "1344       Singapore               N/A             France     2\n",
       "1345       Singapore               N/A            Germany     2\n",
       "1346       Singapore               N/A              India     1\n",
       "1347       Singapore               N/A          Indonesia     2\n",
       "1348       Singapore               N/A            Ireland     2\n",
       "1349       Singapore               N/A              Japan     2\n",
       "1350       Singapore               N/A           Malaysia     2\n",
       "1351       Singapore               N/A        Netherlands     3\n",
       "1352       Singapore               N/A        Philippines    17\n",
       "1353       Singapore               N/A          Singapore  6388\n",
       "1354       Singapore               N/A             Taiwan     2\n",
       "1355       Singapore               N/A           Thailand     1\n",
       "1356       Singapore               N/A      United States    38\n",
       "1357       Singapore               N/A            Vietnam     1\n",
       "1495           Tunis               N/A            Tunisia   735\n",
       "1496           Tunis               N/A      United States     4\n",
       "1497           Tunis               N/A                N/A     1"
      ]
     },
     "execution_count": 378,
     "metadata": {},
     "output_type": "execute_result"
    }
   ],
   "source": [
    "result = cc.loc[(cc['geoNetwork.region']=='N/A') & (cc['geoNetwork.city']!='N/A')]\n",
    "result[result['geoNetwork.city'].duplicated(keep=False)]"
   ]
  },
  {
   "cell_type": "markdown",
   "metadata": {},
   "source": [
    "- 最も入力されているもので代入することで、countryの修正を行う。"
   ]
  },
  {
   "cell_type": "code",
   "execution_count": 379,
   "metadata": {},
   "outputs": [
    {
     "data": {
      "text/html": [
       "<div>\n",
       "<style scoped>\n",
       "    .dataframe tbody tr th:only-of-type {\n",
       "        vertical-align: middle;\n",
       "    }\n",
       "\n",
       "    .dataframe tbody tr th {\n",
       "        vertical-align: top;\n",
       "    }\n",
       "\n",
       "    .dataframe thead th {\n",
       "        text-align: right;\n",
       "    }\n",
       "</style>\n",
       "<table border=\"1\" class=\"dataframe\">\n",
       "  <thead>\n",
       "    <tr style=\"text-align: right;\">\n",
       "      <th></th>\n",
       "      <th>geoNetwork.city</th>\n",
       "      <th>geoNetwork.region</th>\n",
       "      <th>level_2</th>\n",
       "      <th>geoNetwork.country</th>\n",
       "    </tr>\n",
       "  </thead>\n",
       "  <tbody>\n",
       "    <tr>\n",
       "      <th>0</th>\n",
       "      <td>'s Hertogenbosch</td>\n",
       "      <td>North Brabant</td>\n",
       "      <td>0</td>\n",
       "      <td>Netherlands</td>\n",
       "    </tr>\n",
       "    <tr>\n",
       "      <th>1</th>\n",
       "      <td>Aachen</td>\n",
       "      <td>North Rhine-Westphalia</td>\n",
       "      <td>0</td>\n",
       "      <td>Germany</td>\n",
       "    </tr>\n",
       "    <tr>\n",
       "      <th>2</th>\n",
       "      <td>Aalborg</td>\n",
       "      <td>North Denmark Region</td>\n",
       "      <td>0</td>\n",
       "      <td>Denmark</td>\n",
       "    </tr>\n",
       "    <tr>\n",
       "      <th>3</th>\n",
       "      <td>Aalen</td>\n",
       "      <td>Baden-Wurttemberg</td>\n",
       "      <td>0</td>\n",
       "      <td>Germany</td>\n",
       "    </tr>\n",
       "    <tr>\n",
       "      <th>4</th>\n",
       "      <td>Aberdeen</td>\n",
       "      <td>Scotland</td>\n",
       "      <td>0</td>\n",
       "      <td>United Kingdom</td>\n",
       "    </tr>\n",
       "  </tbody>\n",
       "</table>\n",
       "</div>"
      ],
      "text/plain": [
       "    geoNetwork.city       geoNetwork.region  level_2 geoNetwork.country\n",
       "0  's Hertogenbosch           North Brabant        0        Netherlands\n",
       "1            Aachen  North Rhine-Westphalia        0            Germany\n",
       "2           Aalborg    North Denmark Region        0            Denmark\n",
       "3             Aalen       Baden-Wurttemberg        0            Germany\n",
       "4          Aberdeen                Scotland        0     United Kingdom"
      ]
     },
     "execution_count": 379,
     "metadata": {},
     "output_type": "execute_result"
    }
   ],
   "source": [
    "most_common = total.groupby([\n",
    "    'geoNetwork.city', 'geoNetwork.region'\n",
    "])['geoNetwork.country'].apply(lambda x: x.mode()).reset_index()\n",
    "most_common.head()"
   ]
  },
  {
   "cell_type": "code",
   "execution_count": 380,
   "metadata": {
    "scrolled": true
   },
   "outputs": [],
   "source": [
    "for idx, row in most_common.iterrows():\n",
    "    total.loc[(total['geoNetwork.city'] == row['geoNetwork.city']) &\n",
    "            (total['geoNetwork.region'] == row['geoNetwork.region']) &\n",
    "            ((total['geoNetwork.city'] != 'N/A') |\n",
    "             ((total['geoNetwork.region'] != 'N/A'))\n",
    "             ), 'geoNetwork.country'] = row['geoNetwork.country']"
   ]
  },
  {
   "cell_type": "markdown",
   "metadata": {},
   "source": [
    "- 確認"
   ]
  },
  {
   "cell_type": "code",
   "execution_count": 381,
   "metadata": {
    "scrolled": true
   },
   "outputs": [
    {
     "data": {
      "text/html": [
       "<div>\n",
       "<style scoped>\n",
       "    .dataframe tbody tr th:only-of-type {\n",
       "        vertical-align: middle;\n",
       "    }\n",
       "\n",
       "    .dataframe tbody tr th {\n",
       "        vertical-align: top;\n",
       "    }\n",
       "\n",
       "    .dataframe thead th {\n",
       "        text-align: right;\n",
       "    }\n",
       "</style>\n",
       "<table border=\"1\" class=\"dataframe\">\n",
       "  <thead>\n",
       "    <tr style=\"text-align: right;\">\n",
       "      <th></th>\n",
       "      <th>geoNetwork.city</th>\n",
       "      <th>geoNetwork.region</th>\n",
       "      <th>geoNetwork.country</th>\n",
       "      <th>0</th>\n",
       "    </tr>\n",
       "  </thead>\n",
       "  <tbody>\n",
       "    <tr>\n",
       "      <th>1058</th>\n",
       "      <td>N/A</td>\n",
       "      <td>N/A</td>\n",
       "      <td>Afghanistan</td>\n",
       "      <td>133</td>\n",
       "    </tr>\n",
       "    <tr>\n",
       "      <th>1059</th>\n",
       "      <td>N/A</td>\n",
       "      <td>N/A</td>\n",
       "      <td>Albania</td>\n",
       "      <td>737</td>\n",
       "    </tr>\n",
       "    <tr>\n",
       "      <th>1060</th>\n",
       "      <td>N/A</td>\n",
       "      <td>N/A</td>\n",
       "      <td>Algeria</td>\n",
       "      <td>3152</td>\n",
       "    </tr>\n",
       "    <tr>\n",
       "      <th>1061</th>\n",
       "      <td>N/A</td>\n",
       "      <td>N/A</td>\n",
       "      <td>American Samoa</td>\n",
       "      <td>2</td>\n",
       "    </tr>\n",
       "    <tr>\n",
       "      <th>1062</th>\n",
       "      <td>N/A</td>\n",
       "      <td>N/A</td>\n",
       "      <td>Andorra</td>\n",
       "      <td>43</td>\n",
       "    </tr>\n",
       "    <tr>\n",
       "      <th>1063</th>\n",
       "      <td>N/A</td>\n",
       "      <td>N/A</td>\n",
       "      <td>Angola</td>\n",
       "      <td>118</td>\n",
       "    </tr>\n",
       "    <tr>\n",
       "      <th>1064</th>\n",
       "      <td>N/A</td>\n",
       "      <td>N/A</td>\n",
       "      <td>Anguilla</td>\n",
       "      <td>1</td>\n",
       "    </tr>\n",
       "    <tr>\n",
       "      <th>1065</th>\n",
       "      <td>N/A</td>\n",
       "      <td>N/A</td>\n",
       "      <td>Antigua &amp; Barbuda</td>\n",
       "      <td>14</td>\n",
       "    </tr>\n",
       "    <tr>\n",
       "      <th>1066</th>\n",
       "      <td>N/A</td>\n",
       "      <td>N/A</td>\n",
       "      <td>Argentina</td>\n",
       "      <td>6373</td>\n",
       "    </tr>\n",
       "    <tr>\n",
       "      <th>1067</th>\n",
       "      <td>N/A</td>\n",
       "      <td>N/A</td>\n",
       "      <td>Armenia</td>\n",
       "      <td>442</td>\n",
       "    </tr>\n",
       "  </tbody>\n",
       "</table>\n",
       "</div>"
      ],
      "text/plain": [
       "     geoNetwork.city geoNetwork.region geoNetwork.country     0\n",
       "1058             N/A               N/A        Afghanistan   133\n",
       "1059             N/A               N/A            Albania   737\n",
       "1060             N/A               N/A            Algeria  3152\n",
       "1061             N/A               N/A     American Samoa     2\n",
       "1062             N/A               N/A            Andorra    43\n",
       "1063             N/A               N/A             Angola   118\n",
       "1064             N/A               N/A           Anguilla     1\n",
       "1065             N/A               N/A  Antigua & Barbuda    14\n",
       "1066             N/A               N/A          Argentina  6373\n",
       "1067             N/A               N/A            Armenia   442"
      ]
     },
     "execution_count": 381,
     "metadata": {},
     "output_type": "execute_result"
    }
   ],
   "source": [
    "selected = total.loc[:, total.columns.isin(geoNetwork_columns)].copy()\n",
    "cc = selected.groupby(['geoNetwork.city', 'geoNetwork.region','geoNetwork.country']).size().reset_index()\n",
    "\n",
    "cc.loc[cc.duplicated(subset=['geoNetwork.city', 'geoNetwork.region'], keep=False)].head(10)"
   ]
  },
  {
   "cell_type": "code",
   "execution_count": 382,
   "metadata": {
    "scrolled": false
   },
   "outputs": [
    {
     "data": {
      "text/html": [
       "<div>\n",
       "<style scoped>\n",
       "    .dataframe tbody tr th:only-of-type {\n",
       "        vertical-align: middle;\n",
       "    }\n",
       "\n",
       "    .dataframe tbody tr th {\n",
       "        vertical-align: top;\n",
       "    }\n",
       "\n",
       "    .dataframe thead th {\n",
       "        text-align: right;\n",
       "    }\n",
       "</style>\n",
       "<table border=\"1\" class=\"dataframe\">\n",
       "  <thead>\n",
       "    <tr style=\"text-align: right;\">\n",
       "      <th></th>\n",
       "      <th>geoNetwork.city</th>\n",
       "      <th>geoNetwork.region</th>\n",
       "      <th>geoNetwork.country</th>\n",
       "      <th>0</th>\n",
       "    </tr>\n",
       "  </thead>\n",
       "  <tbody>\n",
       "  </tbody>\n",
       "</table>\n",
       "</div>"
      ],
      "text/plain": [
       "Empty DataFrame\n",
       "Columns: [geoNetwork.city, geoNetwork.region, geoNetwork.country, 0]\n",
       "Index: []"
      ]
     },
     "execution_count": 382,
     "metadata": {},
     "output_type": "execute_result"
    }
   ],
   "source": [
    "result = cc.loc[(cc['geoNetwork.region']!='N/A') & (cc['geoNetwork.city']=='N/A')]\n",
    "result[result['geoNetwork.region'].duplicated(keep=False)]"
   ]
  },
  {
   "cell_type": "code",
   "execution_count": 383,
   "metadata": {},
   "outputs": [
    {
     "data": {
      "text/html": [
       "<div>\n",
       "<style scoped>\n",
       "    .dataframe tbody tr th:only-of-type {\n",
       "        vertical-align: middle;\n",
       "    }\n",
       "\n",
       "    .dataframe tbody tr th {\n",
       "        vertical-align: top;\n",
       "    }\n",
       "\n",
       "    .dataframe thead th {\n",
       "        text-align: right;\n",
       "    }\n",
       "</style>\n",
       "<table border=\"1\" class=\"dataframe\">\n",
       "  <thead>\n",
       "    <tr style=\"text-align: right;\">\n",
       "      <th></th>\n",
       "      <th>geoNetwork.city</th>\n",
       "      <th>geoNetwork.region</th>\n",
       "      <th>geoNetwork.country</th>\n",
       "      <th>0</th>\n",
       "    </tr>\n",
       "  </thead>\n",
       "  <tbody>\n",
       "  </tbody>\n",
       "</table>\n",
       "</div>"
      ],
      "text/plain": [
       "Empty DataFrame\n",
       "Columns: [geoNetwork.city, geoNetwork.region, geoNetwork.country, 0]\n",
       "Index: []"
      ]
     },
     "execution_count": 383,
     "metadata": {},
     "output_type": "execute_result"
    }
   ],
   "source": [
    "result = cc.loc[(cc['geoNetwork.region']=='N/A') & (cc['geoNetwork.city']!='N/A')]\n",
    "result[result['geoNetwork.city'].duplicated(keep=False)]"
   ]
  },
  {
   "cell_type": "code",
   "execution_count": 384,
   "metadata": {},
   "outputs": [
    {
     "data": {
      "text/plain": [
       "(222, 219)"
      ]
     },
     "execution_count": 384,
     "metadata": {},
     "output_type": "execute_result"
    }
   ],
   "source": [
    "total.loc[train_index]['geoNetwork.country'].nunique(), total.loc[test_index]['geoNetwork.country'].nunique()"
   ]
  }
 ],
 "metadata": {
  "kernelspec": {
   "display_name": "Python 3",
   "language": "python",
   "name": "python3"
  },
  "language_info": {
   "codemirror_mode": {
    "name": "ipython",
    "version": 3
   },
   "file_extension": ".py",
   "mimetype": "text/x-python",
   "name": "python",
   "nbconvert_exporter": "python",
   "pygments_lexer": "ipython3",
   "version": "3.6.5"
  }
 },
 "nbformat": 4,
 "nbformat_minor": 2
}
